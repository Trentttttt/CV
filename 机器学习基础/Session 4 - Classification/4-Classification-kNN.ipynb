{
 "cells": [
  {
   "cell_type": "markdown",
   "metadata": {},
   "source": [
    "# 0. Abstract and Outline"
   ]
  },
  {
   "cell_type": "markdown",
   "metadata": {},
   "source": [
    "The purpose of this document is to discuss the classification problem from a little bit abstract and general perspective. Particular emphasis will be given to the idea of generalization, i.e., the performance of the model on the underlying distribution that generates the data. We will also introduce the k-nearest neighbors model, which is an intuitive, powerful (in terms of prediction accuracy), but not so fast/scalable approach to address a generic prediction problem with discrete outcome variables. The kNN model will also be applied to address the long-term user retention prediction problem at Kwai. This document will present modeling details, case study, and Python code. \n",
    "\n",
    "Below is the outline of this document:\n",
    "\n",
    "- In [Section 1](#section_1), we introduce a general framework for classification models evaluated under the \"true\" underlying data generating process. We also discuss the key challenge of predictive modeling that the underlying population distribution is unknown.\n",
    "\n",
    "- In [Section 2](#section_2), we present the $k-$NN and discuss how it can be fitted. Applying $k-$NN to the case of predicting long-term user retention with short-term consumption features is also discussed.\n",
    "\n",
    "- In [Section 3](#section_3), we provide several remarks on the $k-$NN model, including its model complexity, accuracy, speed, and the $k-$NN regression model."
   ]
  },
  {
   "cell_type": "markdown",
   "metadata": {},
   "source": [
    "<a id='section_1'></a>\n",
    "# 1. A General Framework for Classification"
   ]
  },
  {
   "cell_type": "markdown",
   "metadata": {},
   "source": [
    "We have witnessed an inherent tension when working with models. Any model is a simplified abstraction of reality and is \"always wrong\". The linear and generalized linear models such as linear regression and logistic regression explicitly make very strong assumptions for the probablistic process that actually generates the data (we call this process the data generating process). Both models assume certain functional forms of the relationship between outcome $Y$ and feature $X$, as well as the distributions of the random noises associated with the data. One may wonder, if the strong assumptions are invalidated (which is likely to be the case in practice), how we could make accurate predictions in this case. \n",
    "\n",
    "Therefore, we would like to first develop a general framework for classification problems. Examples include predicting\n",
    "  \n",
    "- Whether a user will watch a movie on Netflix;\n",
    "- Whether a user will click an advertisement on Kwai;\n",
    "- Whether a patient has lung cancer;\n",
    "- Whether an email is spam;\n",
    "- Whether a program should admit a new student;\n",
    "- Many others where the outcome is discrete.\n",
    "\n",
    "\n",
    "For expositional simplicity, we assume $Y\\in\\{0,1\\}$ in this document, i.e., we consider a binary classification. As discussed earlier, the modeling effort should seek to achieve the goal that the prediction error can be controlled as small as possible under the underlying distribution or data generating process of the circumstances where your classifier will be used. For example, if Netflix builds a classification model to predict whether a user will watch a movie, the goal should be that the model can accurately predict whether a randomly sampled user will like a randomly chosen movie on the platform. As a supervised learning paradigm, a classification is trained by examples. Therefore, we assume the training data set $\\mathcal D:=\\{Y_i\\in\\{0,1\\},X_{ij}:1\\le i\\le n,1\\le j \\le p\\}$ is generated from **the same data generating process as the entire population** of interest. We are now ready to formulate the classification problem in the following abstract framework. \n",
    "\n",
    "----\n",
    "\n",
    "<span style=\"font-family:Comic Sans MS\">\n",
    "    <p style=\"color:red\">\n",
    "Given a training data set $\\mathcal D:=\\{Y_i\\in\\{0,1\\},X_{ij}:1\\le i\\le n,1\\le j \\le p\\}$, we seek to find a classifier $\\hat f(\\cdot)$ (also known as a model) which maps from a feature $X$ to the outcomes $\\{0,1\\}$ so that the prediction error under the distribution that generates $\\mathcal D$ (equivalently the entire population) is minimized.\n",
    "        </p>\n",
    "</span>    \n",
    "\n",
    "----\n",
    "\n",
    "For this document, we confine ourselves to the 0-1 loss as the metric to model performance. Specifically, we are interested in minimizing \n",
    "\n",
    "$$\\mbox{0-1 Loss}=\\mathbb P[\\hat f(X)\\ne Y]$$\n",
    "\n",
    "where the probability is calculated under the \"true\" data generating process under which the data $(X,Y)$ is generated. The 0-1 feature simply measures the probability that the classifier will make a wrong prediction, which should be a natural choice of error function under the true distribution that generates the data. One should also note that other commonly used performance measures, such as overall accuracy, false-negative rate, false-positive rate, recall (sensitivity), specificity, precision, receiver operator characteristics (ROC) curve, and area under the curve (AUC) can all be evaluated under the true data generating process. Specifically, we have: \n",
    "\n",
    "- Overall Accuracy = $\\mathbb P[\\hat f(X)= Y]$, i.e., the probability that the model makes a correct prediction;\n",
    "- False-positive rate = $\\mathbb P[\\hat f(X) \\ne Y|Y=0]$, i.e., conditioned on that the actual outcome is negative, the probability that the model makes a wrong prediction;\n",
    "- False-negative rate = $\\mathbb P[\\hat f(X) \\ne Y|Y=1]$, i.e., conditioned on that the actual outcome is positive, the probability that the model makes a wrong prediction;\n",
    "- Recall (sensitivity) = $\\mathbb P[\\hat f(X) = Y|Y=1]$, i.e., conditioned on that the actual outcome is positive, the probability that the model makes a correct prediction;\n",
    "- Specificity = $\\mathbb P[\\hat f(X) = Y|Y=0]$, i.e., conditioned on that the actual outcome is negative, the probability that the model makes a correct prediction;\n",
    "- Precision = $\\mathbb P[\\hat f(X) = Y|\\hat f(X)=1]$, i.e., conditioned on that the predicted outcome is positive, the probability that the model makes a correct prediction;\n",
    "\n",
    "where the above probabilities are all calculated under the \"true\" data generating process. For ROC and AUC, we need a model $\\hat g(X)=\\hat{\\mathbb P}[Y=1|X]$ (such as logistic regression) to predict the conditional probability of a positive outcome given feature $X$. We leave it as an (optional) exercise to plot ROC and compute AUC in this case.   "
   ]
  },
  {
   "cell_type": "markdown",
   "metadata": {},
   "source": [
    "## 1.2. Minimizing the 0-1 Loss"
   ]
  },
  {
   "cell_type": "markdown",
   "metadata": {},
   "source": [
    "Given the general framework, we now discuss how to minimize the 0-1 Loss $\\mathbb P[\\hat f(X)\\ne Y]$. It is clear from our formulation that the classifier $\\hat f(\\cdot)$ that minimizes the 0-1 Loss should satisfy that, for any given $X$, the conditional 0-1 Loss should be minimized, i.e.,:\n",
    "\n",
    "<font color=red>\n",
    "    \n",
    "$$\\hat f(\\cdot)=\\mbox{argmin}_{\\hat F(\\cdot)}\\mathbb P[\\hat F(X)\\ne Y|X]\\mbox{ for any feature vector }X.$$\n",
    "\n",
    "</font>\n",
    "\n",
    "where the probability is taken under the true data generating process. To solve the above minimization problem, we do a simple conditional probability transformation:\n",
    "\n",
    "$$\\mathbb P[\\hat F(X)\\ne Y|X]=\\mathbb P[\\hat F(X)\\ne Y,Y=1|X]+\\mathbb P[\\hat F(X)\\ne Y,Y=0|X]=\\mathbb P[\\hat F(X)=0,Y=1|X]+\\mathbb P[\\hat F(X)=1,Y=0|X]=\\begin{cases}\n",
    "\\mathbb P[Y=1|X],\\mbox{ if }\\hat F(X)=0;\\\\\n",
    "\\mathbb P[Y=0|X],\\mbox{ if }\\hat F(X)=1.\n",
    "\\end{cases}\n",
    "$$\n",
    "\n",
    "Define $P:=\\mathbb P[Y=1|X]$, so $\\mathbb P[Y=0|X]=1-P$. We have the 0-1 Loss associated with the classifier $\\hat F(\\cdot)$ is:\n",
    "\n",
    "$$\\mathbb P[\\hat F(X)\\ne Y|X]=\\begin{cases}\n",
    "P,\\mbox{ if }\\hat F(X)=0;\\\\\n",
    "1-P,\\mbox{ if }\\hat F(X)=1.\n",
    "\\end{cases}$$\n",
    "\n",
    "Furthermore, if $P=\\mathbb P[Y=1|X]\\le 0.5$, $P\\le 1-P$, $\\hat F(X)=0$ yields a lower 0-1 Loss; otherwise, $P>0.5$, $1-P<P$, $\\hat F(X)=1$ yields a lower 0-1 Loss. Therefore, the classifier that minimizes the 0-1 Loss, $\\hat f(\\cdot)$ is given by:\n",
    "\n",
    "<font color=red>\n",
    "$$\\hat f(X)=\n",
    "\\begin{cases}\n",
    "1,\\mbox{ if }\\mathbb P[Y=1|X]>0.5\\\\\n",
    "0,\\mbox{ if }\\mathbb P[Y=1|X]\\le0.5\n",
    "\\end{cases}\n",
    "$$\n",
    "</font>\n",
    "    \n",
    "    \n",
    "This classifier is also very intuitive. To minimize the 0-1 Loss conditioned on feature $X$, it simply predicts the more likely outcome given $X$. The classification problem then boils down to estimate the conditional probability of positive outcome given feature $X$, $\\mathbb P[Y=1|X]$. In practice, we are unable to know the \"true\" underlying population distribution that generates $(X,Y)$, computing $\\mathbb P[Y=1|X]$ is infeasible. Therefore, we need to use some approximation approach to calculate $\\mathbb P[Y=1|X]$ given $X$. Logistic regression is one popular approximation scheme which we assume $\\mathbb P[Y=1|X]=\\frac{\\exp(\\beta_0+\\sum_{j=1}^p\\beta_jX_{ij})}{1+\\exp(\\beta_0+\\sum_{j=1}^p\\beta_jX_{ij})}$ and use the fitted logistic regression model \n",
    "$\\hat{\\mathbb P}[Y=1|X]=\\frac{\\exp(\\hat\\beta_0+\\sum_{j=1}^p\\hat\\beta_jX_{ij})}{1+\\exp(\\hat\\beta_0+\\sum_{j=1}^p\\hat\\beta_jX_{ij})}$ to approximate $\\mathbb P[Y=1|X]$. Recall that the logistic regression model is essentially a linear classifier. For some circumstances, the data is generated in a nonlinear fashion, like in the following figure:\n",
    "\n",
    "<img src=\"logistic-not-valid.png\" width=500>\n",
    "\n",
    "Clearly, it does not exist a line that accurately classify the data for this problem. In the next section, we introduce another classification model that works well even if the underlying data generating process is non-linear."
   ]
  },
  {
   "cell_type": "markdown",
   "metadata": {},
   "source": [
    "<a id='section_2'></a>\n",
    "# 2. $k-$Nearest Neighbors ($k-$NN) Model"
   ]
  },
  {
   "cell_type": "markdown",
   "metadata": {},
   "source": [
    "Another widely used model for classification is the **$k-$Nearest Neighbors ($k-$NN) model** ([Wiki Page](https://en.wikipedia.org/wiki/K-nearest_neighbors_algorithm)). This model estimates $\\mathbb P[Y=1|X]$ and builds a classifier by local averaging. The key assumption of the $k-$NN model is that the distance (in the feature space) reliably reflects similarities in the outcomes.\n",
    "\n",
    "The idea of $k$NN hinges upon the so called law of large numbers ([Wiki Page](https://en.wikipedia.org/wiki/Law_of_large_numbers)). Specifically, to estimate $g(X)=\\mathbb P[Y=1|X]$, it suffices to have an independent sample of labels $\\{y_1,y_2,...,y_k:y_i\\in\\{0,1\\}\\}$ where the feature of all the data points is fixed at $X$. The strong law of large numbers implies that, when $k$ is large,\n",
    "\n",
    "<font color=red>\n",
    "$$g(X)=\\mathbb P[Y=1|X]=\\mathbb E[Y|X]\\approx \\frac{\\sum_{i=1}^ky_i}{k}$$\n",
    "</font>\n",
    "\n",
    "In practice, however, we are unable to construct such an independent sample because there may not be sufficiently many data points in $\\mathcal D$ with feature being $X$. To address this issue, we assume that the distance (in the feature space) reliably reflects similarities in the (distribution of) outcomes. Specifically, we assume the feature space is associated with a distance function (sometimes also called norm, see [Wiki Page](https://en.wikipedia.org/wiki/Norm_(mathematics))), which we denote as $d(X_1,X_2)$, which measures the distance between two feature vectors $X_1$ and $X_2$. In most applications, we use the Euclidean distance (sometimes also called the Euclidean norm or the $L^2-$norm, see [Wiki Page](https://en.wikipedia.org/wiki/Euclidean_distance)) most often. For two feature vectors $X_1=(X_{11},X_{12},...,X_{1p})$ and $X_1=(X_{21},X_{22},...,X_{2p})$, their Euclidean distance is given by\n",
    "\n",
    "$$d(X_1,X_2)=\\sqrt{\\sum_{j=1}^p(X_{1j}-X_{2j})^2}$$\n",
    "\n",
    "\n",
    "Given the training set $\\mathcal D:=\\{Y_i\\in\\{0,1\\},X_{ij}:1\\le i\\le n,1\\le j \\le p\\}$, the $k-$NN model predicts the outcome $Y$ of a new datapoint with feature $X$ by averaging the outcomes of the data points in the training set whose features are closest to $X$. Specifically, we can write out the $k-$NN algorithm as follows:\n",
    "\n",
    "--------\n",
    "\n",
    "<font color=red>\n",
    "\n",
    "1. Compute the distance between $X$ and each data point in $\\mathcal D$, $d_i:=d(X,X_i)$ for all $i=1,2,...,n$.\n",
    "2. Find $k$ data points in $\\mathcal D$ who are closest to $X$, i.e., who have the smallest $d_i$, which we denote as $\\hat{\\mathcal D}_k(X)$.\n",
    "3. Of the $k$ data points in $\\hat{\\mathcal D}_k(X)$, count the number who is with a positive outcome, i.e., $Y_i=1$, which we denote as $\\hat k_1(X)$.\n",
    "4. We estimate that the probability that $Y=1$ is $\\hat g(X)=\\hat P[Y=1|X]=\\frac{\\hat k_1(X)}{k}$. We also take a majority vote to predict the outcome $Y$, i.e., \n",
    "$$\\hat Y=\\hat f(X)=\n",
    "\\begin{cases}\n",
    "1,\\mbox{ if }\\frac{\\hat k_1(X)}{k}>0.5\\\\\n",
    "0,\\mbox{ if }\\frac{\\hat k_1(X)}{k}<0.5\\\\\n",
    "\\mbox{either outcome with equal probability},\\mbox{ if }\\frac{\\hat k_1(X)}{k}=0.5\n",
    "\\end{cases}\n",
    "$$\n",
    "As with the logistic regression model, we can generalize to a classifier with the cutoff threshold $t\\in[0,1]$: $\\hat Y=\\hat f(X)=\\mathbf{1}\\{\\hat g(X)\\ge t\\}$ (for the case of majority vote, $t=0.5$). \n",
    "\n",
    "</font>\n",
    "\n",
    "--------\n",
    "    \n",
    "The above model fitting procedure of the $k-$NN model can be illustrated with the following figure, where we want to predict the outcome of the data with the star feature.\n",
    "\n",
    "<img src=\"knn.png\" width=500>\n",
    "\n",
    "It is clear from the above figure that the prediction outcome depends on the value of $k$. If $k=3$, the model predicts $\\hat{\\mathbb{P}}[Y=A|X]=1/3$ and $\\hat Y=B$. If $k=6$, the model predicts $\\hat{\\mathbb{P}}[Y=A|X]=2/3$ and $\\hat Y=A$. In the special case where $k=n$, the $k-$NN model makes the same prediction that $Y$ is the more frequent outcome of the training set, regardless of the feature $X$. If $k=1$, the $k-$NN model predicts the outcome of a new data point using that of the closest data point in the training set. \n",
    "\n",
    "Before moving on to applying the $k-$NN model to the user retention prediction problem at Kwai, we first discuss an important data preprocessing step: Standardization. More specifically, to use the $k-$NN models for prediction, we should first substract each feature by sample mean and devide by sample standard deviation:\n",
    "\n",
    "<font color=red>\n",
    "\n",
    "$$\\tilde X_{ij}=\\frac{X_{ij}-\\bar{X}_j}{\\hat \\sigma_j}$$\n",
    "\n",
    "</font>\n",
    "    \n",
    "where $\\bar X_j=\\frac{1}{n}(\\sum_{i=1}^nX_{ij})$ is the sample avarage of the training set and $\\hat \\sigma_j=\\sqrt{\\frac{1}{n-1}\\sum_{i=1}^n(X_{ij}-\\bar X_j)^2}$ is the sample standard deviation of the training set. The rationale for such standardization is that the distances between different features are very sensitive to the scale/unit we use for each feature. Without standardization, $k-$NN may produce some misleading results as illustrated in the following fiture  \n",
    "\n",
    "<img src=\"knn-scale.png\" width=750>\n",
    "\n",
    "It is clear from the above figure that, without scaling/standardization, the first feature will have a much more substantial impact than the second feature on the result of a $k-$NN model, although such imbalance is just a matter of scale but may not reliably reflect the true data generating process. "
   ]
  },
  {
   "cell_type": "markdown",
   "metadata": {},
   "source": [
    "## 2.1. Case: Fitting a $k-$NN Model for Predicting Long-Term User Retention @ Kwai"
   ]
  },
  {
   "cell_type": "markdown",
   "metadata": {},
   "source": [
    "As discussed in class, a central problem for Kwai, a large-scale video-sharing and live-streaming platform, is to user the following short-term consumption behaviors of 28 days (from day-$(t-27)$ to day-$t$) to predict Whether a user will be active on the platform between day-$(t+28)$ and day-$(t+34)$. :\n",
    "\n",
    "- The user's total video watching time (in minutes) of the 28 days spent on the hot page (发现页);\n",
    "- The user's total video watching time (in minutes) of the 28 days spent on the follow page (关注页);\n",
    "- The user's total live watching time (in minutes) of the 28 days spent on the follow page (关注页);\n",
    "- The user's total video watching time (in minutes) of the 28 days spent on the nearby page (同城页);\n",
    "- The user's total live watching time (in minutes) of the 28 days spent on the nearby page (同城页);\n",
    "- The user's total time (in minutes) of the 28 days spent on the comment area (评论区);\n",
    "- The user's total number of comments of the 28 days posted on the comment area.\n",
    "\n",
    "We first read the data set ```Kwai_Retention.csv``` and take a look at the first few rows of the data set."
   ]
  },
  {
   "cell_type": "code",
   "execution_count": 1,
   "metadata": {},
   "outputs": [],
   "source": [
    "import sys \n",
    "import numpy as np\n",
    "import pandas as pd\n",
    "import statsmodels as sm\n",
    "import sklearn\n",
    "import scipy as sp\n",
    "%matplotlib inline \n",
    "import matplotlib.pyplot as plt\n",
    "import math\n",
    "import random\n",
    "\n",
    "# Set the random seed such that the results are replicable.\n",
    "\n",
    "random.seed(666)"
   ]
  },
  {
   "cell_type": "code",
   "execution_count": 2,
   "metadata": {},
   "outputs": [
    {
     "data": {
      "text/html": [
       "<div>\n",
       "<style scoped>\n",
       "    .dataframe tbody tr th:only-of-type {\n",
       "        vertical-align: middle;\n",
       "    }\n",
       "\n",
       "    .dataframe tbody tr th {\n",
       "        vertical-align: top;\n",
       "    }\n",
       "\n",
       "    .dataframe thead th {\n",
       "        text-align: right;\n",
       "    }\n",
       "</style>\n",
       "<table border=\"1\" class=\"dataframe\">\n",
       "  <thead>\n",
       "    <tr style=\"text-align: right;\">\n",
       "      <th></th>\n",
       "      <th>user_id</th>\n",
       "      <th>retention</th>\n",
       "      <th>h_video</th>\n",
       "      <th>f_video</th>\n",
       "      <th>f_live</th>\n",
       "      <th>n_video</th>\n",
       "      <th>n_live</th>\n",
       "      <th>comment_duration</th>\n",
       "      <th>comment_num</th>\n",
       "    </tr>\n",
       "  </thead>\n",
       "  <tbody>\n",
       "    <tr>\n",
       "      <th>0</th>\n",
       "      <td>1</td>\n",
       "      <td>1</td>\n",
       "      <td>14.333127</td>\n",
       "      <td>82.440787</td>\n",
       "      <td>50.715540</td>\n",
       "      <td>25.448967</td>\n",
       "      <td>31.928108</td>\n",
       "      <td>24.547305</td>\n",
       "      <td>2</td>\n",
       "    </tr>\n",
       "    <tr>\n",
       "      <th>1</th>\n",
       "      <td>2</td>\n",
       "      <td>0</td>\n",
       "      <td>0.000000</td>\n",
       "      <td>0.000000</td>\n",
       "      <td>169.315973</td>\n",
       "      <td>0.000000</td>\n",
       "      <td>100.053897</td>\n",
       "      <td>0.873836</td>\n",
       "      <td>0</td>\n",
       "    </tr>\n",
       "    <tr>\n",
       "      <th>2</th>\n",
       "      <td>3</td>\n",
       "      <td>1</td>\n",
       "      <td>24.886263</td>\n",
       "      <td>0.000000</td>\n",
       "      <td>8.932622</td>\n",
       "      <td>55.413817</td>\n",
       "      <td>136.752137</td>\n",
       "      <td>9.372263</td>\n",
       "      <td>1</td>\n",
       "    </tr>\n",
       "    <tr>\n",
       "      <th>3</th>\n",
       "      <td>4</td>\n",
       "      <td>0</td>\n",
       "      <td>180.547294</td>\n",
       "      <td>67.597604</td>\n",
       "      <td>0.000000</td>\n",
       "      <td>9.487704</td>\n",
       "      <td>13.855340</td>\n",
       "      <td>23.045255</td>\n",
       "      <td>2</td>\n",
       "    </tr>\n",
       "    <tr>\n",
       "      <th>4</th>\n",
       "      <td>5</td>\n",
       "      <td>1</td>\n",
       "      <td>124.664241</td>\n",
       "      <td>81.037966</td>\n",
       "      <td>156.721750</td>\n",
       "      <td>37.109027</td>\n",
       "      <td>0.000000</td>\n",
       "      <td>26.401544</td>\n",
       "      <td>3</td>\n",
       "    </tr>\n",
       "  </tbody>\n",
       "</table>\n",
       "</div>"
      ],
      "text/plain": [
       "   user_id  retention     h_video    f_video      f_live    n_video  \\\n",
       "0        1          1   14.333127  82.440787   50.715540  25.448967   \n",
       "1        2          0    0.000000   0.000000  169.315973   0.000000   \n",
       "2        3          1   24.886263   0.000000    8.932622  55.413817   \n",
       "3        4          0  180.547294  67.597604    0.000000   9.487704   \n",
       "4        5          1  124.664241  81.037966  156.721750  37.109027   \n",
       "\n",
       "       n_live  comment_duration  comment_num  \n",
       "0   31.928108         24.547305            2  \n",
       "1  100.053897          0.873836            0  \n",
       "2  136.752137          9.372263            1  \n",
       "3   13.855340         23.045255            2  \n",
       "4    0.000000         26.401544            3  "
      ]
     },
     "execution_count": 2,
     "metadata": {},
     "output_type": "execute_result"
    }
   ],
   "source": [
    "kwai_retention = pd.read_csv(\"Kwai_Retention.csv\")\n",
    "kwai_retention.head()"
   ]
  },
  {
   "cell_type": "markdown",
   "metadata": {},
   "source": [
    "The variables in this data set:\n",
    "\n",
    "- **user_id**: the user's id\n",
    "\n",
    "- **retention**: the $Y$ variable, defined as whether the user will be active between day-$(t+28)$ and day-(t+34)\n",
    "\n",
    "- **h_video**: the total time (in minutes) the user spent watching video on the hot page between day-$(t-27)$ and day-$t$\n",
    "\n",
    "- **f_video**: the total time (in minutes) the user spent watching video on the follow page between day-$(t-27)$ and day-$t$\n",
    "\n",
    "- **f_live**: the total time (in minutes) the user spent watching live streaming on the follow page between day-$(t-27)$ and day-$t$\n",
    "\n",
    "- **n_video**: the total time (in minutes) the user spent watching video on the nearby page between day-$(t-27)$ and day-$t$\n",
    "\n",
    "- **n_live**: the total time (in minutes) the user spent watching live streaming on the follow page between day-$(t-27)$ and day-$t$\n",
    "\n",
    "- **comment_duration**: the total time (in minutes) the user spent in the comment area between day-$(t-27)$ and day-$t$\n",
    "\n",
    "- **comment_num**: the total number of comments the user posted in the comment area between day-$(t-27)$ and day-$t$\n",
    "\n",
    "As before, we can do some descriptive data analysis such as summary statistics."
   ]
  },
  {
   "cell_type": "code",
   "execution_count": 3,
   "metadata": {},
   "outputs": [
    {
     "name": "stdout",
     "output_type": "stream",
     "text": [
      "<class 'pandas.core.frame.DataFrame'>\n",
      "RangeIndex: 100000 entries, 0 to 99999\n",
      "Data columns (total 9 columns):\n",
      " #   Column            Non-Null Count   Dtype  \n",
      "---  ------            --------------   -----  \n",
      " 0   user_id           100000 non-null  int64  \n",
      " 1   retention         100000 non-null  int64  \n",
      " 2   h_video           100000 non-null  float64\n",
      " 3   f_video           100000 non-null  float64\n",
      " 4   f_live            100000 non-null  float64\n",
      " 5   n_video           100000 non-null  float64\n",
      " 6   n_live            100000 non-null  float64\n",
      " 7   comment_duration  100000 non-null  float64\n",
      " 8   comment_num       100000 non-null  int64  \n",
      "dtypes: float64(6), int64(3)\n",
      "memory usage: 6.9 MB\n"
     ]
    }
   ],
   "source": [
    "kwai_retention.info()"
   ]
  },
  {
   "cell_type": "code",
   "execution_count": 4,
   "metadata": {},
   "outputs": [
    {
     "data": {
      "text/html": [
       "<div>\n",
       "<style scoped>\n",
       "    .dataframe tbody tr th:only-of-type {\n",
       "        vertical-align: middle;\n",
       "    }\n",
       "\n",
       "    .dataframe tbody tr th {\n",
       "        vertical-align: top;\n",
       "    }\n",
       "\n",
       "    .dataframe thead th {\n",
       "        text-align: right;\n",
       "    }\n",
       "</style>\n",
       "<table border=\"1\" class=\"dataframe\">\n",
       "  <thead>\n",
       "    <tr style=\"text-align: right;\">\n",
       "      <th></th>\n",
       "      <th>user_id</th>\n",
       "      <th>retention</th>\n",
       "      <th>h_video</th>\n",
       "      <th>f_video</th>\n",
       "      <th>f_live</th>\n",
       "      <th>n_video</th>\n",
       "      <th>n_live</th>\n",
       "      <th>comment_duration</th>\n",
       "      <th>comment_num</th>\n",
       "    </tr>\n",
       "  </thead>\n",
       "  <tbody>\n",
       "    <tr>\n",
       "      <th>count</th>\n",
       "      <td>100000.000000</td>\n",
       "      <td>100000.000000</td>\n",
       "      <td>100000.000000</td>\n",
       "      <td>100000.000000</td>\n",
       "      <td>100000.000000</td>\n",
       "      <td>100000.000000</td>\n",
       "      <td>100000.000000</td>\n",
       "      <td>100000.000000</td>\n",
       "      <td>100000.000000</td>\n",
       "    </tr>\n",
       "    <tr>\n",
       "      <th>mean</th>\n",
       "      <td>50000.500000</td>\n",
       "      <td>0.694450</td>\n",
       "      <td>104.200193</td>\n",
       "      <td>46.760036</td>\n",
       "      <td>85.452691</td>\n",
       "      <td>43.282025</td>\n",
       "      <td>38.507364</td>\n",
       "      <td>14.808549</td>\n",
       "      <td>1.309540</td>\n",
       "    </tr>\n",
       "    <tr>\n",
       "      <th>std</th>\n",
       "      <td>28867.657797</td>\n",
       "      <td>0.460642</td>\n",
       "      <td>57.715839</td>\n",
       "      <td>41.380467</td>\n",
       "      <td>69.090939</td>\n",
       "      <td>45.363376</td>\n",
       "      <td>43.059011</td>\n",
       "      <td>10.987915</td>\n",
       "      <td>1.059894</td>\n",
       "    </tr>\n",
       "    <tr>\n",
       "      <th>min</th>\n",
       "      <td>1.000000</td>\n",
       "      <td>0.000000</td>\n",
       "      <td>0.000000</td>\n",
       "      <td>0.000000</td>\n",
       "      <td>0.000000</td>\n",
       "      <td>0.000000</td>\n",
       "      <td>0.000000</td>\n",
       "      <td>0.000000</td>\n",
       "      <td>0.000000</td>\n",
       "    </tr>\n",
       "    <tr>\n",
       "      <th>25%</th>\n",
       "      <td>25000.750000</td>\n",
       "      <td>0.000000</td>\n",
       "      <td>62.802564</td>\n",
       "      <td>7.074414</td>\n",
       "      <td>24.559063</td>\n",
       "      <td>0.000000</td>\n",
       "      <td>0.000000</td>\n",
       "      <td>5.803831</td>\n",
       "      <td>0.000000</td>\n",
       "    </tr>\n",
       "    <tr>\n",
       "      <th>50%</th>\n",
       "      <td>50000.500000</td>\n",
       "      <td>1.000000</td>\n",
       "      <td>103.025224</td>\n",
       "      <td>40.965924</td>\n",
       "      <td>78.531102</td>\n",
       "      <td>31.916939</td>\n",
       "      <td>25.226224</td>\n",
       "      <td>13.980232</td>\n",
       "      <td>1.000000</td>\n",
       "    </tr>\n",
       "    <tr>\n",
       "      <th>75%</th>\n",
       "      <td>75000.250000</td>\n",
       "      <td>1.000000</td>\n",
       "      <td>143.429000</td>\n",
       "      <td>74.697443</td>\n",
       "      <td>132.463395</td>\n",
       "      <td>72.396484</td>\n",
       "      <td>65.310167</td>\n",
       "      <td>22.273735</td>\n",
       "      <td>2.000000</td>\n",
       "    </tr>\n",
       "    <tr>\n",
       "      <th>max</th>\n",
       "      <td>100000.000000</td>\n",
       "      <td>1.000000</td>\n",
       "      <td>403.051373</td>\n",
       "      <td>240.184609</td>\n",
       "      <td>444.494104</td>\n",
       "      <td>312.644168</td>\n",
       "      <td>276.276939</td>\n",
       "      <td>68.127146</td>\n",
       "      <td>6.000000</td>\n",
       "    </tr>\n",
       "  </tbody>\n",
       "</table>\n",
       "</div>"
      ],
      "text/plain": [
       "             user_id      retention        h_video        f_video  \\\n",
       "count  100000.000000  100000.000000  100000.000000  100000.000000   \n",
       "mean    50000.500000       0.694450     104.200193      46.760036   \n",
       "std     28867.657797       0.460642      57.715839      41.380467   \n",
       "min         1.000000       0.000000       0.000000       0.000000   \n",
       "25%     25000.750000       0.000000      62.802564       7.074414   \n",
       "50%     50000.500000       1.000000     103.025224      40.965924   \n",
       "75%     75000.250000       1.000000     143.429000      74.697443   \n",
       "max    100000.000000       1.000000     403.051373     240.184609   \n",
       "\n",
       "              f_live        n_video         n_live  comment_duration  \\\n",
       "count  100000.000000  100000.000000  100000.000000     100000.000000   \n",
       "mean       85.452691      43.282025      38.507364         14.808549   \n",
       "std        69.090939      45.363376      43.059011         10.987915   \n",
       "min         0.000000       0.000000       0.000000          0.000000   \n",
       "25%        24.559063       0.000000       0.000000          5.803831   \n",
       "50%        78.531102      31.916939      25.226224         13.980232   \n",
       "75%       132.463395      72.396484      65.310167         22.273735   \n",
       "max       444.494104     312.644168     276.276939         68.127146   \n",
       "\n",
       "         comment_num  \n",
       "count  100000.000000  \n",
       "mean        1.309540  \n",
       "std         1.059894  \n",
       "min         0.000000  \n",
       "25%         0.000000  \n",
       "50%         1.000000  \n",
       "75%         2.000000  \n",
       "max         6.000000  "
      ]
     },
     "execution_count": 4,
     "metadata": {},
     "output_type": "execute_result"
    }
   ],
   "source": [
    "kwai_retention.describe()"
   ]
  },
  {
   "cell_type": "markdown",
   "metadata": {},
   "source": [
    "Then, we randomly split the data into training and validation sets by randomly sample 70% of the data into the training set and the rest into the testing set. Because of the random split, the results produced in this document may be slightly different from those reported in the slides."
   ]
  },
  {
   "cell_type": "code",
   "execution_count": 5,
   "metadata": {},
   "outputs": [],
   "source": [
    "from sklearn.model_selection import train_test_split as tr_te_split\n",
    "X = np.array(kwai_retention.drop(columns=['retention','user_id'])).reshape(kwai_retention.shape[0],kwai_retention.shape[1]-2)\n",
    "y = kwai_retention['retention'].ravel()\n",
    "X_train, X_test, y_train, y_test = tr_te_split(X, y, test_size=0.3)"
   ]
  },
  {
   "cell_type": "markdown",
   "metadata": {},
   "source": [
    "Next, we standardize the features of the data points both in the training set and in the testing set. "
   ]
  },
  {
   "cell_type": "code",
   "execution_count": 6,
   "metadata": {},
   "outputs": [],
   "source": [
    "# Import the StandardScaler function from sklearn\n",
    "from sklearn.preprocessing import StandardScaler\n",
    "\n",
    "# We use the mean and standard deviation of the training set to standardize both the training and testing sets.\n",
    "scaler = StandardScaler().fit(X_train)\n",
    "\n",
    "X_train_st = scaler.transform(X_train)\n",
    "\n",
    "X_test_st = scaler.transform(X_test)"
   ]
  },
  {
   "cell_type": "markdown",
   "metadata": {},
   "source": [
    "We define a function to measure the overall accuracy (the proportion of corrected predictions) of $k-$NN model for predicting outcomes in the testing set. "
   ]
  },
  {
   "cell_type": "code",
   "execution_count": 7,
   "metadata": {},
   "outputs": [],
   "source": [
    "def accuracy(tn, fp, fn, tp):\n",
    "    return (tn+tp)/(tn+fp+fn+tp)"
   ]
  },
  {
   "cell_type": "markdown",
   "metadata": {},
   "source": [
    "We now try to make predictions on the testing set."
   ]
  },
  {
   "cell_type": "code",
   "execution_count": 8,
   "metadata": {},
   "outputs": [],
   "source": [
    "# Load the KNeighborsClassifier function in sklearn.\n",
    "from sklearn.neighbors import KNeighborsClassifier\n",
    "\n",
    "# Fit a kNN model on the training set.\n",
    "knn_clf = KNeighborsClassifier(n_neighbors = 5).fit(X_train_st,y_train)\n",
    "\n",
    "# Make predictions on the testing set.\n",
    "pred_ret = knn_clf.predict(X_test_st)"
   ]
  },
  {
   "cell_type": "markdown",
   "metadata": {},
   "source": [
    "Next we calculate the (out-of-sample) overall accuracy and confusion for $k-$NN. The FPR, FNP, precision, recall, and specificity can all be calculated accordingly and is left as an exercise."
   ]
  },
  {
   "cell_type": "code",
   "execution_count": 9,
   "metadata": {},
   "outputs": [],
   "source": [
    "# Creat a function to print the confusion matrix.\n",
    "def printCM(tn, fp, fn, tp):\n",
    "    print('{: <9} {: <9} {: <9}'.format(' ',' ','predicted'))\n",
    "    print('         --------------------')\n",
    "    print('{: <9}|{: <9d}|{: <9d}'.format('Actual',0,1))\n",
    "    print('-----------------------------')\n",
    "    print('{: <9d}|tn={: <6d}|fp={: <9d}'.format(0,tn,fp))\n",
    "    print('-----------------------------')\n",
    "    print('{: <9d}|fn={: <6d}|tp={: <9d}'.format(1,fn,tp))"
   ]
  },
  {
   "cell_type": "code",
   "execution_count": 10,
   "metadata": {},
   "outputs": [
    {
     "name": "stdout",
     "output_type": "stream",
     "text": [
      "The overall accuracy of kNN classifier is 0.6798.\n",
      "\n",
      "\n",
      "                    predicted\n",
      "         --------------------\n",
      "Actual   |0        |1        \n",
      "-----------------------------\n",
      "0        |tn=3220  |fp=5932     \n",
      "-----------------------------\n",
      "1        |fn=3673  |tp=17175    \n"
     ]
    }
   ],
   "source": [
    "from sklearn.metrics import confusion_matrix\n",
    "tn, fp, fn, tp = confusion_matrix(y_test, pred_ret).ravel()\n",
    "print('The overall accuracy of kNN classifier is {:.4f}.'.format(accuracy(tn, fp, fn, tp)))\n",
    "print('\\n')\n",
    "printCM(tn, fp, fn, tp)"
   ]
  },
  {
   "cell_type": "markdown",
   "metadata": {},
   "source": [
    "As we can see, the $5-$NN model produces a similar overall accuracy to the logistic regression model."
   ]
  },
  {
   "cell_type": "markdown",
   "metadata": {},
   "source": [
    "As discussed above, we can use $\\hat g(X)=\\hat P[Y=1|X]=\\frac{\\hat k_1(X)}{k}$ to estimate the conditional probability of $Y=1$ given feature $X$. With this estimate, we can define a classifier \n",
    "\n",
    "<font color=red>\n",
    "\n",
    "$$\\hat f(X_i|t):=\\begin{cases}\n",
    "1,\\mbox{ if }\\hat g(X_i)\\ge t\\\\\n",
    "0,\\mbox{ if }\\hat g(X_i)< t\n",
    "\\end{cases}$$\n",
    "\n",
    "</font>\n",
    "\n",
    "where $t\\in(0,1)$ is a threshold for predicting positive outcome. For different values of $t$, we can calculate the corresponding false-positive rates and the true-positive rates of the classifier $\\hat f(X_i|t)$ and plot the ROC curve. The AUC could then be computed immediately.\n",
    "\n",
    "We now plot the ROC curve and compute the AUC for the $k$NN classifier."
   ]
  },
  {
   "cell_type": "code",
   "execution_count": null,
   "metadata": {},
   "outputs": [],
   "source": [
    "# Import the roc_curve function in sklearn\n",
    "\n",
    "from sklearn.metrics import  roc_curve, auc, plot_roc_curve\n",
    "\n",
    "pred_prob = knn_clf.predict_proba(X_test_st)\n",
    "\n",
    "# The ROC function returns the false-positive rates, the false-negative rates, and the thresholds t that compute the fpr and fnr.\n",
    "fpr,tpr,thresholds = roc_curve(y_test, pred_prob[:,1])\n",
    "roc_auc =auc(fpr,tpr)"
   ]
  },
  {
   "cell_type": "code",
   "execution_count": 12,
   "metadata": {},
   "outputs": [
    {
     "data": {
      "text/plain": [
       "<matplotlib.legend.Legend at 0x7fb74b81b940>"
      ]
     },
     "execution_count": 12,
     "metadata": {},
     "output_type": "execute_result"
    },
    {
     "data": {
      "image/png": "[encoded data removed]",
      "text/plain": [
       "<Figure size 720x720 with 1 Axes>"
      ]
     },
     "metadata": {
      "needs_background": "light"
     },
     "output_type": "display_data"
    }
   ],
   "source": [
    "# Plot the AUC curve\n",
    "\n",
    "plt.figure(figsize=(10,10))\n",
    "plt.plot(fpr, tpr, color='red',\n",
    "lw=2, label='ROC curve (AUC = %0.4f)' % roc_auc)\n",
    "plt.plot([0, 1], [0, 1], color='navy', lw=2, linestyle='--')\n",
    "plt.xlim([0.0, 1.0])\n",
    "plt.ylim([0.0, 1.05])\n",
    "plt.xlabel('False Positive Rate')\n",
    "plt.ylabel('True Positive Rate')\n",
    "plt.title('ROC Curve')\n",
    "plt.legend(loc=\"lower right\")"
   ]
  },
  {
   "cell_type": "markdown",
   "metadata": {},
   "source": [
    "<a id='section_3'></a>\n",
    "# 3. Remarks for $k-$NN"
   ]
  },
  {
   "cell_type": "markdown",
   "metadata": {},
   "source": [
    "## 3.1. Model Complexity"
   ]
  },
  {
   "cell_type": "markdown",
   "metadata": {},
   "source": [
    "A few remarks are in order for the $k-$NN model. First of all, the parameter $k$ essentially captures the complexity of the model. Specifically, the smaller the $k$, the more complex the model. We will discuss the implication of model complexity on prediction performance in the document on bias-variance tradeoff. The complexities of $k-$NN models with different $k$'s are illustrated in the following figure, which clearly shows the model is more complex (i.e., the border line for different labels is more zigzagged) if $k$ is smaller. Please also note that here model complexity does NOT refer to the time complexity of the algorithm. Instead, it means the complexity of the decision rule to classify the new data points with labels.\n",
    "\n",
    "<img src=\"knn-complexity.png\" width=750>"
   ]
  },
  {
   "cell_type": "markdown",
   "metadata": {},
   "source": [
    "## 3.2. Accuracy and Speed"
   ]
  },
  {
   "cell_type": "markdown",
   "metadata": {},
   "source": [
    "Although the birth of $k-$NN dates back to 1960s, it is a very powerful model in the sense that the prediction accuracy can be very high in general when the size of the training set $n$ is large. In fact, one can theoretically show that, under some reasonable assumptions about the true data generating process, the 0-1 Loss will converge to 0 as the sample size $n$ goes to infinity. A drawback of the $k-$NN model is that it is very slow with a large training data set sample size $n$. This is because the model needs to compute the distance between each data point in the training set and that in the validation set. Later in this course, we will study how to use tree-based models and heuristics to leverage the advantage of $k-$NN but with a much shorter computational time.  \n",
    "\n",
    "Linear regression and logistic regression belong to the family of parametric models ([Wiki Page](https://en.wikipedia.org/wiki/Parametric_model)), whereas $k-$NN is referred to as a non-parametric model ([Wiki Page](https://en.wikipedia.org/wiki/Nonparametric_statistics)). In statistics and machine learning, we call a model that can be captured by a finite-dimensional parameter vector a parametric model, which is the case of linear regression and logistic regression (parameterized by $(\\beta_0,\\beta_1,...,\\beta_p)$). The $k-$NN model, however, cannot be represented by a finite-dimensional parameter vector.  "
   ]
  },
  {
   "cell_type": "markdown",
   "metadata": {},
   "source": [
    "## 3.3. $k-$NN Regression"
   ]
  },
  {
   "cell_type": "markdown",
   "metadata": {},
   "source": [
    "Finally, we remark that $k-$NN can also be used to address regression problems. Recall that, for a regression problem, the outcome $Y$ is a continuous variable. The intuition for $k-$NN regression is very similar to that for $k-$NN classification: The distance (in the feature space) reliably reflects similarities in the outcomes. The main difference between $k-$NN regression and $k-$NN classification is that, instead of taking a majority vote, $k-$NN regression predicts the outcome equal to the average outcome of its $k$ nearest neighbors in the training set. \n",
    "\n",
    "Given the training set $\\mathcal D:=\\{Y_i\\in\\mathbb R,X_{ij}:1\\le i\\le n,1\\le j \\le p\\}$, the $k-$NN model predicts the outcome $Y$ of a new datapoint with feature $X$ as follows:\n",
    "\n",
    "-------------\n",
    "\n",
    "<font color=red>\n",
    "    \n",
    "1. Compute the distance between $X$ and each data point in $\\mathcal D$: $d_i:=d(X,X_i)$ for all $i=1,2,...,n$.\n",
    "2. Find $k$ data points in $\\mathcal D$ who are closest to $X$, i.e., who have the smallest $d_i$, which we denote as $\\hat{\\mathcal D}_k(X)$.\n",
    "3. Predict the outcome using the average outcome of the $k$ data points in $\\hat{\\mathcal D}_k(X)$, i.e., \n",
    "$$\\hat Y=\\hat f(X)=\\frac{1}{k}\\sum_{i\\in \\hat{\\mathcal D}_k(X)}Y_i$$\n",
    "\n",
    "</font>\n",
    "    \n",
    "---------------\n",
    "\n",
    "In Python, we could use the module ```KNeighborsRegressor``` in the ```sklearn``` package to fit a $k-$NN regression model. See the [this Documentation](https://scikit-learn.org/stable/modules/generated/sklearn.neighbors.KNeighborsRegressor.html) for more details. You may work on your own to predict the hotel room prices using the $k$NN regression model."
   ]
  },
  {
   "cell_type": "markdown",
   "metadata": {},
   "source": [
    "#  4. Concluding Remarks"
   ]
  },
  {
   "cell_type": "markdown",
   "metadata": {},
   "source": [
    "The inability to handle the **non-linear relationship** between label and features motivates us build the non-parametric $k$NN model. The $k$NN model is very accurate if the distance in the feature space reliably reflects label similarity. The downside of the $k$NN model is that it suffers from the curse of dimensionality. Furthermore, the $k$NN model is computationally not quite scalable."
   ]
  },
  {
   "cell_type": "code",
   "execution_count": null,
   "metadata": {},
   "outputs": [],
   "source": []
  }
 ],
 "metadata": {
  "kernelspec": {
   "display_name": "Python 3 (ipykernel)",
   "language": "python",
   "name": "python3"
  },
  "language_info": {
   "codemirror_mode": {
    "name": "ipython",
    "version": 3
   },
   "file_extension": ".py",
   "mimetype": "text/x-python",
   "name": "python",
   "nbconvert_exporter": "python",
   "pygments_lexer": "ipython3",
   "version": "3.9.7"
  }
 },
 "nbformat": 4,
 "nbformat_minor": 2
}
