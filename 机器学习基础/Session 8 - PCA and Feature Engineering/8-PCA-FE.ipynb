{
 "cells": [
  {
   "cell_type": "markdown",
   "metadata": {},
   "source": [
    "# 0. Abstract and Outline"
   ]
  },
  {
   "cell_type": "markdown",
   "metadata": {},
   "source": [
    "The purpose of this document is to briefly introduce an important unsupervised learning method called principal component analysis (PCA), with applications to breast cancer image recognition. The core idea of PCA is to find a few most important directions of features with highest variations that are orthogonal to each other. This is an important unsupervised method to reduce the dimension of the feature space. [See this Wiki page.](https://en.wikipedia.org/wiki/Principal_component_analysis). Both the modeling details, the case study, and the Python code are included in this document. \n",
    "\n",
    "The second half of this document will be focusing on feature engineering, addressing the questions of how to efficiently construct and select features so as to enhance the prediction performance of your model. As usual, both theory and codes will be introduced.\n",
    "\n",
    "Below is the outline of this document:\n",
    "\n",
    "- In [Section 1](#section_1), we discuss dimensionality reduction and PCA as a kind of unsupervised learning, together with the motivating example of breast cancer diagnosis.\n",
    "\n",
    "- In [Section 2](#section_2), we discuss the idea of identifying the most important directions through PCA. \n",
    "\n",
    "- In [Section 3](#section_3), we present the demo of PCA by addressing the breast cancer diagnosis problem.\n",
    "\n",
    "- In [Section 4](#section_4), we discuss various approaches of feature engineering.\n",
    "\n",
    "- In [Section 5](#section_5), we discuss various approaches of feature selection."
   ]
  },
  {
   "cell_type": "markdown",
   "metadata": {},
   "source": [
    "<a id='section_1'></a>\n",
    "# 1. Principal Component Analysis as Unsupervised Learning"
   ]
  },
  {
   "cell_type": "markdown",
   "metadata": {},
   "source": [
    "As discussed earlier, unsupervised learning ([Wiki Page](https://en.wikipedia.org/wiki/Unsupervised_learning)) refers to one type of machine learning that seeks to find patterns, relationships, and structures in data, without being optimized to solve a particular predictive task (i.e., there is no label $Y$ associated with the problem). Among others, **dimensionality reduction** refers to an important type of unsupervised methods to build low-dimensional representations for high-dimensional data. Due to the fast development of internet technology, we now have access to very rich datasets of extremely high dimensionality. Such high dimensional data on one hand provides rich information for further analysis and decision making. On the other hand, however, this may require intensive computational resource to store and analyze the data. The overly high-dimensional data may also contain redundant irrelevant information with high noise.\n",
    "\n",
    "Typical methods to reduce the dimension of a data set include:\n",
    "\n",
    "------------------\n",
    "\n",
    "- **Principal Component Analysis (PCA):** To compute the principal components of the data matrix and using them to perform a change of basis on the data. Sometimes, we only use only the first few principal components and ignore the rest.  \n",
    "- **Manifold learning:** To construct a low-dimensional (nonlinear) manifold to represent the data. See [this document](https://scikit-learn.org/stable/modules/manifold.html#:~:text=Manifold%20learning%20is%20an%20approach,sets%20is%20only%20artificially%20high.) for more discussions and implementations.\n",
    "\n",
    "-----------------\n",
    "\n",
    "Below is a pictorial illustration for PCA, where the 2 principal components are indicated.\n",
    "\n",
    "<img src=\"PCA-1.png\" width=450>\n",
    "\n",
    "\n",
    "We also have the following pictorial illustration for manifold learning, where the data is essentially a 2-dimensional embedded in a 3-dimensional space.\n",
    "\n",
    "\n",
    "<img src=\"Manifold.png\" width=450>\n",
    "\n",
    "\n",
    "In this document, we will introduce PCA in detail. We first discuss a few examples where dimensionality reduction will be useful.\n",
    "\n",
    "\n",
    "- **How to represent the ratings I gave to every product I've purchased?** \n",
    " - A low-dimensional vector describing my preferences is a much more efficient way of representing this data than a (sparse) vector including all products.\n",
    "- **How to represent the complete text of a document?** \n",
    " - A low-dimensional vector describing the topics in the document makes storing and analyzing the data much easier than a vector counting all words in the text.\n",
    "- **How to represent connections in a social network?**\n",
    " - Adjacency matrix vs. Each node or user in terms of the communities they belong to.\n",
    "\n",
    "The cases above show that low dimension representations of high-dimensional data are not only more efficient but may also be more information. "
   ]
  },
  {
   "cell_type": "markdown",
   "metadata": {},
   "source": [
    "## 1.1. Case: Breat Cancer Diagnosis"
   ]
  },
  {
   "cell_type": "markdown",
   "metadata": {},
   "source": [
    "We consider the problem of diagnosing breast cancer using the digitalized image data of fine needle aspirate of breast masses. Each data point presents the characteristics of the cell nuclei in the image. The data set $\\mathcal D:=\\{(Y_i,X_i):1\\le i\\le n,X_i\\in\\mathbb R^{p}\\}$ ($p=30$), i.e., the image data has 30-dimensional features, such as the radius, texture, smoothness, compactness, etc., of the cell nuclei. Here, $Y_i$ is the label, where $Y_i=1$ (resp. $Y_i=0$) refers to that the cell is cancerous (resp. normal).\n",
    "\n",
    "At a high level, we wish to address the following questions:\n",
    "\n",
    "- Which features are highly correlated (and how)?\n",
    "- Which features can we \"throw away\" without losing much information?\n",
    "- How can we find which features to throw away automatically?\n",
    "- In other words, how could we come up with a \"compressed representation\" of the cell nuclei's 30-dimensional information into (say) 5-dimensional?\n",
    "\n",
    "The questions above could be well addressed with PCA, which selects a few important features and compresses the data by ignoring the (principal) components which are not meaningful."
   ]
  },
  {
   "cell_type": "markdown",
   "metadata": {},
   "source": [
    "<a id='section_2'></a>\n",
    "# 2. PCA in a Nutshell"
   ]
  },
  {
   "cell_type": "markdown",
   "metadata": {},
   "source": [
    "PCA is defined as an orthogonal linear transformation that transforms the data to a new coordinate system such that the <font color=\"red\"> **greatest variance** </font> by some scalar projection of the data comes to lie on the first coordinate (called the first principal component), the second greatest variance on the second coordinate, and so on.\n",
    "\n",
    "Below, we give a pictorial illustration of PCA for two-dimensional data:\n",
    "\n",
    "<img src=\"PCA.png\" width=600>\n",
    "\n",
    "As we can see, Component 1 is the direction with the greatest variance, and Component 2 is the direction orthogonal to Component 1 with the greatest variance. Suppose we are trying to find $r$ principal components/directions: $\\{\\vec{x}_1,\\vec{x}_2,...,\\vec{x}_r\\}$. Then, the principal components are identified by rotating the data in the following iterative procedure:\n",
    "\n",
    "-------------------\n",
    "\n",
    "<font color=\"red\">\n",
    "\n",
    "- **Step 1:** Find $\\vec{x}_1$ with most of the variance. Mathematically, \n",
    "$$\\vec{x}_1:=\\mbox{argmax}_{x\\in\\mathbb R^p}\\left\\{\\frac{x^T (X^TX) x}{x^T x}\\right\\}$$\n",
    "- **Step 2:** Find $\\vec{x}_2$ with most of the leftover variance not explained by $\\vec{x}_1$ (i.e., orthogonal to $\\vec{x}_1$). Mathematically, \n",
    "$$\\vec{x}_2:=\\mbox{argmax}_{x\\in\\mathbb R^p}\\left\\{\\frac{x^T (X_{(1)}^TX_{(1)}) x}{x^T x}\\right\\},\\mbox{ where }X_{(1)}=X-X\\vec{x}_1\\vec{x}_1^T$$\n",
    "......\n",
    "- **Step $k$:** Find $\\vec{x}_k$ with most of the leftover variance not explained by $\\{\\vec{x}_1,\\vec{x}_2,...,\\vec{x}_{k-1}\\}$ (i.e., orthogonal to $\\vec{x}_1,\\vec{x}_2,...,\\vec{x}_{k-1}$). Mathematically, \n",
    "$$\\vec{x}_k:=\\mbox{argmax}_{x\\in\\mathbb R^p}\\left\\{\\frac{x^T (X_{(k-1)}^TX_{(k-1)}) x}{x^T x}\\right\\},\\mbox{ where }X_{(k-1)}=X-\\sum_{t=1}^{k-1}X\\vec{x}_t\\vec{x}_t^T$$\n",
    "......\n",
    "- **Step $r$:** Find $\\vec{x}_r$ with most of the leftover variance not explained by $\\{\\vec{x}_1,\\vec{x}_2,...,\\vec{x}_{r-1}\\}$ (i.e., orthogonal to $\\vec{x}_1,\\vec{x}_2,...,\\vec{x}_{r-1}$). Mathematically, \n",
    "$$\\vec{x}_r:=\\mbox{argmax}_{x\\in\\mathbb R^p}\\left\\{\\frac{x^T (X_{(r-1)}^TX_{(r-1)}) x}{x^T x}\\right\\},\\mbox{ where }X_{(r-1)}=X-\\sum_{t=1}^{r-1}X\\vec{x}_t\\vec{x}_t^T$$\n",
    "\n",
    "</font>\n",
    "\n",
    "--------------------\n",
    "\n",
    "The key intuition of constructing the principal components is to iteratively <font color=\"red\"> **maximize the leftover \"randomness\"** </font> not captured by the components constructed so far.\n",
    "\n",
    "For the original feature $i$ can also be represented as\n",
    "\n",
    "$$\\sum_{t=1}^r k_{i,t}\\vec{x}_t,\\mbox{ where }k_{i,t}\\mbox{ is the coefficient of component }t\\mbox{ and feature }i$$"
   ]
  },
  {
   "cell_type": "markdown",
   "metadata": {},
   "source": [
    "<a id='section_3'></a>\n",
    "# 3. Demo: PCA for Breast Cancer Diagnosis"
   ]
  },
  {
   "cell_type": "code",
   "execution_count": 1,
   "metadata": {},
   "outputs": [],
   "source": [
    "# Import necessary packages\n",
    "import sys \n",
    "import numpy as np\n",
    "import pandas as pd\n",
    "import statsmodels as sm\n",
    "import sklearn\n",
    "import scipy as sp\n",
    "%matplotlib inline \n",
    "import matplotlib.pyplot as plt"
   ]
  },
  {
   "cell_type": "markdown",
   "metadata": {},
   "source": [
    "We use inherit the breast cancer dataset from the sklearn package."
   ]
  },
  {
   "cell_type": "code",
   "execution_count": 2,
   "metadata": {},
   "outputs": [
    {
     "name": "stdout",
     "output_type": "stream",
     "text": [
      "(569, 30)\n"
     ]
    }
   ],
   "source": [
    "##Load the breast cancer data set from the sklearn package\n",
    "\n",
    "from sklearn.datasets import load_breast_cancer\n",
    "breast_cancer = load_breast_cancer()\n",
    "Xb = breast_cancer.data \n",
    "print(Xb.shape)"
   ]
  },
  {
   "cell_type": "markdown",
   "metadata": {},
   "source": [
    "Next, we perform PCA for the breast cancer data."
   ]
  },
  {
   "cell_type": "code",
   "execution_count": 3,
   "metadata": {},
   "outputs": [
    {
     "name": "stdout",
     "output_type": "stream",
     "text": [
      "(569, 2)\n"
     ]
    },
    {
     "data": {
      "text/plain": [
       "Text(0, 0.5, 'second principal component')"
      ]
     },
     "execution_count": 3,
     "metadata": {},
     "output_type": "execute_result"
    },
    {
     "data": {
      "image/png": "[encoded data removed]",
      "text/plain": [
       "<Figure size 432x288 with 1 Axes>"
      ]
     },
     "metadata": {
      "needs_background": "light"
     },
     "output_type": "display_data"
    }
   ],
   "source": [
    "#Perform PCA analysis with number of components to be 2\n",
    "\n",
    "# Load the PCA package\n",
    "from sklearn.decomposition import PCA\n",
    "\n",
    "pca = PCA(n_components=2)\n",
    "X_pca = pca.fit_transform(Xb)\n",
    "print(X_pca.shape)\n",
    "\n",
    "#Plot the principal components\n",
    "plt.scatter(X_pca[:, 0], X_pca[:, 1], c=breast_cancer.target)\n",
    "plt.xlabel(\"first principal component\")\n",
    "plt.ylabel(\"second principal component\")"
   ]
  },
  {
   "cell_type": "code",
   "execution_count": 4,
   "metadata": {},
   "outputs": [
    {
     "name": "stdout",
     "output_type": "stream",
     "text": [
      "[[ 5.08623202e-03  2.19657026e-03  3.50763298e-02  5.16826469e-01\n",
      "   4.23694535e-06  4.05260047e-05  8.19399539e-05  4.77807775e-05\n",
      "   7.07804332e-06 -2.62155251e-06  3.13742507e-04 -6.50984008e-05\n",
      "   2.23634150e-03  5.57271669e-02 -8.05646029e-07  5.51918197e-06\n",
      "   8.87094462e-06  3.27915009e-06 -1.24101836e-06 -8.54530832e-08\n",
      "   7.15473257e-03  3.06736622e-03  4.94576447e-02  8.52063392e-01\n",
      "   6.42005481e-06  1.01275937e-04  1.68928625e-04  7.36658178e-05\n",
      "   1.78986262e-05  1.61356159e-06]\n",
      " [ 9.28705650e-03 -2.88160658e-03  6.27480827e-02  8.51823720e-01\n",
      "  -1.48194356e-05 -2.68862249e-06  7.51419574e-05  4.63501038e-05\n",
      "  -2.52430431e-05 -1.61197148e-05 -5.38692831e-05  3.48370414e-04\n",
      "   8.19640791e-04  7.51112451e-03  1.49438131e-06  1.27357957e-05\n",
      "   2.86921009e-05  9.36007477e-06  1.22647432e-05  2.89683790e-07\n",
      "  -5.68673345e-04 -1.32152605e-02 -1.85961117e-04 -5.19742358e-01\n",
      "  -7.68565692e-05 -2.56104144e-04 -1.75471479e-04 -3.05051743e-05\n",
      "  -1.57042845e-04 -5.53071662e-05]]\n"
     ]
    },
    {
     "data": {
      "text/plain": [
       "<matplotlib.colorbar.Colorbar at 0x7fb0209e3700>"
      ]
     },
     "execution_count": 4,
     "metadata": {},
     "output_type": "execute_result"
    },
    {
     "data": {
      "image/png": "[encoded data removed]",
      "text/plain": [
       "<Figure size 432x288 with 2 Axes>"
      ]
     },
     "metadata": {
      "needs_background": "light"
     },
     "output_type": "display_data"
    }
   ],
   "source": [
    "# Print the principal component coefficients\n",
    "\n",
    "components = pca.components_\n",
    "\n",
    "print(components)\n",
    "\n",
    "#Plot the coefficients for PCA\n",
    "\n",
    "plt.imshow(components.T)\n",
    "plt.yticks(range(len(breast_cancer.feature_names)), breast_cancer.feature_names)\n",
    "plt.colorbar()"
   ]
  },
  {
   "cell_type": "markdown",
   "metadata": {},
   "source": [
    "Because the relative variance of the features reply on <font color=\"red\"> **their scale and unit** </font>. It is recommended that PCA is performed with <font color=\"red\"> **feature standardization** </font>. "
   ]
  },
  {
   "cell_type": "code",
   "execution_count": 5,
   "metadata": {},
   "outputs": [
    {
     "data": {
      "text/plain": [
       "Text(0, 0.5, 'second principal component')"
      ]
     },
     "execution_count": 5,
     "metadata": {},
     "output_type": "execute_result"
    },
    {
     "data": {
      "image/png": "[encoded data removed]",
      "text/plain": [
       "<Figure size 432x288 with 1 Axes>"
      ]
     },
     "metadata": {
      "needs_background": "light"
     },
     "output_type": "display_data"
    }
   ],
   "source": [
    "##PCA with scaled features\n",
    "\n",
    "from sklearn.pipeline import make_pipeline\n",
    "from sklearn.preprocessing import StandardScaler\n",
    "\n",
    "# Use pipeline to first scale the features and then perform PCA\n",
    "pca_scaled = make_pipeline(StandardScaler(), PCA(n_components=2))\n",
    "X_pca_scaled = pca_scaled.fit_transform(breast_cancer.data)\n",
    "\n",
    "plt.scatter(X_pca_scaled[:, 0], X_pca_scaled[:, 1], c=breast_cancer.target)\n",
    "plt.xlabel(\"first principal component\")\n",
    "plt.ylabel(\"second principal component\")"
   ]
  },
  {
   "cell_type": "code",
   "execution_count": 6,
   "metadata": {
    "scrolled": false
   },
   "outputs": [
    {
     "name": "stdout",
     "output_type": "stream",
     "text": [
      "[[ 0.21890244  0.10372458  0.22753729  0.22099499  0.14258969  0.23928535\n",
      "   0.25840048  0.26085376  0.13816696  0.06436335  0.20597878  0.01742803\n",
      "   0.21132592  0.20286964  0.01453145  0.17039345  0.15358979  0.1834174\n",
      "   0.04249842  0.10256832  0.22799663  0.10446933  0.23663968  0.22487053\n",
      "   0.12795256  0.21009588  0.22876753  0.25088597  0.12290456  0.13178394]\n",
      " [-0.23385713 -0.05970609 -0.21518136 -0.23107671  0.18611302  0.15189161\n",
      "   0.06016536 -0.0347675   0.19034877  0.36657547 -0.10555215  0.08997968\n",
      "  -0.08945723 -0.15229263  0.20443045  0.2327159   0.19720728  0.13032156\n",
      "   0.183848    0.28009203 -0.21986638 -0.0454673  -0.19987843 -0.21935186\n",
      "   0.17230435  0.14359317  0.09796411 -0.00825724  0.14188335  0.27533947]]\n"
     ]
    },
    {
     "data": {
      "image/png": "[encoded data removed]",
      "text/plain": [
       "<Figure size 432x288 with 2 Axes>"
      ]
     },
     "metadata": {
      "needs_background": "light"
     },
     "output_type": "display_data"
    }
   ],
   "source": [
    "##Plot the PCA coefficients with scaled features\n",
    "components2 = pca_scaled.named_steps['pca'].components_\n",
    "plt.imshow(components2.T)\n",
    "plt.yticks(range(len(breast_cancer.feature_names)), breast_cancer.feature_names)\n",
    "plt.colorbar()\n",
    "print(components2)"
   ]
  },
  {
   "cell_type": "markdown",
   "metadata": {},
   "source": [
    "We have an important observation from the standardization analysis above. Although it seems only mean area and worst area matters without standardization, a lot of other features actually contribution to the variability of the data set, as shown by standardization.\n",
    "\n",
    "Next, we adopt PCA as a way of data preprocessing data before applying the (regularized-)logistic regression. We will examine whether dimensionality reduction through PCA could help improve the classification accuracy."
   ]
  },
  {
   "cell_type": "code",
   "execution_count": 7,
   "metadata": {},
   "outputs": [
    {
     "name": "stdout",
     "output_type": "stream",
     "text": [
      "In-sample accuracy: 0.9548.\n",
      "Out-of-sample accuracy: 0.9766.\n"
     ]
    }
   ],
   "source": [
    "from sklearn.linear_model import LogisticRegression\n",
    "from sklearn.model_selection import train_test_split\n",
    "\n",
    "\n",
    "# stratify means we proportionally sample data points into training and testing sets for each possible stratifications.\n",
    "X_train, X_test, y_train, y_test = train_test_split(breast_cancer.data, breast_cancer.target,\\\n",
    "                                                    stratify=breast_cancer.target,random_state=666,\\\n",
    "                                                   test_size=0.3)\n",
    "# LR without PCA\n",
    "lr = LogisticRegression(C=1,max_iter=10000).fit(X_train, y_train)\n",
    "print(\"In-sample accuracy: %0.4f.\" % lr.score(X_train, y_train))\n",
    "print(\"Out-of-sample accuracy: %0.4f.\" %lr.score(X_test, y_test))"
   ]
  },
  {
   "cell_type": "code",
   "execution_count": 8,
   "metadata": {},
   "outputs": [
    {
     "name": "stdout",
     "output_type": "stream",
     "text": [
      "In-sample accuracy: 0.9497.\n",
      "Out-of-sample accuracy: 0.9708.\n"
     ]
    }
   ],
   "source": [
    "##PCA with n_components=2\n",
    "\n",
    "pca_lr = make_pipeline(StandardScaler(), PCA(n_components=2), LogisticRegression(C=1,max_iter=10000))\n",
    "pca_lr.fit(X_train, y_train)\n",
    "\n",
    "print(\"In-sample accuracy: %0.4f.\" %pca_lr.score(X_train, y_train))\n",
    "print(\"Out-of-sample accuracy: %0.4f.\" %pca_lr.score(X_test, y_test))"
   ]
  },
  {
   "cell_type": "code",
   "execution_count": 9,
   "metadata": {},
   "outputs": [
    {
     "name": "stdout",
     "output_type": "stream",
     "text": [
      "In-sample accuracy: 0.9749.\n",
      "Out-of-sample accuracy: 0.9825.\n"
     ]
    }
   ],
   "source": [
    "##n_components=6\n",
    "\n",
    "pca_lr2 = make_pipeline(StandardScaler(), PCA(n_components=6), LogisticRegression(C=1,max_iter=10000))\n",
    "pca_lr2.fit(X_train, y_train)\n",
    "print(\"In-sample accuracy: %0.4f.\" %pca_lr2.score(X_train, y_train))\n",
    "print(\"Out-of-sample accuracy: %0.4f.\" %pca_lr2.score(X_test, y_test))"
   ]
  },
  {
   "cell_type": "markdown",
   "metadata": {},
   "source": [
    "As we can see, the out-of-sample accuracy of the logistic regression model slightly improves with the data preprocessing through PCA."
   ]
  },
  {
   "cell_type": "markdown",
   "metadata": {},
   "source": [
    "<a id='section_4'></a>\n",
    "# 4. Feature Engineering"
   ]
  },
  {
   "cell_type": "markdown",
   "metadata": {},
   "source": [
    "Recall that our key goal of supervised learning is making more precise predictions for unseen data. Below are the commonly used approaches to make better predictions:\n",
    "\n",
    "-------------\n",
    "\n",
    "<font color = \"red\">\n",
    "\n",
    "- **Understand the business objective.** Specifically, we need to ensure the outcome $Y$ is of real interest to the business. Furthermore, the features $X$ do have predictive powers on $Y$.\n",
    "- **Have access to rich and high-quality data.** You may also remove some outliers in the training set.\n",
    "- **Feature engineering.** As commented by [Prof. Andrew Ng](https://en.wikipedia.org/wiki/Andrew_Ng), applied machine learning is basically feature learning.\n",
    "- **Develop strong predictive models/algorithms.** Although a substantial effort should be devoted to learning models and algorithms, developing strong predictive models is actually not that critical to strengthen prediction accuracy. \n",
    "\n",
    "</font>\n",
    "\n",
    "--------------\n",
    "In this section, we introduce various approaches for feature engineering. Indeed, you may also use <font color=\"red\"> **clustering** </font> or <font color=\"red\"> **PCA** </font> to engineer the feature space of a supervised learning problem, as introduced earlier in this and previous Jupyter Notebooks."
   ]
  },
  {
   "cell_type": "markdown",
   "metadata": {},
   "source": [
    "## 4.1. Scaling"
   ]
  },
  {
   "cell_type": "markdown",
   "metadata": {},
   "source": [
    "As discussed earlier, $k-$nearest neighbors, clustering and PCA all need scaling. As shown in the following figure, it is necessary to standardize the features before running the $k-$NN model.\n",
    "\n",
    "<img src=\"knn-scaling2.png\" width=600>\n",
    "\n",
    "\n"
   ]
  },
  {
   "cell_type": "markdown",
   "metadata": {},
   "source": [
    "We now introduce the commonly used scaling method:\n",
    "\n",
    "\n",
    "-----------------\n",
    "\n",
    "- <font color=\"red\"> **StandardScaler:** </font> Substract mean and divide by standard deviation.\n",
    "$$\\tilde X_{ij}=\\frac{X_{ij}-\\bar{X}_j}{\\hat \\sigma_j},\\mbox{ where $\\bar X_j$ is the mean of feature $j$ and $\\hat \\sigma_j$ is the standard deviation of feature $j$}$$\n",
    "- <font color=\"red\"> **MinMaxScaler:** </font> Substract minimum and divide by the range between maximum and minimum.\n",
    "$$\\tilde X_{ij}=\\frac{X_{ij}-X_j^{\\min}}{X_j^{\\max}-X_j^{\\min}},\\mbox{ where $X_j^{\\max}=\\max\\{X_{ij}:1\\le i\\le n\\}$ and $X_j^{\\min}=\\min\\{X_{ij}:1\\le i\\le n\\}$.}$$\n",
    "- <font color=\"red\"> **RobustScaler:** </font> Substract median and divide by the range between the 25th quantile and the 75th quantile. This scaling approach is robust and not sensitive to outliers.\n",
    "$$\\tilde X_{ij}=\\frac{X_{ij}-X_j^{0.5}}{X_j^{0.75}-X_j^{0.25}},\\mbox{ where $X_j^{\\gamma}=$ is the $\\gamma-$th quantile of feature $j$.}$$\n",
    "- <font color=\"red\"> **MaxAbsScaler:** </font> Devide by the maximum absolute value. This scaling approach is useful when the data has many zero entries (a sparse data set).\n",
    "$$\\tilde X_{ij}=\\frac{X_{ij}}{|X_j|_{\\max}},\\mbox{ where }|X_j|_{\\max}=\\max\\{|X_{ij}|:1\\le i\\le n\\}$$\n",
    "\n",
    "----------------"
   ]
  },
  {
   "cell_type": "markdown",
   "metadata": {},
   "source": [
    "## 4.2. Imputation: Dealing with Missing (Feature) Data"
   ]
  },
  {
   "cell_type": "markdown",
   "metadata": {},
   "source": [
    "Real settings may have some missing data. In such cases, we need to impute data into the missing variables. Below we summarize the commonly used strategies for data imputation:\n",
    "\n",
    "- <font color=\"red\"> **Baseline:** </font> Directly drop the rows with missing data. In this way, we ignore the information associated with these data.\n",
    "- <font color=\"red\"> **Median/Mean:** </font> Fill in all missing values using the average/median of the feature in the entire data set. Implemented in sklearn ``sklearn.impute.SimpleImputer()``. See [this document](https://scikit-learn.org/stable/modules/generated/sklearn.impute.SimpleImputer.html).\n",
    "- <font color=\"red\"> **$k-$Nearest Neighbors:** </font> Find $k$ nearest neighbors with non-missing values. Fill in all missing values using average of the neighbors. Implementation in sklearn ``sklearn.impute.KNNImputer()``. See [this document](https://scikit-learn.org/stable/modules/generated/sklearn.impute.KNNImputer.html).\n",
    "- <font color=\"red\"> **Regression:** </font> Train regression model for missing values. Retrain after filling in each missing data. Implementation in sklearn ``sklearn.impute.IterativeImputer()``. See [this document](https://scikit-learn.org/stable/modules/generated/sklearn.impute.IterativeImputer.html#sklearn.impute.IterativeImputer).\n",
    "- <font color=\"red\"> **Matrix completion:** </font> A more automated state-of-the-art approach for imputing missing data. Not implemented in ``sklearn`` yet. Refer to [this link](https://gauss.math.yale.edu/~gcl22/blog/statistics/probability/matrix/completion/2018/07/08/matrix-completion.html) for more details about matrix completion.\n",
    "\n",
    "\n",
    "Below we give a comparison between imputation approaches. Model-based imputations ($k$NN and regression) could more likely preserve the distribution of the original data, whereas median and mean imputations will make the data distribution more concentrated.\n",
    "\n",
    "<img src=\"imputation.jpeg\" width=750>\n"
   ]
  },
  {
   "cell_type": "markdown",
   "metadata": {},
   "source": [
    "## 4.3. Polynomial Features"
   ]
  },
  {
   "cell_type": "markdown",
   "metadata": {},
   "source": [
    "We can systematically generate polynomial and interaction features of degree $k$ using the ``PolynomialFeatures(degree=k)`` function. This will substantially enlarge the feature space. Specifically, with ``PolynomialFeatures(degree=k)``, we could introduce additional features $\\{(X_{i1})^{k_1}(X_{i2})^{k_1}...(X_{ip})^{k_p}:1\\le i\\le n,k_j\\ge0,\\sum_{j=1}^pk_{j}\\le k\\}$ with the data set $\\mathcal D=\\{(X_i,Y_i):X_i\\in\\mathbb R^p,Y_i\\in\\mathbb R,1\\le i\\le n\\}$. These additional features may strengthen the performance of predictive models.\n",
    "\n",
    "We use the Boston Housing data set as a demonstration for polynomial features."
   ]
  },
  {
   "cell_type": "code",
   "execution_count": 10,
   "metadata": {},
   "outputs": [
    {
     "name": "stdout",
     "output_type": "stream",
     "text": [
      "The out-of-sample R-squared with polynomial features and ridge regression is 0.7759.\n"
     ]
    }
   ],
   "source": [
    "# Import necessary packages.\n",
    "from sklearn.pipeline import make_pipeline\n",
    "from sklearn.preprocessing import PolynomialFeatures\n",
    "from sklearn.linear_model import Ridge\n",
    "\n",
    "df_BH = pd.read_csv(\"BostonHousing.csv\")\n",
    "\n",
    "from sklearn.model_selection import train_test_split as tr_te_split\n",
    "\n",
    "X = df_BH.drop(columns=['medv'])\n",
    "y = df_BH['medv'].ravel()\n",
    "X_train, X_test, y_train, y_test = tr_te_split(X, y, test_size=0.3,random_state=666)\n",
    "\n",
    "#Introduce polynomial features of degree 2.\n",
    "\n",
    "poly_pipe = make_pipeline(PolynomialFeatures(degree=2), Ridge())\n",
    "poly_pipe.fit(X_train, y_train)\n",
    "\n",
    "print(\"The out-of-sample R-squared with polynomial features and ridge regression is %0.4f.\"%poly_pipe.score(X_test, y_test))"
   ]
  },
  {
   "cell_type": "markdown",
   "metadata": {},
   "source": [
    "## 4.4. Imbalanced Data"
   ]
  },
  {
   "cell_type": "markdown",
   "metadata": {},
   "source": [
    "For classification problems, all data are imbalanced, i.e., there may be more data with one outcome than with the other. In the case where the data is extremely imbalanced, the overall accuracy may not be an informative metric. \n",
    "For example, 99\\% of the data are with $Y_i=0$, and the rest 1\\% are with $Y_i=1$. In this case, blindly ignoring all the features and predicting $Y_i=0$ will ensure 99\\% prediction accuracy but convey no informative message. In practice, we usually use different evaluation metrics such as ROC-AUC and F-score, which are less sensitive to imbalanced data. The F-score ([see this Wiki Page](https://en.wikipedia.org/wiki/F-score)) is defined as\n",
    "$$F_{1}=\\frac{tp}{tp+\\frac{1}{2}(fp+fn)},\\mbox{where tp=true positive, fp=false positive, and fn=false negative.}$$\n",
    "\n",
    "Another imortant method to deal with imbalanced data is resampling. \n",
    "\n",
    "- <font color=\"red\"> **Undersampling:** </font> Randomly undersample the training data whose outcome is over-represented. For example, for the case 99\\% of the data are with $Y_i=0$, and the rest 1\\% are with $Y_i=1$, we could randomly sample 10\\% of the negative outcomes and all of the positive outcomes. This will make a more balanced data set with 10\\% of the data having positive outcomes. \n",
    "\n",
    "- <font color=\"red\"> **Oversampling:** </font> Randomly oversample the training data whose outcome is under-represented. For example, for the case 99\\% of the data are with $Y_i=0$, and the rest 1\\% are with $Y_i=1$, we could randomly sample 1000\\% of the positive outcomes and all of the negative outcomes. This will make a more balanced data set with 9\\% of the data having positive outcomes. \n",
    "\n",
    "Both undersampling and oversampling could well address the data imbalance. Among others, an important oversampling technique is called <font color=\"red\"> **Synthetic Minority Oversampling TEchnique (SMOTE)** </font>. The idea of SMOTE is to add synthetic interpolated data to minority classes. We consider the data set $\\mathcal D=\\{(X_i,Y_i):Y_i\\in\\{0,1\\},X_i\\in\\mathbb R^p,1\\le i\\le n\\}$ with the number of positive outcomes is $0.01n$ and the number of negative outcomes is $0.99n$. SMOTE can be summarized as follows:\n",
    "\n",
    "----------------\n",
    "\n",
    "<font color=\"red\">\n",
    "\n",
    "- **Step 0.** Initialize the new sample $\\hat{\\mathcal D}=\\mathcal D$.\n",
    "- **Step 1.** Pick up a sample in the minority class, i.e., $(X_i,Y_i)\\in\\mathcal D$ with $Y_i=1$.\n",
    "- **Step 2.** Randomly select a neighbor of $(X_i,Y_i)$ with positive outcome, denoted as $(\\tilde X_i,\\tilde Y_i)$.\n",
    "- **Step 3.** Uniformly randomly pick up a point on the linear segment connecting $(X_i,Y_i)$ and $(\\tilde X_i,\\tilde Y_i)$, i.e., $(\\hat X_i,\\hat Y_i)=(\\lambda X_i+(1-\\lambda)\\tilde X_i,\\lambda Y_i+(1-\\lambda)\\tilde Y_i)$ ($\\lambda\\in[0,1]$) and include $(\\hat X_i,\\hat Y_i)$ into the sample $\\hat{\\mathcal D}$.\n",
    "- **Step 4.** Repeat Steps 1-3 until $\\hat{\\mathcal D}$ is well balanced.\n",
    "\n",
    "</font>\n",
    "\n",
    "---------------\n",
    "\n",
    "Since Step 2 invoves a $k$NN treatment of the data, you should standardize the features before running the SMOTE algorithm. SMOTE works pretty well in practice. Below we give some illustrations for this oversampling approach.\n",
    "\n",
    "<img src=\"SMOTE1.jpeg\" width=600>\n",
    "<img src=\"SMOTE2.jpeg\" width=750>\n",
    "\n",
    "In Python, we have the ``imbalanced-learn`` package to perform resampling. See [this document](https://imbalanced-learn.org/stable/) for more information. The document for undersampling can be found [here](http://glemaitre.github.io/imbalanced-learn/generated/imblearn.under_sampling.RandomUnderSampler.html). The document for undersampling can be found [here](https://imbalanced-learn.org/stable/references/generated/imblearn.over_sampling.RandomOverSampler.html). The document for undersampling can be found [here](https://imbalanced-learn.org/stable/references/generated/imblearn.over_sampling.SMOTE.html). Please use ``pip install -U imbalanced-learn`` in the Terminal to install this package. The demo of this technique is given below with the bank loan data set."
   ]
  },
  {
   "cell_type": "code",
   "execution_count": 11,
   "metadata": {},
   "outputs": [],
   "source": [
    "##Import the undersampling, oversampling, and SMOTE packages.\n",
    "from imblearn.under_sampling import RandomUnderSampler\n",
    "from imblearn.over_sampling import RandomOverSampler\n",
    "from imblearn.over_sampling import SMOTE\n",
    "\n",
    "# Load the data\n",
    "df_bank_loan  = pd.read_csv(\"UniversalBank.csv\")\n",
    "\n",
    "# Splitting the data into training and testing sets\n",
    "from sklearn.model_selection import train_test_split as tr_te_split\n",
    "\n",
    "X = df_bank_loan.drop(columns=['Personal.Loan'])\n",
    "y = df_bank_loan['Personal.Loan'].ravel()\n",
    "X_train, X_test, y_train, y_test = tr_te_split(X, y, test_size=0.3)"
   ]
  },
  {
   "cell_type": "code",
   "execution_count": 12,
   "metadata": {},
   "outputs": [
    {
     "data": {
      "text/html": [
       "<div>\n",
       "<style scoped>\n",
       "    .dataframe tbody tr th:only-of-type {\n",
       "        vertical-align: middle;\n",
       "    }\n",
       "\n",
       "    .dataframe tbody tr th {\n",
       "        vertical-align: top;\n",
       "    }\n",
       "\n",
       "    .dataframe thead th {\n",
       "        text-align: right;\n",
       "    }\n",
       "</style>\n",
       "<table border=\"1\" class=\"dataframe\">\n",
       "  <thead>\n",
       "    <tr style=\"text-align: right;\">\n",
       "      <th></th>\n",
       "      <th>Age</th>\n",
       "      <th>Experience</th>\n",
       "      <th>Income</th>\n",
       "      <th>Family</th>\n",
       "      <th>CCAvg</th>\n",
       "      <th>Education</th>\n",
       "      <th>Mortgage</th>\n",
       "      <th>Personal.Loan</th>\n",
       "      <th>Securities.Account</th>\n",
       "      <th>CD.Account</th>\n",
       "      <th>Online</th>\n",
       "      <th>CreditCard</th>\n",
       "    </tr>\n",
       "  </thead>\n",
       "  <tbody>\n",
       "    <tr>\n",
       "      <th>count</th>\n",
       "      <td>5000.000000</td>\n",
       "      <td>5000.000000</td>\n",
       "      <td>5000.000000</td>\n",
       "      <td>5000.000000</td>\n",
       "      <td>5000.000000</td>\n",
       "      <td>5000.000000</td>\n",
       "      <td>5000.000000</td>\n",
       "      <td>5000.000000</td>\n",
       "      <td>5000.000000</td>\n",
       "      <td>5000.00000</td>\n",
       "      <td>5000.000000</td>\n",
       "      <td>5000.000000</td>\n",
       "    </tr>\n",
       "    <tr>\n",
       "      <th>mean</th>\n",
       "      <td>45.338400</td>\n",
       "      <td>20.104600</td>\n",
       "      <td>73.774200</td>\n",
       "      <td>2.396400</td>\n",
       "      <td>1.937938</td>\n",
       "      <td>1.881000</td>\n",
       "      <td>56.498800</td>\n",
       "      <td>0.096000</td>\n",
       "      <td>0.104400</td>\n",
       "      <td>0.06040</td>\n",
       "      <td>0.596800</td>\n",
       "      <td>0.294000</td>\n",
       "    </tr>\n",
       "    <tr>\n",
       "      <th>std</th>\n",
       "      <td>11.463166</td>\n",
       "      <td>11.467954</td>\n",
       "      <td>46.033729</td>\n",
       "      <td>1.147663</td>\n",
       "      <td>1.747659</td>\n",
       "      <td>0.839869</td>\n",
       "      <td>101.713802</td>\n",
       "      <td>0.294621</td>\n",
       "      <td>0.305809</td>\n",
       "      <td>0.23825</td>\n",
       "      <td>0.490589</td>\n",
       "      <td>0.455637</td>\n",
       "    </tr>\n",
       "    <tr>\n",
       "      <th>min</th>\n",
       "      <td>23.000000</td>\n",
       "      <td>-3.000000</td>\n",
       "      <td>8.000000</td>\n",
       "      <td>1.000000</td>\n",
       "      <td>0.000000</td>\n",
       "      <td>1.000000</td>\n",
       "      <td>0.000000</td>\n",
       "      <td>0.000000</td>\n",
       "      <td>0.000000</td>\n",
       "      <td>0.00000</td>\n",
       "      <td>0.000000</td>\n",
       "      <td>0.000000</td>\n",
       "    </tr>\n",
       "    <tr>\n",
       "      <th>25%</th>\n",
       "      <td>35.000000</td>\n",
       "      <td>10.000000</td>\n",
       "      <td>39.000000</td>\n",
       "      <td>1.000000</td>\n",
       "      <td>0.700000</td>\n",
       "      <td>1.000000</td>\n",
       "      <td>0.000000</td>\n",
       "      <td>0.000000</td>\n",
       "      <td>0.000000</td>\n",
       "      <td>0.00000</td>\n",
       "      <td>0.000000</td>\n",
       "      <td>0.000000</td>\n",
       "    </tr>\n",
       "    <tr>\n",
       "      <th>50%</th>\n",
       "      <td>45.000000</td>\n",
       "      <td>20.000000</td>\n",
       "      <td>64.000000</td>\n",
       "      <td>2.000000</td>\n",
       "      <td>1.500000</td>\n",
       "      <td>2.000000</td>\n",
       "      <td>0.000000</td>\n",
       "      <td>0.000000</td>\n",
       "      <td>0.000000</td>\n",
       "      <td>0.00000</td>\n",
       "      <td>1.000000</td>\n",
       "      <td>0.000000</td>\n",
       "    </tr>\n",
       "    <tr>\n",
       "      <th>75%</th>\n",
       "      <td>55.000000</td>\n",
       "      <td>30.000000</td>\n",
       "      <td>98.000000</td>\n",
       "      <td>3.000000</td>\n",
       "      <td>2.500000</td>\n",
       "      <td>3.000000</td>\n",
       "      <td>101.000000</td>\n",
       "      <td>0.000000</td>\n",
       "      <td>0.000000</td>\n",
       "      <td>0.00000</td>\n",
       "      <td>1.000000</td>\n",
       "      <td>1.000000</td>\n",
       "    </tr>\n",
       "    <tr>\n",
       "      <th>max</th>\n",
       "      <td>67.000000</td>\n",
       "      <td>43.000000</td>\n",
       "      <td>224.000000</td>\n",
       "      <td>4.000000</td>\n",
       "      <td>10.000000</td>\n",
       "      <td>3.000000</td>\n",
       "      <td>635.000000</td>\n",
       "      <td>1.000000</td>\n",
       "      <td>1.000000</td>\n",
       "      <td>1.00000</td>\n",
       "      <td>1.000000</td>\n",
       "      <td>1.000000</td>\n",
       "    </tr>\n",
       "  </tbody>\n",
       "</table>\n",
       "</div>"
      ],
      "text/plain": [
       "               Age   Experience       Income       Family        CCAvg  \\\n",
       "count  5000.000000  5000.000000  5000.000000  5000.000000  5000.000000   \n",
       "mean     45.338400    20.104600    73.774200     2.396400     1.937938   \n",
       "std      11.463166    11.467954    46.033729     1.147663     1.747659   \n",
       "min      23.000000    -3.000000     8.000000     1.000000     0.000000   \n",
       "25%      35.000000    10.000000    39.000000     1.000000     0.700000   \n",
       "50%      45.000000    20.000000    64.000000     2.000000     1.500000   \n",
       "75%      55.000000    30.000000    98.000000     3.000000     2.500000   \n",
       "max      67.000000    43.000000   224.000000     4.000000    10.000000   \n",
       "\n",
       "         Education     Mortgage  Personal.Loan  Securities.Account  \\\n",
       "count  5000.000000  5000.000000    5000.000000         5000.000000   \n",
       "mean      1.881000    56.498800       0.096000            0.104400   \n",
       "std       0.839869   101.713802       0.294621            0.305809   \n",
       "min       1.000000     0.000000       0.000000            0.000000   \n",
       "25%       1.000000     0.000000       0.000000            0.000000   \n",
       "50%       2.000000     0.000000       0.000000            0.000000   \n",
       "75%       3.000000   101.000000       0.000000            0.000000   \n",
       "max       3.000000   635.000000       1.000000            1.000000   \n",
       "\n",
       "       CD.Account       Online   CreditCard  \n",
       "count  5000.00000  5000.000000  5000.000000  \n",
       "mean      0.06040     0.596800     0.294000  \n",
       "std       0.23825     0.490589     0.455637  \n",
       "min       0.00000     0.000000     0.000000  \n",
       "25%       0.00000     0.000000     0.000000  \n",
       "50%       0.00000     1.000000     0.000000  \n",
       "75%       0.00000     1.000000     1.000000  \n",
       "max       1.00000     1.000000     1.000000  "
      ]
     },
     "execution_count": 12,
     "metadata": {},
     "output_type": "execute_result"
    }
   ],
   "source": [
    "df_bank_loan.describe()"
   ]
  },
  {
   "cell_type": "code",
   "execution_count": 13,
   "metadata": {},
   "outputs": [
    {
     "name": "stdout",
     "output_type": "stream",
     "text": [
      "(3500, 11)\n",
      "(696, 11)\n",
      "[348 348]\n"
     ]
    }
   ],
   "source": [
    "## Undersampling\n",
    "\n",
    "rus = RandomUnderSampler(replacement=False,random_state=666)\n",
    "X_train_undersample, y_train_undersample = rus.fit_resample(X_train, y_train)\n",
    "\n",
    "# Next we print the shapes of the feature space and the number of data points associated with different Y values.\n",
    "print(X_train.shape)\n",
    "print(X_train_undersample.shape)\n",
    "print(np.bincount(y_train_undersample))"
   ]
  },
  {
   "cell_type": "code",
   "execution_count": 14,
   "metadata": {},
   "outputs": [
    {
     "name": "stdout",
     "output_type": "stream",
     "text": [
      "(3500, 11)\n",
      "(6304, 11)\n",
      "[3152 3152]\n"
     ]
    }
   ],
   "source": [
    "##Oversampling\n",
    "\n",
    "ros = RandomOverSampler()\n",
    "X_train_oversample, y_train_oversample = ros.fit_resample(X_train, y_train)\n",
    "print(X_train.shape)\n",
    "print(X_train_oversample.shape)\n",
    "print(np.bincount(y_train_oversample))"
   ]
  },
  {
   "cell_type": "code",
   "execution_count": 15,
   "metadata": {},
   "outputs": [
    {
     "name": "stdout",
     "output_type": "stream",
     "text": [
      "(3500, 11)\n",
      "(6304, 11)\n",
      "[3152 3152]\n"
     ]
    }
   ],
   "source": [
    "# SMOTE\n",
    "\n",
    "smt = SMOTE()\n",
    "\n",
    "##Standardize the features for the training and testing data\n",
    "scaler = StandardScaler()\n",
    "\n",
    "scaler.fit(X_train)\n",
    "X_train_scaled = scaler.transform(X_train)\n",
    "X_test_scaled = scaler.transform(X_test)\n",
    "\n",
    "X_train_SMOTE, y_train_SMOTE = smt.fit_resample(X_train_scaled, y_train)\n",
    "print(X_train_scaled.shape)\n",
    "print(X_train_SMOTE.shape)\n",
    "print(np.bincount(y_train_SMOTE))"
   ]
  },
  {
   "cell_type": "code",
   "execution_count": 16,
   "metadata": {},
   "outputs": [
    {
     "name": "stdout",
     "output_type": "stream",
     "text": [
      "The out-of-sample AUC with the SMOTE sample is 0.9298.\n"
     ]
    }
   ],
   "source": [
    "# Check whether SMOTE is effective\n",
    "from sklearn.metrics import  roc_curve, auc\n",
    "from sklearn.tree import DecisionTreeClassifier\n",
    "\n",
    "loan_tree =  DecisionTreeClassifier(max_depth=3,ccp_alpha = 0.01) \n",
    "loan_tree.fit(X_train_SMOTE, y_train_SMOTE)\n",
    "\n",
    "y_score=loan_tree.predict_proba(X_test_scaled)\n",
    "fpr,tpr,threshold = roc_curve(y_test, y_score[:,1])\n",
    "roc_auc =auc(fpr,tpr)\n",
    "print(\"The out-of-sample AUC with the SMOTE sample is %0.4f.\" %roc_auc)"
   ]
  },
  {
   "cell_type": "markdown",
   "metadata": {},
   "source": [
    "<a id='section_5'></a>\n",
    "# 5. Feature Selection"
   ]
  },
  {
   "cell_type": "markdown",
   "metadata": {},
   "source": [
    "Whereas **feature engineering** may help us generate more than enough features for a supervised learning problem, it is not always a good idea to have an overly large feature space. This is because irrelevant features will only introduce noises instead of informative metrics that strengthen the prediction of the label.\n",
    "\n",
    "At a high level, we select a subset of features for a supervised learning model for the following reasons:\n",
    "\n",
    "-----------\n",
    "\n",
    "\n",
    "- <font color=\"red\">**Avoid overfitting/reduce model variance.**</font> Irrelevant features will only introduce unnecessary variances without reducing model bias. It is therefore suggested that you remove such features.\n",
    "\n",
    "- <font color=\"red\">**Faster training and prediction.**</font> Fewer features imply a simpler model. In this case, both the training and prediction will be faster assuming that the number of data observations is fixed, making the approach more scalable.    \n",
    "\n",
    "- <font color=\"red\">**Less storage for model and data set.**</font> Not only is a simpler model faster, it also requires less storage for the model itself. Analogously, a data set with fewer features will occupy a smaller storage space. Again, the smaller space requirement also improves the scalability of the approach.\n",
    "    \n",
    "    \n",
    "- <font color=\"red\">**More interpretable model.**</font> A simpler model with fewer features is more interpretable than a complex model. In situations where model interpretability matters, selecting a subset of important and informative features will substantially enhance the interpretability of your model without much compromising prediction accuracy.    \n",
    "    \n",
    "\n",
    "------------\n",
    "\n",
    "In this section, we introduce different approaches to select the right subset of features for a prediction model, starting with **unsupervised** approaches followed by **supervised** approaches."
   ]
  },
  {
   "cell_type": "markdown",
   "metadata": {},
   "source": [
    "## 5.1. Unsupervised Feature Selection"
   ]
  },
  {
   "cell_type": "markdown",
   "metadata": {},
   "source": [
    "Unsupervised feature selection (you may refer to [this paper](https://link.springer.com/content/pdf/10.1007/s10462-019-09682-y.pdf) for a review) is generic approaches to select a suitable subset of features for subsequent supervised learning (i.e., prediction) models **without using any labels**. Because unsupervised feature selection does not involve any label, it is convenient and in general scalable, but may discard important information.\n",
    "\n",
    "--------------\n",
    "\n",
    "- <font color=\"red\"> **Variance-based Feature Selection.** </font> This approach removes features that have very low variances (you need some domain/context knowledge to judge what variance is considered low). Or, you may remove features that are of continuous nature but actually have vew few values.\n",
    "\n",
    "- <font color=\"red\"> **Covariance-based Feature Selection.** </font> This approach removes certain features that may have strong correlations with other features. Strongly correlated features contain similar and, therefore, redundant information about the label.\n",
    "\n",
    "- <font color=\"red\"> **Principal Component Analysis.** </font> As discussed in [Section 3](#section_3), we can use the PCA approach to remove some linear subspaces of the features that have low variances in data.\n",
    "\n",
    "-------------"
   ]
  },
  {
   "cell_type": "markdown",
   "metadata": {},
   "source": [
    "## 5.2. Supervised Feature Selection"
   ]
  },
  {
   "cell_type": "markdown",
   "metadata": {},
   "source": [
    "### Univariate Statistic Feature Selection\n",
    "\n",
    "**Supervised feature selection** is another family of feature selection approaches \"supervised\" by the true label. To begin, we introduce the **univariate statistics** such as [$p$-value](https://en.wikipedia.org/wiki/P-value) and [$F$-statistic](https://en.wikipedia.org/wiki/F-test). Specifically, we could use the ``f_regression()`` (see [this link](https://scikit-learn.org/stable/modules/generated/sklearn.feature_selection.f_regression.html)) or the ``f_classif()`` (see [this link](https://scikit-learn.org/stable/modules/generated/sklearn.feature_selection.f_classif.html)) functions in the ``sklearn`` package to obtain the $p$-value and $F$-statistic for the univariate linear regressions for regression and classification problems, respectively. A natural way of feature selection is to pick up the features with the smallest $p$-values or, equivalently, the largest $F$-statistic for further supervised model building.\n",
    "\n",
    "Next, we use the Boston's Housing price case as a demonstration for this method."
   ]
  },
  {
   "cell_type": "code",
   "execution_count": 17,
   "metadata": {},
   "outputs": [
    {
     "name": "stdout",
     "output_type": "stream",
     "text": [
      "The f_values of the features are:  [ 60.83791176  56.80653896 100.01406562  17.86429031  77.45945401\n",
      " 383.47150669  52.39554919  22.02403816  64.53548484 100.76163397\n",
      " 134.08498263  51.50514477 434.15749379]\n",
      "\n",
      "\n",
      "The p_values of the features are:  [6.13752433e-14 3.61128565e-13 4.84970154e-21 2.97941976e-05\n",
      " 4.95213488e-17 2.07608922e-59 2.56491762e-12 3.77369277e-06\n",
      " 1.22725944e-14 3.59974989e-21 9.77833091e-27 3.82072989e-12\n",
      " 1.05253875e-64]\n"
     ]
    }
   ],
   "source": [
    "# Import the f_regression function from sklearn\n",
    "\n",
    "from sklearn.feature_selection import f_regression\n",
    "\n",
    "X = df_BH.drop(columns=['medv'])\n",
    "y = df_BH['medv'].ravel()\n",
    "X_train, X_test, y_train, y_test = tr_te_split(X, y, test_size=0.25,random_state=666)\n",
    "\n",
    "# Compute the f_values and the p_values\n",
    "\n",
    "f_values, p_values = f_regression(X_train, y_train)\n",
    "\n",
    "print(\"The f_values of the features are: \",f_values)\n",
    "\n",
    "print('\\n')\n",
    "\n",
    "print(\"The p_values of the features are: \",p_values)"
   ]
  },
  {
   "cell_type": "markdown",
   "metadata": {},
   "source": [
    "Next, we select $k$ features based on the $F$-values. We will use the ``SelectKBest()`` function (see [this documentation](https://scikit-learn.org/stable/modules/generated/sklearn.feature_selection.SelectKBest.html)) to select the model with the $k$ highest scores, and the ``cross_val_score()`` function (see [this documentation](https://scikit-learn.org/stable/modules/generated/sklearn.model_selection.cross_val_score.html)) to evaluate a score by cross-validation."
   ]
  },
  {
   "cell_type": "code",
   "execution_count": 18,
   "metadata": {},
   "outputs": [
    {
     "name": "stdout",
     "output_type": "stream",
     "text": [
      "The shape of the original feature space is:  (379, 13)\n",
      "\n",
      "\n",
      "The shape of the selected feature space is:  (379, 2)\n"
     ]
    }
   ],
   "source": [
    "#Select k covariates using p-values.\n",
    "\n",
    "from sklearn.feature_selection import SelectKBest\n",
    "from sklearn.model_selection import cross_val_score\n",
    "\n",
    "# Use f_regression to evaluate the F-values.\n",
    "\n",
    "select = SelectKBest(k=2,score_func=f_regression).fit(X_train, y_train)\n",
    "\n",
    "# k = 2: We select 2 features with the highest scores.\n",
    "# score_func=f_regression: We use the f_regression function to evaluate the scores.\n",
    "\n",
    "print(\"The shape of the original feature space is: \",X_train.shape)\n",
    "\n",
    "print('\\n')\n",
    "\n",
    "print(\"The shape of the selected feature space is: \",select.transform(X_train).shape)"
   ]
  },
  {
   "cell_type": "markdown",
   "metadata": {},
   "source": [
    "In the ``SelectKBest()`` function above, the argument ``k = 2`` refers to that we select 2 features with the highest scores; the argument ``score_func=f_regression`` refers to that we use the ``f_regression()`` function to evaluate the scores.\n",
    "\n",
    "Next, we compare the (Ridge regression) model with full features and the model with 2 selected features."
   ]
  },
  {
   "cell_type": "code",
   "execution_count": 19,
   "metadata": {},
   "outputs": [
    {
     "name": "stdout",
     "output_type": "stream",
     "text": [
      "The cross-validated R-squared with all features is:  0.713130124592921\n",
      "\n",
      "\n",
      "The cross-validated R-squared with 2 selected features (using f-values) is:  0.6160969001796699\n"
     ]
    }
   ],
   "source": [
    "#Compare model of 2 variables and model of all features\n",
    "\n",
    "#all_features = make_pipeline(StandardScaler(), RidgeCV())\n",
    "\n",
    "# RidgeCV() is the function for building a cross-validated ridge regression (that fine-tunes the parameter alpha).\n",
    "\n",
    "from sklearn.linear_model import Ridge, RidgeCV\n",
    "\n",
    "print(\"The cross-validated R-squared with all features is: \",\\\n",
    "      np.mean(cross_val_score(RidgeCV(), X_train, y_train, cv=10)))\n",
    "\n",
    "print('\\n')\n",
    "\n",
    "# Make a pipeline for the model with 2 selected features with the f_regression approach.\n",
    "\n",
    "select_2 = make_pipeline(SelectKBest(k=2, score_func=f_regression), RidgeCV())\n",
    "\n",
    "print(\"The cross-validated R-squared with 2 selected features (using f-values) is: \",\\\n",
    "      np.mean(cross_val_score(select_2, X_train, y_train, cv=10)))"
   ]
  },
  {
   "cell_type": "markdown",
   "metadata": {},
   "source": [
    "### Feature Selection based on Mutual Information\n",
    "\n",
    "Another way to select features based on their relationship and respective mutual dependence with the label is through the [mutual information (MI)](https://en.wikipedia.org/wiki/Mutual_information), which measures the amount of information about the label once the feature is observed. Specifically, we can use the ``mutual_info_regression()`` (see [this link](https://scikit-learn.org/stable/modules/generated/sklearn.feature_selection.mutual_info_regression.html)) and the ``mutual_info_classification()`` (see [this link](https://scikit-learn.org/stable/modules/generated/sklearn.feature_selection.mutual_info_classif.html)) to obtain the MI between each feature and the continuous and discrete labels, respectively. As with the $p$-value and $F$-value based feature selection, we use ``SelectKBest()`` to select the features with the highest scores."
   ]
  },
  {
   "cell_type": "code",
   "execution_count": 20,
   "metadata": {},
   "outputs": [
    {
     "name": "stdout",
     "output_type": "stream",
     "text": [
      "The mutual information scores of the features are:  [0.32891024 0.16180844 0.45010058 0.01603965 0.46133755 0.58559588\n",
      " 0.31068268 0.25508765 0.23071462 0.37382083 0.43519726 0.18868483\n",
      " 0.72814416]\n",
      "\n",
      "\n",
      "The cross-validated R-squared with 2 selected features (using mutual information) is:  0.6160969001796699\n"
     ]
    }
   ],
   "source": [
    "#Import the necessary function\n",
    "\n",
    "from sklearn.feature_selection import mutual_info_regression\n",
    "\n",
    "# Compute the mutual information\n",
    "\n",
    "MIscores = mutual_info_regression(X_train, y_train)\n",
    "\n",
    "print(\"The mutual information scores of the features are: \",MIscores)\n",
    "\n",
    "print(\"\\n\")\n",
    "# Cross validate a ridge regression model and print the cross-validated R-squared value,\n",
    "# with 2 features selected with the mutual information.\n",
    "\n",
    "select_3 = make_pipeline(SelectKBest(k=2, score_func=mutual_info_regression), RidgeCV())\n",
    "\n",
    "print(\"The cross-validated R-squared with 2 selected features (using mutual information) is: \",\\\n",
    "np.mean(cross_val_score(select_3, X_train, y_train, cv=10)))"
   ]
  },
  {
   "cell_type": "markdown",
   "metadata": {},
   "source": [
    "As expected, the result is identical to the case to select a model using f-values."
   ]
  },
  {
   "cell_type": "markdown",
   "metadata": {},
   "source": [
    "### Model-based Feature Selection"
   ]
  },
  {
   "cell_type": "markdown",
   "metadata": {},
   "source": [
    "**Model-based feature selection** directly fits a particular model using the training data, and selects the subset of features with the best fit. Ideally, we would like to have an exhaustive seach over all possible feature combinations and determine which combination has the best fit. However, this exhaustive search approach will require fitting the model for the $2^p$ feature combinations, which is literally **infeasible** even for a moderately large $p$ (say $p=20$, $2^p$ is at the magnitude of one million).\n",
    "\n",
    "Therefore, in practice, we generally use some heuristics to select the features with the **highest importance**, which means:\n",
    "\n",
    "- **Largest coefficients** in linear/generalized-linear models (obviously, you need to standardize the features in this case); or\n",
    "- **Closer to the root or giving rise to the largest reduction in impurity** in tree-based models.\n",
    "\n",
    "More specifically, we usually use the iterative **model-based feature selection** approach that takes one of the following two formats:\n",
    "\n",
    "-------------\n",
    "\n",
    "- Fit a model, find the least important feature, remove it, and iterate.\n",
    "\n",
    "- Start with a single feature, find the most important feature not selected so far, add it to the selected set, and iterate.\n",
    "\n",
    "--------------"
   ]
  },
  {
   "cell_type": "markdown",
   "metadata": {},
   "source": [
    "#### Recursive Feature Elimination (RFE)\n",
    "\n",
    "We start with the recursive feature elimination (RFE) method as follows:\n",
    "\n",
    "--------------\n",
    "\n",
    "- **Step 1:** Train the model with all features.\n",
    "- **Step 2:** Interative remove features and re-train the model based on feature importance.\n",
    "\n",
    "--------------\n",
    "\n",
    "We use the ``RFE()`` function in the ``sklearn`` package to implement recursive feature elimination. See [this documentation](https://scikit-learn.org/stable/modules/generated/sklearn.feature_selection.RFE.html) for more information."
   ]
  },
  {
   "cell_type": "code",
   "execution_count": 21,
   "metadata": {},
   "outputs": [
    {
     "name": "stdout",
     "output_type": "stream",
     "text": [
      "The ranking of the features is:  [11  9 12 10  5  2 13  4  7  6  3  8  1]\n"
     ]
    }
   ],
   "source": [
    "# Important necessary packages.\n",
    "\n",
    "from sklearn.linear_model import LinearRegression\n",
    "from sklearn.feature_selection import RFE\n",
    "\n",
    "# Scale the features.\n",
    "\n",
    "scaler = StandardScaler()\n",
    "scaler.fit(X_train)\n",
    "X_train_scaled = scaler.transform(X_train)\n",
    "\n",
    "# Implement RFE.\n",
    "\n",
    "rfe = RFE(LinearRegression(), n_features_to_select=1)\n",
    "\n",
    "# n_features_to_select=1: Select 1 feature from the original feature space.\n",
    "\n",
    "rfe.fit(X_train_scaled, y_train)\n",
    "\n",
    "# By default, the RFE function will select/eliminate the features using the coefficient magnitude,\n",
    "# so we need to standardize.\n",
    "\n",
    "print(\"The ranking of the features is: \",rfe.ranking_)"
   ]
  },
  {
   "cell_type": "markdown",
   "metadata": {},
   "source": [
    "The reason why we **scale** the features is that the ``RFE()`` function will use the magnitude of the coefficient to select and eliminate the features. The argument ``n_features_to_select=1`` implies that we select 1 feature. The ranking array stores the sequence of the RFE procedure in a **reverse** order, i.e., ranking=1 means the feature that is selected evenually. Next we use the ``RFECV()`` function (see [this link](https://scikit-learn.org/stable/modules/generated/sklearn.feature_selection.RFECV.html)) to select the best-performing set of features using RFE and cross-validation. "
   ]
  },
  {
   "cell_type": "code",
   "execution_count": 22,
   "metadata": {},
   "outputs": [
    {
     "name": "stdout",
     "output_type": "stream",
     "text": [
      "The the support of the selected features are:  [ True  True  True  True  True  True False  True  True  True  True  True\n",
      "  True]\n",
      "\n",
      "\n",
      "The selected features are:  Index(['crim', 'zn', 'indus', 'chas', 'nox', 'rm', 'dis', 'rad', 'tax',\n",
      "       'ptratio', 'b', 'lstat'],\n",
      "      dtype='object')\n"
     ]
    }
   ],
   "source": [
    "# Load the necessary package.\n",
    "\n",
    "from sklearn.feature_selection import RFECV\n",
    "\n",
    "# Use linear regression as the model for RFE and CV.\n",
    "\n",
    "rfe = RFECV(LinearRegression(), cv=10)\n",
    "\n",
    "rfe.fit(X_train_scaled, y_train)\n",
    "\n",
    "print(\"The the support of the selected features are: \",rfe.support_)\n",
    "\n",
    "print('\\n')\n",
    "\n",
    "print(\"The selected features are: \",df_BH.drop(columns=['medv']).columns[rfe.support_])"
   ]
  },
  {
   "cell_type": "markdown",
   "metadata": {},
   "source": [
    "Then, we evaluate the **ridge regression** model using on the selected features."
   ]
  },
  {
   "cell_type": "code",
   "execution_count": 23,
   "metadata": {},
   "outputs": [
    {
     "name": "stdout",
     "output_type": "stream",
     "text": [
      "The cross-validated R-squared with the selected features (using RFE) is:  0.7069566910588454\n"
     ]
    }
   ],
   "source": [
    "# Then, we take a look at the cross-validated R-squared.\n",
    "\n",
    "# Build the pipeline and evaluate the OOS R-squared.\n",
    "\n",
    "pipe_rfe_ridgecv = make_pipeline(StandardScaler(),\n",
    "                                 RFECV(LinearRegression(), cv=10), RidgeCV())\n",
    "\n",
    "print(\"The cross-validated R-squared with the selected features (using RFE) is: \",\\\n",
    "np.mean(cross_val_score(pipe_rfe_ridgecv, X_train, y_train, cv=10)))"
   ]
  },
  {
   "cell_type": "markdown",
   "metadata": {},
   "source": [
    "Next, we introduce the polynomial features and then use RFE to select the most suitable ones."
   ]
  },
  {
   "cell_type": "code",
   "execution_count": 24,
   "metadata": {},
   "outputs": [
    {
     "name": "stdout",
     "output_type": "stream",
     "text": [
      "The cross-validated R-squared with the selected features (using polynomial features and RFE) is:  0.8151891103391696\n"
     ]
    }
   ],
   "source": [
    "# Import the package.\n",
    "\n",
    "from sklearn.preprocessing import PolynomialFeatures\n",
    "\n",
    "# Build the pipeline.\n",
    "\n",
    "# The default degree of the polynomial features is 2.\n",
    "pipe_rfe_ridgecv = make_pipeline(StandardScaler(), PolynomialFeatures(),RFECV(LinearRegression(), cv=10), RidgeCV())\n",
    "\n",
    "print(\"The cross-validated R-squared with the selected features (using polynomial features and RFE) is: \",\\\n",
    "np.mean(cross_val_score(pipe_rfe_ridgecv, X_train, y_train, cv=10)))"
   ]
  },
  {
   "cell_type": "markdown",
   "metadata": {},
   "source": [
    "The above results suggest that, under RFE, introducing polynomial features of degree 2 will **strengthen the performance** of the ridge regression model to predict the Boston housing price. "
   ]
  },
  {
   "cell_type": "markdown",
   "metadata": {},
   "source": [
    "#### Wrapping Method"
   ]
  },
  {
   "cell_type": "markdown",
   "metadata": {},
   "source": [
    "Wrapping method (sometimes called wrapper method; see [this link](https://en.wikipedia.org/wiki/Feature_selection#Wrapper_method)) is a flexible framework that applies to any supervised learning model. The idea is to shrink or grow the feature set by greedy search. The wrapping method to start with every feature included in the selected set and gradually remove them is called the backward selection. Likewise, whereas the wrapping method to start with an empty selected set and gradually add features into the selected set is called the forward selection. We now describe this two approaches separately.\n",
    "\n",
    "Below is the procedure of **backward selection**:\n",
    "\n",
    "-------------\n",
    "\n",
    "- **Step 1.** Initialize with a feature set $\\mathcal F=\\{1,2,...,p\\}$ and a supervised learning model $f(\\cdot)$. Set the target number of selected features $k$.\n",
    "\n",
    "- **Step 2.** For each feature $j$ in $\\mathcal F$, remove feature $j$ from $\\mathcal F$ to construct a feature space $\\mathcal F_j$. Denote $f(\\cdot)$ defined on $\\mathcal F_j$ as $f_j(\\cdot)$.\n",
    "\n",
    "- **Step 3.** Use cross-validation to identify the best-performing model among $\\{f_j(\\cdot):j\\in\\mathcal F\\}$, denoted as $f_{j^*}(\\cdot)$. Remove $j^*$ from $\\mathcal F$.\n",
    "\n",
    "- **Step 4.** Repeat **Steps 2-3** until the size of the selected feature set $\\mathcal F$ drops to $k$.\n",
    "--------------\n",
    "\n",
    "Analogously,  present the procedure of **forward selection**:\n",
    "\n",
    "-------------\n",
    "\n",
    "- **Step 1.** Initialize with a feature set $\\mathcal F=\\emptyset$ and a supervised learning model $f(\\cdot)$. Set the target number of selected features $k$.\n",
    "\n",
    "- **Step 2.** For each feature $j$ not in $\\mathcal F$, add feature $j$ into $\\mathcal F$ to construct a feature space $\\mathcal F_j$. Denote $f(\\cdot)$ defined on $\\mathcal F_j$ as $f_j(\\cdot)$.\n",
    "\n",
    "- **Step 3.** Use cross-validation to identify the best-performing model among $\\{f_j(\\cdot):j\\notin\\mathcal F\\}$, denoted as $f_{j^*}(\\cdot)$. Add feature $j^*$ into $\\mathcal F$.\n",
    "\n",
    "- **Step 4.** Repeat **Steps 2-3** until the size of the selected feature set $\\mathcal F$ increases to $k$.\n",
    "--------------\n",
    "\n",
    "We remark that both the backward selection and the forward selection take about **$p(p+1)/2$ steps** (i.e., train this many different models) to finish.\n",
    "\n",
    "For both the backward selection and the forward selection, we use the ``mlxtend`` package to implement them. See [this documentation](http://rasbt.github.io/mlxtend/). Please run ``pip install mlxtend`` in the terminal (or run ``!pip install mlxtend`` directly in Jupyter Notebook).  "
   ]
  },
  {
   "cell_type": "code",
   "execution_count": 25,
   "metadata": {},
   "outputs": [
    {
     "name": "stdout",
     "output_type": "stream",
     "text": [
      "The selected feature indices are:  (4, 5, 7, 8, 10, 11, 12)\n",
      "\n",
      "\n",
      "The selected features are:  Index(['nox', 'rm', 'dis', 'rad', 'ptratio', 'b', 'lstat'], dtype='object')\n",
      "\n",
      "\n",
      "The cross-validated R-squared of the linear regression model with the selected features is:  0.6987438701079751\n"
     ]
    }
   ],
   "source": [
    "#Implement the wrapping method\n",
    "\n",
    "# Import the necessary package.\n",
    "\n",
    "from mlxtend.feature_selection import SequentialFeatureSelector as SFS\n",
    "\n",
    "#We use the backward method, i.e., include all the features first and gradually remove them from the model.\n",
    "\n",
    "bs = SFS(LinearRegression(), forward=False, k_features=7).fit(X_train_scaled, y_train)\n",
    "\n",
    "# We set linear regression as the supervised learning model.\n",
    "\n",
    "# The argument forward=False refers to backward selection.\n",
    "\n",
    "# k_features=7 sets the target number of features to 7.\n",
    "\n",
    "#Print the feature indeces and model fitting result\n",
    "\n",
    "print(\"The selected feature indices are: \",bs.k_feature_idx_)\n",
    "\n",
    "print('\\n')\n",
    "\n",
    "print(\"The selected features are: \",df_BH.columns[np.array(bs.k_feature_idx_)])\n",
    "\n",
    "print('\\n')\n",
    "\n",
    "print(\"The cross-validated R-squared of the linear regression model with the selected features is: \",bs.k_score_)"
   ]
  },
  {
   "cell_type": "code",
   "execution_count": null,
   "metadata": {},
   "outputs": [],
   "source": []
  }
 ],
 "metadata": {
  "kernelspec": {
   "display_name": "Python 3 (ipykernel)",
   "language": "python",
   "name": "python3"
  },
  "language_info": {
   "codemirror_mode": {
    "name": "ipython",
    "version": 3
   },
   "file_extension": ".py",
   "mimetype": "text/x-python",
   "name": "python",
   "nbconvert_exporter": "python",
   "pygments_lexer": "ipython3",
   "version": "3.9.7"
  }
 },
 "nbformat": 4,
 "nbformat_minor": 2
}
