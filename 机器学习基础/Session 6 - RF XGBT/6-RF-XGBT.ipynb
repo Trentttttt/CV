{
 "cells": [
  {
   "cell_type": "markdown",
   "metadata": {},
   "source": [
    "# 0. Abstract and Outline"
   ]
  },
  {
   "cell_type": "markdown",
   "metadata": {},
   "source": [
    "The purpose of this document is to extend the idea of basic CARTs. We incorporate the idea of ensemble learning (bagging and boosting in particular) and decision trees. We first introduce random forest (RF), which is an ensemble learning (specifically, bootstrap aggregation) approach that substantially reduces model variance. Random forest also has the advantage of high generalizability and is, therefore, a good benchmark model to start with. The second notable extension of CARTs is (extreme) gradient boosting trees (XGBT), which is also an ensemble learning (i.e., boosting) approach that significantly reduces model biases. Extreme gradient boosting trees have a great many of hyper-parameters, which have enabled this model to produce very competitive prediction performance with careful parameter fine-tuning. The modeling details, the case study, and the Python code are included in this document. \n",
    "\n",
    "Below is the outline of this document:\n",
    "\n",
    "- In [Section 1](#section_6), we introduce ensemble learning and random forest, and revisit the Kwai retention prediction with the random forest model.\n",
    "\n",
    "- In [Section 2](#section_7), we introduce gradient boosting tree, and apply this scalable model to Boston housing price prediction (regression) and the Kwai user retention prediction (classification).\n",
    "\n",
    "- In [Section 3](#section_8), we give some thoughts on the value of RF and XGBT models in predictive modeling."
   ]
  },
  {
   "cell_type": "markdown",
   "metadata": {},
   "source": [
    "<a id='section_6'></a>\n",
    "# 1. Ensemble Learning with Trees: Random Forest"
   ]
  },
  {
   "cell_type": "markdown",
   "metadata": {},
   "source": [
    "In machine learning, it is a common practice to use multiple algorithms/models to build a stronger model and improve the prediction performance. Such a methodology is referred to as ensemble learning ([Wiki Page](https://en.wikipedia.org/wiki/Ensemble_learning)). One of the simplest ensemble learning approaches is to build different models and average the results. Such an intuitive approach works pretty well if the number of models increases as long as the models are not correlated. \n",
    "\n",
    "Among others, random forest is probably the most famous ensemble learning model. Random forest is built on the idea of bagging (Bootstrap AGGregating, where bootstrap means random sample with replacement [Wiki Page](https://en.wikipedia.org/wiki/Bootstrap_aggregating)), which is a systematic way of building \"slightly different\" models from the same training set. More specifically, we apply the following procedure to construct a random forest model:\n",
    "\n",
    "----------\n",
    "\n",
    "<font color=\"red\">\n",
    "\n",
    "- **Step 1. Bootstrapping:** Selecting $m$ random samples $n$ data points from the training set $\\mathcal D$ **with replacement**. The random samples are denoted as $\\{\\mathcal D_1,\\mathcal D_2,...,\\mathcal D_m\\}$.\n",
    "\n",
    "- **Step 2. Constructing a random forest:** On each bootstrapped random sample $\\mathcal D_k$ ($k=1,2,...,m$), train a decision tree $\\hat T_k$ using recursive partitioning, in which each split is only on a random subset of the features $\\{1,2,...,p\\}$. The collection of fitted decision trees $\\hat{RF}=\\{\\hat T_1,\\hat T_2,...,\\hat T_m\\}$ forms a random forest.\n",
    "\n",
    "</font>    \n",
    "    \n",
    "-----------\n",
    "\n",
    "\n",
    "We remark that a random forest is constructed by randomization in two ways. First, for each tree, we select a bootstrapped random sample of the training data $\\mathcal D$. Second, for each recursive split, we select a random subset of features. Both randomization helps reduce the correlation between different trees in $\\hat{RF}$, thus yielding a strong performance in generalization. In particular, a random forest with more trees (a larger $m$) is always better. The two-way randomization of constructing a random forest can be illustrated in the figure where each row represents a data point and each column represent a feature, and the row with the same color represents the same data point in $\\mathcal D$.\n",
    "\n",
    "<img src=\"two-randomization.png\" width=600>\n",
    "\n",
    "\n",
    "\n",
    "As discussed above, predicting with the fitted random forest $\\hat{RF}$ is to average the prediction result of all trees therein. Given a feature $X$, the random forest makes predictions as follows:\n",
    "\n",
    "- **Classification Random Forest:** For each tree $\\hat T_k\\in\\hat{RF}$, it predicts the probability of a positive outcome $\\hat g_k(X)=\\hat{\\mathbb P}_k[Y=1|X]$. The entire forest will predict \n",
    "\n",
    "<font color=\"red\">\n",
    "$$\\hat g(X)=\\hat{\\mathbb P}[Y=1|X]=\\frac{1}{m}\\sum_{k=1}^m\\hat g_k(X) \\in [0,1]$$\n",
    "</font>\n",
    "and the outcome variable\n",
    "<font color=\"red\">\n",
    "$$\\hat Y = \\hat f(X) = \n",
    "\\begin{cases}\n",
    "1,\\mbox{ if }\\frac{1}{m}\\sum_{k=1}^m\\hat g_k(X)\\ge t;\\\\\n",
    "0,\\mbox{ otherwise}\n",
    "\\end{cases}\n",
    "$$\n",
    "</font>    \n",
    "for some classification threshold $t\\in[0,1]$.\n",
    "\n",
    "- **Regression Random Forest:** For each tree $\\hat T_k\\in\\hat{RF}$, it directly predicts the outcome $\\hat Y=\\hat f_k(X)$. The entire forest will predict \n",
    "<font color=\"red\">\n",
    "$$\\hat f(X)=\\frac{1}{m}\\sum_{k=1}^m\\hat f_k(X)$$\n",
    "</font>\n",
    "The two-way randomization and the averaging helps produce a more stable and generalizable classifier/regresser, which is the main edge of random forest over decision tree. Random forest also reduces variance, and avoids overfitting. On the flip side of the coin, random forest is not as interpretable as decision tree. A pictorial illustration of a classification random forest model with 5 trees is given as follows, where regions with different colors present feature values that are predictive of different outcomes. It is clear from the figure that the random forest is much more stable (i.e., with smoother decision boundaries) than the classification trees therein.\n",
    "\n",
    "<img src=\"RF-pic.png\" width=1000>\n",
    "\n",
    "\n",
    "To make sense of why random forest would give rise to more stable predictions, we note that the $m$ predictions of the individual trees with given feature $X$, $\\hat Z_1,\\hat Z_2,...,\\hat Z_m$ are \"almost\" uncorrelated with the same distribution if $m$ is large ($\\hat Z_i=\\hat f_i(X)$ for regression and $\\hat Z_i=\\hat g_i(X)$ for classification, $i=1,2,...,m$). Hence, the variance of the aggregated estimator $\\hat Z=\\frac{1}{m}\\sum_{i=1}^m\\hat Z_i$ is\n",
    "$$\\mbox{Var}(\\hat{Z})=\\mbox{Var}\\left(\\frac{1}{m}\\sum_{i=1}^m\\hat Z_i\\right)=\\frac{1}{m^2}\\mbox{Var}\\left(\\sum_{i=1}^m\\hat Z_i\\right)=\\frac{1}{m^2}\\sum_{i=1}^m\\mbox{Var}(\\hat Z_i)=\\frac{1}{m}\\mbox{Var}(\\hat Z_1),$$\n",
    "where the second equality follows from the quadratic scaling property of the variance operator, the third from that $Z_i$ and $Z_j$ are uncorrelated if $i \\ne j$, and the last from that $Z_i$'s follow the same distribution. From the identity above, we can also conclude that the variance will decrease to 0 as the number of trees $m$ grows, which implies that more trees are better. This could also be viewed from the perspective of the Law of Large Numbers ([Wiki Page](https://en.wikipedia.org/wiki/Law_of_large_numbers)), which states the sample average of a large number of independent trials ($Z_i$'s in our setting) will be very close to the expected value and will tend to become closer to the expected value as more trials (the number of individual trees $m$ in our setting) are performed."
   ]
  },
  {
   "cell_type": "markdown",
   "metadata": {},
   "source": [
    "<a id='section_6.1'></a>\n",
    "## 6.1. Case Study: Random Forest and Kwai Retention Prediction"
   ]
  },
  {
   "cell_type": "markdown",
   "metadata": {},
   "source": [
    "Next, we use the random forest model to study the retention prediction problem of Kwai. You may check [this link](https://scikit-learn.org/stable/modules/generated/sklearn.ensemble.RandomForestClassifier.html) for more details about the ``RandomForestClassifier`` model in the ``sklearn`` package. As you can see, there are a lot of hyper-parameters you can fine-tune, which you will try in the next homework."
   ]
  },
  {
   "cell_type": "code",
   "execution_count": 1,
   "metadata": {},
   "outputs": [],
   "source": [
    "import sys \n",
    "import numpy as np\n",
    "import pandas as pd\n",
    "import statsmodels as sm\n",
    "import sklearn\n",
    "import scipy as sp\n",
    "%matplotlib inline \n",
    "import matplotlib.pyplot as plt\n",
    "import random\n",
    "\n",
    "# Set the random seed such that the results are replicable.\n",
    "\n",
    "random.seed(666)"
   ]
  },
  {
   "cell_type": "code",
   "execution_count": 2,
   "metadata": {},
   "outputs": [],
   "source": [
    "from sklearn.ensemble import RandomForestClassifier\n",
    "from sklearn.model_selection import train_test_split as tr_te_split"
   ]
  },
  {
   "cell_type": "markdown",
   "metadata": {},
   "source": [
    "Load the Kwai retention data, which you should be very familiar with."
   ]
  },
  {
   "cell_type": "code",
   "execution_count": 3,
   "metadata": {},
   "outputs": [
    {
     "data": {
      "text/html": [
       "<div>\n",
       "<style scoped>\n",
       "    .dataframe tbody tr th:only-of-type {\n",
       "        vertical-align: middle;\n",
       "    }\n",
       "\n",
       "    .dataframe tbody tr th {\n",
       "        vertical-align: top;\n",
       "    }\n",
       "\n",
       "    .dataframe thead th {\n",
       "        text-align: right;\n",
       "    }\n",
       "</style>\n",
       "<table border=\"1\" class=\"dataframe\">\n",
       "  <thead>\n",
       "    <tr style=\"text-align: right;\">\n",
       "      <th></th>\n",
       "      <th>user_id</th>\n",
       "      <th>retention</th>\n",
       "      <th>h_video</th>\n",
       "      <th>f_video</th>\n",
       "      <th>f_live</th>\n",
       "      <th>n_video</th>\n",
       "      <th>n_live</th>\n",
       "      <th>comment_duration</th>\n",
       "      <th>comment_num</th>\n",
       "    </tr>\n",
       "  </thead>\n",
       "  <tbody>\n",
       "    <tr>\n",
       "      <th>0</th>\n",
       "      <td>1</td>\n",
       "      <td>1</td>\n",
       "      <td>14.333127</td>\n",
       "      <td>82.440787</td>\n",
       "      <td>50.715540</td>\n",
       "      <td>25.448967</td>\n",
       "      <td>31.928108</td>\n",
       "      <td>24.547305</td>\n",
       "      <td>2</td>\n",
       "    </tr>\n",
       "    <tr>\n",
       "      <th>1</th>\n",
       "      <td>2</td>\n",
       "      <td>0</td>\n",
       "      <td>0.000000</td>\n",
       "      <td>0.000000</td>\n",
       "      <td>169.315973</td>\n",
       "      <td>0.000000</td>\n",
       "      <td>100.053897</td>\n",
       "      <td>0.873836</td>\n",
       "      <td>0</td>\n",
       "    </tr>\n",
       "    <tr>\n",
       "      <th>2</th>\n",
       "      <td>3</td>\n",
       "      <td>1</td>\n",
       "      <td>24.886263</td>\n",
       "      <td>0.000000</td>\n",
       "      <td>8.932622</td>\n",
       "      <td>55.413817</td>\n",
       "      <td>136.752137</td>\n",
       "      <td>9.372263</td>\n",
       "      <td>1</td>\n",
       "    </tr>\n",
       "    <tr>\n",
       "      <th>3</th>\n",
       "      <td>4</td>\n",
       "      <td>0</td>\n",
       "      <td>180.547294</td>\n",
       "      <td>67.597604</td>\n",
       "      <td>0.000000</td>\n",
       "      <td>9.487704</td>\n",
       "      <td>13.855340</td>\n",
       "      <td>23.045255</td>\n",
       "      <td>2</td>\n",
       "    </tr>\n",
       "    <tr>\n",
       "      <th>4</th>\n",
       "      <td>5</td>\n",
       "      <td>1</td>\n",
       "      <td>124.664241</td>\n",
       "      <td>81.037966</td>\n",
       "      <td>156.721750</td>\n",
       "      <td>37.109027</td>\n",
       "      <td>0.000000</td>\n",
       "      <td>26.401544</td>\n",
       "      <td>3</td>\n",
       "    </tr>\n",
       "  </tbody>\n",
       "</table>\n",
       "</div>"
      ],
      "text/plain": [
       "   user_id  retention     h_video    f_video      f_live    n_video  \\\n",
       "0        1          1   14.333127  82.440787   50.715540  25.448967   \n",
       "1        2          0    0.000000   0.000000  169.315973   0.000000   \n",
       "2        3          1   24.886263   0.000000    8.932622  55.413817   \n",
       "3        4          0  180.547294  67.597604    0.000000   9.487704   \n",
       "4        5          1  124.664241  81.037966  156.721750  37.109027   \n",
       "\n",
       "       n_live  comment_duration  comment_num  \n",
       "0   31.928108         24.547305            2  \n",
       "1  100.053897          0.873836            0  \n",
       "2  136.752137          9.372263            1  \n",
       "3   13.855340         23.045255            2  \n",
       "4    0.000000         26.401544            3  "
      ]
     },
     "execution_count": 3,
     "metadata": {},
     "output_type": "execute_result"
    }
   ],
   "source": [
    "kwai_retention = pd.read_csv(\"Kwai_Retention.csv\")\n",
    "kwai_retention.head()"
   ]
  },
  {
   "cell_type": "markdown",
   "metadata": {},
   "source": [
    "Next, we randomly split the data into training (70%) and testing (30%) sets."
   ]
  },
  {
   "cell_type": "code",
   "execution_count": 4,
   "metadata": {},
   "outputs": [],
   "source": [
    "X = kwai_retention.drop(columns=['retention','user_id'])\n",
    "y = kwai_retention['retention'].ravel()\n",
    "X_train, X_test, y_train, y_test = tr_te_split(X, y, test_size=0.3,random_state=666)"
   ]
  },
  {
   "cell_type": "markdown",
   "metadata": {},
   "source": [
    "For model implementation convenience, we convert the outcome variable into factor and train a random forest."
   ]
  },
  {
   "cell_type": "code",
   "execution_count": 5,
   "metadata": {},
   "outputs": [],
   "source": [
    "kwaiForest = RandomForestClassifier(n_estimators=100)\n",
    "# n_estimators is the number of trees in the random forest"
   ]
  },
  {
   "cell_type": "code",
   "execution_count": 6,
   "metadata": {},
   "outputs": [
    {
     "data": {
      "text/plain": [
       "RandomForestClassifier()"
      ]
     },
     "execution_count": 6,
     "metadata": {},
     "output_type": "execute_result"
    }
   ],
   "source": [
    "# Train the model\n",
    "kwaiForest.fit(X_train, y_train)"
   ]
  },
  {
   "cell_type": "code",
   "execution_count": 7,
   "metadata": {},
   "outputs": [
    {
     "data": {
      "text/html": [
       "<style type=\"text/css\">\n",
       "</style>\n",
       "<table id=\"T_0be66_\">\n",
       "  <thead>\n",
       "    <tr>\n",
       "      <th class=\"col_heading level0 col0\" >Feature</th>\n",
       "      <th class=\"col_heading level0 col1\" >Importance</th>\n",
       "    </tr>\n",
       "  </thead>\n",
       "  <tbody>\n",
       "    <tr>\n",
       "      <td id=\"T_0be66_row0_col0\" class=\"data row0 col0\" >h_video</td>\n",
       "      <td id=\"T_0be66_row0_col1\" class=\"data row0 col1\" >0.173939</td>\n",
       "    </tr>\n",
       "    <tr>\n",
       "      <td id=\"T_0be66_row1_col0\" class=\"data row1 col0\" >f_video</td>\n",
       "      <td id=\"T_0be66_row1_col1\" class=\"data row1 col1\" >0.154019</td>\n",
       "    </tr>\n",
       "    <tr>\n",
       "      <td id=\"T_0be66_row2_col0\" class=\"data row2 col0\" >f_live</td>\n",
       "      <td id=\"T_0be66_row2_col1\" class=\"data row2 col1\" >0.163760</td>\n",
       "    </tr>\n",
       "    <tr>\n",
       "      <td id=\"T_0be66_row3_col0\" class=\"data row3 col0\" >n_video</td>\n",
       "      <td id=\"T_0be66_row3_col1\" class=\"data row3 col1\" >0.167540</td>\n",
       "    </tr>\n",
       "    <tr>\n",
       "      <td id=\"T_0be66_row4_col0\" class=\"data row4 col0\" >n_live</td>\n",
       "      <td id=\"T_0be66_row4_col1\" class=\"data row4 col1\" >0.144112</td>\n",
       "    </tr>\n",
       "    <tr>\n",
       "      <td id=\"T_0be66_row5_col0\" class=\"data row5 col0\" >comment_duration</td>\n",
       "      <td id=\"T_0be66_row5_col1\" class=\"data row5 col1\" >0.152856</td>\n",
       "    </tr>\n",
       "    <tr>\n",
       "      <td id=\"T_0be66_row6_col0\" class=\"data row6 col0\" >comment_num</td>\n",
       "      <td id=\"T_0be66_row6_col1\" class=\"data row6 col1\" >0.043774</td>\n",
       "    </tr>\n",
       "  </tbody>\n",
       "</table>\n"
      ],
      "text/plain": [
       "<pandas.io.formats.style.Styler at 0x7fca105e0af0>"
      ]
     },
     "execution_count": 7,
     "metadata": {},
     "output_type": "execute_result"
    }
   ],
   "source": [
    "# The importance of each feature.\n",
    "\n",
    "df_kwai_feature_importance = pd.DataFrame({\n",
    "    'Feature': kwai_retention.drop(columns=['retention','user_id']).columns,\n",
    "    'Importance': kwaiForest.feature_importances_\n",
    "})\n",
    "\n",
    "df_kwai_feature_importance.style.hide_index()"
   ]
  },
  {
   "cell_type": "markdown",
   "metadata": {},
   "source": [
    "The ``feature_importances_`` report the average amount of decrease in Gini Index associated with the splits on different features used to train the random forest. The larger the decrease, the more important the feature. See this [Documentation](https://scikit-learn.org/stable/modules/generated/sklearn.ensemble.RandomForestClassifier.html#sklearn.ensemble.RandomForestClassifier.feature_importances_) for more details about this function. As we can see from the results, for the random forest model, the feature **h_video** makes the most important contribution to predicting the long-term retention."
   ]
  },
  {
   "cell_type": "markdown",
   "metadata": {},
   "source": [
    "Then, we predict, for the validation set, the positive probability probabilities, draw the ROC curve and compute the out-of-sample AUC."
   ]
  },
  {
   "cell_type": "code",
   "execution_count": 8,
   "metadata": {},
   "outputs": [
    {
     "name": "stdout",
     "output_type": "stream",
     "text": [
      "The out-of-sample AUC for the random forest is 0.7073.\n"
     ]
    },
    {
     "data": {
      "text/plain": [
       "<matplotlib.legend.Legend at 0x7fc9a00e6be0>"
      ]
     },
     "execution_count": 8,
     "metadata": {},
     "output_type": "execute_result"
    },
    {
     "data": {
      "image/png": "[encoded data removed]",
      "text/plain": [
       "<Figure size 720x720 with 1 Axes>"
      ]
     },
     "metadata": {
      "needs_background": "light"
     },
     "output_type": "display_data"
    }
   ],
   "source": [
    "import matplotlib.pyplot  as plt\n",
    "from sklearn.metrics import  roc_curve, auc\n",
    "y_score=kwaiForest.predict_proba(X_test)\n",
    "fpr,tpr,threshold = roc_curve(y_test, y_score[:,1])\n",
    "roc_auc =auc(fpr,tpr)\n",
    "\n",
    "print(\"The out-of-sample AUC for the random forest is %0.4f.\" % roc_auc)\n",
    "\n",
    "\n",
    "plt.figure(figsize=(10,10))\n",
    "plt.plot(fpr, tpr, color='darkorange',\n",
    "lw=2, label='ROC curve (area = %0.4f)' % roc_auc)\n",
    "plt.plot([0, 1], [0, 1], color='navy', lw=2, linestyle='--')\n",
    "plt.xlim([0.0, 1.0])\n",
    "plt.ylim([0.0, 1.05])\n",
    "plt.xlabel('False Positive Rate')\n",
    "plt.ylabel('True Positive Rate')\n",
    "plt.title('Receiver operating characteristic example')\n",
    "plt.legend(loc=\"lower right\")"
   ]
  },
  {
   "cell_type": "markdown",
   "metadata": {},
   "source": [
    "<a id='section_7'></a>\n",
    "# 7. Ensemble Learning with Trees: (Extreme) Gradient Boosting Tree"
   ]
  },
  {
   "cell_type": "markdown",
   "metadata": {},
   "source": [
    "Another important tree ensemble method is (gradient) boosting ([Wiki Page](https://en.wikipedia.org/wiki/Gradient_boosting#Gradient_tree_boosting), [Paper](https://arxiv.org/pdf/1603.02754.pdf)). The core idea of gradient boosting tree is\n",
    "\n",
    "----------\n",
    "\n",
    "<font color=\"red\">\n",
    "    \n",
    "**To adaptively train a series of (simple) decision trees and add their prediction results together to form a new (stronger) tree with the objective to minimize the sum of the total training loss and the total regularization penalty.**     \n",
    "\n",
    "</font>\n",
    "\n",
    "------------\n",
    "\n",
    "Before introducing the modeling framework and training paradigm of gradient boosting tree, we present a toy example that illustrates its idea. We want to predict the score that measures how much a user will like a computer game. The first tree is splitted on whether the age is below 20, the second tree is splitted on whether the user uses computer daily. The number below each leaf represents the score the tree predicts for a user therein.\n",
    "\n",
    "<img src=\"Boosting-Tree.png\" width=1000>\n",
    "\n",
    "As shown in the above figure, the prediction of the boosting tree for each user's score is given by the sum of scores predicted by each individual tree. For a regression problem, the score is, naturally, the predicted outcome $\\hat Y$; for a classification problem, the score is usually set as the predicted probability of positive outcome: $\\hat{\\mathbb P}[Y=1|X]$."
   ]
  },
  {
   "cell_type": "markdown",
   "metadata": {},
   "source": [
    "### Gradient Boosting Regressior Tree\n",
    "\n",
    "We now introduce gradient boosting tree from a regression perspective. That from a classification perspective will be briefly discussed at the end. We consider adaptively fitting $k$ regression trees $\\{\\hat f_1(\\cdot),\\hat f_2(\\cdot),...,\\hat f_K(\\cdot)\\}$ on the training data $\\mathcal D=\\{Y_i,X_{ij}:1\\le i\\le n,1\\le j\\le p\\}$, where $f_k(\\cdot)\\in\\mathcal F$ for all $k$. Here, $\\mathcal F$ the set of all regression trees. The integrated model $\\hat f(\\cdot)$ is the sum of all individual regression trees: \n",
    "\n",
    "<font color=\"red\">\n",
    "$$\\hat Y = \\hat f(X)=\\sum_{k=1}^K \\hat f_k(X)$$\n",
    "</font>\n",
    "    \n",
    "The objective is to minimmize the regularized loss:\n",
    "\n",
    "<font color=\"red\">\n",
    "$$\\{\\hat f_1(\\cdot),\\hat f_2(\\cdot),...,\\hat f_K(\\cdot)\\}=\\mbox{argmin}_{f_k(\\cdot)\\in\\mathcal F}\\sum_{i=1}^n\\mathcal L(Y_i,\\hat f(X_i))+\\sum_{k=1}^K R(f_k),$$\n",
    "</font>\n",
    "\n",
    "where we assume in this document training loss is the squared loss \n",
    "\n",
    "<font color=\"red\">\n",
    "$$\\mathcal L(Y,\\hat Y)=(Y-\\hat Y)^2$$ \n",
    "</font>\n",
    "\n",
    "and the complexity is defined as \n",
    "\n",
    "<font color=\"red\">\n",
    "$$R(f_k)=\\gamma T+\\frac{\\lambda}{2}\\sum_{\\tau=1}^T w_{\\tau}^2$$\n",
    "</font>\n",
    "    \n",
    "    \n",
    "with $T$ as the number of leaves for tree $f_k(\\cdot)$ and $w_{\\tau}$ as the predicted outcome value for each leaf $\\tau$. Actually, $\\gamma$ is the complexity parameter discussed above. The hyper-parameters $\\gamma$ and $\\lambda$ are to be fine tuned by cross-validation. For example, for the tree below with 3 leaves\n",
    "\n",
    "<img src=\"Tree-Regularization.png\" width=600>\n",
    "\n",
    "The complexity is \n",
    "\n",
    "$$3\\gamma+\\frac{\\lambda}{2}(2^2+0.1^2+1^2)=3\\gamma+\\frac{\\lambda}{2}(4+0.01+1).$$ \n",
    "\n",
    "\n",
    "There are essentially 3 questions we need to address for constructing a gradient boosting tree.\n",
    "\n",
    "--------\n",
    "\n",
    "<font color=\"red\">\n",
    "    \n",
    "- **Data:** For each individual tree, what data do we use to construct it?\n",
    "- **Leaf outcome given tree structure:** Given the individual tree structure, how do we determine the value of each leaf?\n",
    "- **Tree structure:** How do we determine the optimal structure of each individual tree?\n",
    "\n",
    "</font>\n",
    "\n",
    "--------\n",
    "\n",
    "In the following, we address these 3 questions one by one."
   ]
  },
  {
   "cell_type": "markdown",
   "metadata": {},
   "source": [
    "### Data to Fit Each Individual Tree\n",
    "\n",
    "Boosting refers to the adaptive training process that starts from a constant predictor $\\hat Y\\equiv 0$ and adds a new tree predictor each time. In each round $t$, the tree is trained on the residual of all models trained so far. Specifically,\n",
    "\n",
    "------------------\n",
    "\n",
    "<font color=\"red\">\n",
    "\n",
    "- **Round 1:** Train $\\hat f_1(\\cdot)$ on $\\mathcal D_1=\\{Y^{(1)}_i,X_{ij},1\\le i\\le n,1\\le j\\le p\\}$, where $Y^{(1)}_i=Y_i$ for i=1,2,...,n.\n",
    "- **Round 2:** Train $\\hat f_2(\\cdot)$ on $\\mathcal D_2=\\{Y^{(2)}_i,X_{ij},1\\le i\\le n,1\\le j\\le p\\}$, where $Y^{(2)}_i=Y_i-\\hat f_1(X_i)$ for i=1,2,...,n.\n",
    "- ......\n",
    "- **Round $t$:** Train $\\hat f_t(\\cdot)$ on $\\mathcal D_t=\\{Y^{(t)}_i,X_{ij},1\\le i\\le n,1\\le j\\le p\\}$, where $Y^{(t)}_i=Y_i-\\sum_{k=1}^{t-1}\\hat f_k(X_i)$ for i=1,2,...,n.\n",
    "- ......\n",
    "- **Round $K$:** Train $\\hat f_K(\\cdot)$ on $\\mathcal D_K=\\{Y^{(K)}_i,X_{ij},1\\le i\\le n,1\\le j\\le p\\}$, where $Y^{(K)}_i=Y_i-\\sum_{k=1}^{K-1}\\hat f_k(X_i)$ for i=1,2,...,n.\n",
    "\n",
    "</font>\n",
    "    \n",
    "--------------------\n",
    "\n",
    "The entire gradient boosting tree model is given by $\\hat f(X)=\\sum_{k=1}^K \\hat f_k(X)$. "
   ]
  },
  {
   "cell_type": "markdown",
   "metadata": {},
   "source": [
    "### Determine the Leaf Outcome $\\hat w_{\\tau}$ Given the Individual Tree Structure\n",
    "\n",
    "In particular, in each round $t$ of the adaptive training procedure above, the objective is to minimize the current regularized loss:\n",
    "\n",
    "\n",
    "<font color=\"red\">\n",
    "\n",
    "$$\\hat f_t(\\cdot)=\\mbox{argmin}_{f(\\cdot)\\in\\mathcal F}\\left\\{\\sum_{i=1}^n\\mathcal L\\left(Y_i,\\sum_{s=1}^{t-1}\\hat f_s(X_i)+f(X_i)\\right)+R(f)\\right\\}=\\mbox{argmin}_{f(\\cdot)\\in\\mathcal F}\\left\\{\\sum_{i=1}^n(Y_i^{(t)}-f(X_i))^2+\\gamma T + \\frac{\\lambda}{2}\\left(w_{\\tau}(t)\\right)^2\\right\\}$$\n",
    "\n",
    "</font>\n",
    "    \n",
    "If the tree structure of tree for $\\hat f_t(\\cdot)$ is given, we define \n",
    "\n",
    "<font color=\"red\">\n",
    "    \n",
    "$$G_{\\tau}=2\\left(\\sum_{i\\in \\tau}Y^{(t)}_i\\right),\\mbox{ and }H_{\\tau}=2|\\tau|.$$ \n",
    "\n",
    "</font>    \n",
    "Here, for node $\\tau$, $G_{\\tau}$ is the gradient of the loss function and $H_{\\tau}$ is the Hessian of the loss function. The optimal predicted outcome for each leaf $\\tau$, $\\hat w_{\\tau}(t)$, is given by\n",
    "\n",
    "<font color=\"red\">\n",
    "\n",
    "$$\\hat w_{\\tau}(t)=\\frac{G_{\\tau}}{H_{\\tau}+\\lambda} $$\n",
    "\n",
    "</font>    \n",
    "    \n",
    "Note that if $\\lambda=0$, $\\hat w_{\\tau}(t)=\\frac{G_{\\tau}}{H_{\\tau}}=\\frac{1}{|\\tau|}\\sum_{i\\in\\tau} Y^{(t)}_{i}$, so this is reduced to the usual regression tree where the tree predicts the sample average of the leaf. Plugging the value of $\\hat w_{\\tau}(t)$ into the regularized loss/impurity, we have the optimal regularized loss/impurity is given by (with some constant terms ignored):\n",
    "\n",
    "<font color=\"red\">\n",
    "\n",
    "$$-\\frac{1}{2}\\sum_{\\tau=1}^T\\frac{G_{\\tau}^2}{H_{\\tau}+\\lambda}+\\gamma T.$$\n",
    "    \n",
    "</font>"
   ]
  },
  {
   "cell_type": "markdown",
   "metadata": {},
   "source": [
    "### Recursive Splitting Heuristic to Construct Each Individual Tree\n",
    "\n",
    "Very similar to the usual way of recursively splitting the feature space to construct a single regression tree in a greedy fashion, in each round of individual decision tree training, we need to enumerate all the leave nodes and all the features to find the best split that gives rise to the largest decrease in total impurity/loss, $-\\frac{1}{2}\\sum_{\\tau=1}^T\\frac{G_{\\tau}^2}{H_{\\tau}+\\lambda}$. The recursive splitting procedure to construct an individual tree will be stopped once the largest decrease of this impurity function does not exceed the complexity parameter $\\gamma$. In fact, the decrease of the total regularized loss/impurity, which we call the gain, for a new split is:\n",
    "\n",
    "<font color=\"red\">\n",
    "    \n",
    "$$\\mbox{Gain}=\\frac{1}{2}\\left[\\frac{G_L^2}{H_L+\\lambda}+\\frac{G_R^2}{H_R+\\lambda}-\\frac{(G_L+G_R)^2}{H_L+H_R+\\lambda}\\right]-\\gamma,$$\n",
    "\n",
    "</font>\n",
    "where $G_{L}=2\\left(\\sum_{i\\in \\tau_L}Y^{(t)}_i\\right)$, $H_{L}=2|\\tau_L|$, $G_{R}=2\\left(\\sum_{i\\in \\tau_R}Y^{(t)}_i\\right)$, and $H_{R}=2|\\tau_R|$. The objective is to find a new split based on the current tree structure so that the Gain is maximized at each step of recursive partitioning to construct each tree.\n",
    "\n",
    "To further prevent overfitting, we apply the shrinkage technique by scaling down the newly added individual tree by $\\eta$ (called step-size or shrinkage, usually set around 0.1). This technique reduces the influence of each individual tree and leaves space for future trees to improve the model. We now recap the entire procedure to constructed a boosted tree:\n",
    "\n",
    "----------\n",
    "\n",
    "<font color=\"red\">\n",
    "\n",
    "- **Initialization and input:** Data $\\mathcal D$ are put in the root node. Input the parameters $K$, $\\lambda$, $\\gamma$ and $\\eta$.\n",
    "- **Step 1:** Add a new tree in each iteration. For iteration $t$, $\\mathcal D_t=\\{Y^{(t)}_i,X_{ij},1\\le i\\le n,1\\le j\\le p\\}$, where $Y^{(t)}_i=Y_i-\\sum_{k=1}^{t-1}\\eta \\hat f_k(X_i)$ for i=1,2,...,n. Put all data points of $\\mathcal D_t $ in the root node. \n",
    "- **Step 2:** For each leaf node $\\tau$, split this node into two children nodes according to cutoffs in each feature $X_j$ and compute the optimal predicted outcome $\\hat w_{\\tau}(t)=\\frac{G_{\\tau}}{H_{\\tau}+\\lambda} $ and the optimal regularized loss/impurity $-\\frac{1}{2}\\sum_{\\tau=1}^T\\frac{G_{\\tau}^2}{H_{\\tau}+\\lambda}+\\gamma T$ of each resulting tree.\n",
    "- **Step 3:** Select the constructed tree in **Step 2** with the largest Gain in the regularized loss. If the Gain is greater than 0, repeat **Step 2** to split another leaf; otherwise, add the final tree $\\hat f_t(\\cdot)$ to the model, and repeat **Step 1**.\n",
    "\n",
    "</font> \n",
    "\n",
    "------------\n",
    "    \n",
    "We also remark that the idea of randomly sample a subset of features for each split (also called column subsampling) can also be applied to the gradient boosting tree. This technique could also further reduce overfitting in applications.  \n",
    "\n",
    "The above boosting procedure can be well generalized to as a general **differentiable loss function** $\\mathcal L(\\cdot,\\cdot)$. For example, in LogitBoost tree, \n",
    "\n",
    "$$\\mathcal L (Y,\\hat Y)=-Y\\hat Y+\\log(1+\\exp(\\hat Y)),$$\n",
    "\n",
    "where $\\hat Y$ is the predicted log-of-odds for the positive outcome.\n",
    "\n",
    "Specifically, the predicted outcome value for leaf node $\\tau$ to construct $\\hat f_t(\\cdot)$ is also given by \n",
    "$$\\hat w_{\\tau}=\\frac{G_{\\tau}}{H_{\\tau}+\\lambda},$$\n",
    "where, for leaf $\\tau$, $G_{\\tau}=\\sum_{i\\in\\tau}g_i$ with $g_i$ defined as the **gradient** (this is where the name **Gradient Boosting Tree** comes from) of the loss function $\\mathcal L(Y_i,\\cdot)$ with respect to $\\hat Y_{i}$ evaluated at $\\hat Y_i = \\sum_{s=1}^{t-1}\\hat f_{s}(X_i)$ for each $i\\in \\tau$, and $H_{\\tau}=\\sum_{i\\in\\tau}h_i$ with $h_i$ defined as the **Hessian** of the loss function  $\\mathcal L(Y_i,\\cdot)$ with respect to $\\hat Y_{i}$ evaluated at $\\hat Y_i = \\sum_{s=1}^{t-1}\\hat f_{s}(X_i)$ for each $i$. Similarly, the optimal regularized loss/impurity is given by:\n",
    "\n",
    "$$-\\frac{1}{2}\\sum_{\\tau=1}^T\\frac{G_{\\tau}^2}{H_{\\tau}+\\lambda}+\\gamma T,$$\n",
    "\n",
    "and the gain from each recursive split is given by:\n",
    "\n",
    "$$\\mbox{Gain}=\\frac{1}{2}\\left[\\frac{G_L^2}{H_L+\\lambda}+\\frac{G_R^2}{H_R+\\lambda}-\\frac{(G_L+G_R)^2}{H_L+H_R+\\lambda}\\right]-\\gamma.$$\n",
    "\n",
    "Then, the gradient boosting tree algorithm can be implemented exactly in the same way as described above. We also emphasize that the gradient $G_{\\tau}$ and Hessian $H_{\\tau}$ can be computed well in advance before each split, making the procedure to grow a gradient boosting tree computationally convenient and scalable.  \n",
    "\n",
    "Gradient boosting trees can also be applied to classification directly by viewing the outcome variable $Y\\in\\{0,1\\}$ as a numeric variable. Then, the subsequent residuals after each round of tree-fitting $Y^{(t)}_i$ ($t=1,2,...,K$, $i=1,2,...,n$) will be a numeric value between 0 and 1. The final gradient boosting tree model $\\hat f(X)=\\sum_{t=1}^K \\hat f_t(X)$ can be interpreted as the conditional positive probability given feature $X$, $\\hat f(X)=\\hat{\\mathbb P}[Y=1|X]$."
   ]
  },
  {
   "cell_type": "markdown",
   "metadata": {},
   "source": [
    "Below, we give some illustrations on how the gradient boosting trees would be influenced by the number of individual models. \n",
    "\n",
    "**For gradient boosting regression trees:**\n",
    "\n",
    "<img src=\"GBRT.png\" width=600>\n",
    "\n",
    "**For gradient boosting classification trees:**\n",
    "<img src=\"GBCT.png\" width=1000>\n",
    "\n",
    "The extreme gradient boosting tree (XGBT) is a scalable end-to-end tree boosting system that leverages quite a few engineering novelties such as sparsity algorithms, parallel computing, and cache aware accesses. These system design innovations have substantially increases the speed and scalability of the system (see this [paper](https://arxiv.org/pdf/1603.02754.pdf) for more details). In general, gradient boosting trees are more accurate than random forest. In the next subsections, we demonstrate how to apply gradient boosting tree  to the hotel price prediction problem (regression) and the Kwai user retention prediction problem (classification).\n",
    "\n",
    "The XGBT model has numerous hyper-parameters, such as:\n",
    "- The random number of features for splitting each node;\n",
    "- The maximum depth of the tree;\n",
    "- The maximum number of leaf nodes of the tree;\n",
    "- Regularization on each leaf node \n",
    "- Complexity parameter \n",
    "- The learning rate ;\n",
    "- etc.\n",
    "\n",
    "These hyper-parameters equip us with tremendous flexibilities to fine tune the XGBT model and make it stronger. You will be asked to use cross-validation to fine-tune these parameters to make a more predictive gradient boosting tree."
   ]
  },
  {
   "cell_type": "markdown",
   "metadata": {},
   "source": [
    "## 2.1. Demo of XGBT: Boston Housing Price Prediction"
   ]
  },
  {
   "cell_type": "markdown",
   "metadata": {},
   "source": [
    "We now use the XGBT model to predict Boston housing price. We first load the ``xgboost`` package (you need to install it onto your computer first: ``pip install xgboost``; if this does not work, install it with ``conda install py-xgboost`` in the terminal).\n",
    "\n",
    "If you are unable to install for some reason, you can try the ``sklearn.ensemble.GradientBoostingRegressor()`` (see [this link](https://scikit-learn.org/stable/modules/generated/sklearn.ensemble.GradientBoostingRegressor.html)) and ``sklearn.ensemble.GradientBoostingClassifier()`` (see [this link](https://scikit-learn.org/stable/modules/generated/sklearn.ensemble.GradientBoostingClassifier.html)) in the ``sklearn`` package as an alternative."
   ]
  },
  {
   "cell_type": "code",
   "execution_count": 9,
   "metadata": {},
   "outputs": [],
   "source": [
    "import xgboost as xgb"
   ]
  },
  {
   "cell_type": "markdown",
   "metadata": {},
   "source": [
    "Next, we load the data"
   ]
  },
  {
   "cell_type": "code",
   "execution_count": 10,
   "metadata": {},
   "outputs": [
    {
     "data": {
      "text/html": [
       "<div>\n",
       "<style scoped>\n",
       "    .dataframe tbody tr th:only-of-type {\n",
       "        vertical-align: middle;\n",
       "    }\n",
       "\n",
       "    .dataframe tbody tr th {\n",
       "        vertical-align: top;\n",
       "    }\n",
       "\n",
       "    .dataframe thead th {\n",
       "        text-align: right;\n",
       "    }\n",
       "</style>\n",
       "<table border=\"1\" class=\"dataframe\">\n",
       "  <thead>\n",
       "    <tr style=\"text-align: right;\">\n",
       "      <th></th>\n",
       "      <th>crim</th>\n",
       "      <th>zn</th>\n",
       "      <th>indus</th>\n",
       "      <th>chas</th>\n",
       "      <th>nox</th>\n",
       "      <th>rm</th>\n",
       "      <th>age</th>\n",
       "      <th>dis</th>\n",
       "      <th>rad</th>\n",
       "      <th>tax</th>\n",
       "      <th>ptratio</th>\n",
       "      <th>b</th>\n",
       "      <th>lstat</th>\n",
       "      <th>medv</th>\n",
       "    </tr>\n",
       "  </thead>\n",
       "  <tbody>\n",
       "    <tr>\n",
       "      <th>0</th>\n",
       "      <td>0.00632</td>\n",
       "      <td>18.0</td>\n",
       "      <td>2.31</td>\n",
       "      <td>0</td>\n",
       "      <td>0.538</td>\n",
       "      <td>6.575</td>\n",
       "      <td>65.2</td>\n",
       "      <td>4.0900</td>\n",
       "      <td>1</td>\n",
       "      <td>296</td>\n",
       "      <td>15.3</td>\n",
       "      <td>396.90</td>\n",
       "      <td>4.98</td>\n",
       "      <td>24.0</td>\n",
       "    </tr>\n",
       "    <tr>\n",
       "      <th>1</th>\n",
       "      <td>0.02731</td>\n",
       "      <td>0.0</td>\n",
       "      <td>7.07</td>\n",
       "      <td>0</td>\n",
       "      <td>0.469</td>\n",
       "      <td>6.421</td>\n",
       "      <td>78.9</td>\n",
       "      <td>4.9671</td>\n",
       "      <td>2</td>\n",
       "      <td>242</td>\n",
       "      <td>17.8</td>\n",
       "      <td>396.90</td>\n",
       "      <td>9.14</td>\n",
       "      <td>21.6</td>\n",
       "    </tr>\n",
       "    <tr>\n",
       "      <th>2</th>\n",
       "      <td>0.02729</td>\n",
       "      <td>0.0</td>\n",
       "      <td>7.07</td>\n",
       "      <td>0</td>\n",
       "      <td>0.469</td>\n",
       "      <td>7.185</td>\n",
       "      <td>61.1</td>\n",
       "      <td>4.9671</td>\n",
       "      <td>2</td>\n",
       "      <td>242</td>\n",
       "      <td>17.8</td>\n",
       "      <td>392.83</td>\n",
       "      <td>4.03</td>\n",
       "      <td>34.7</td>\n",
       "    </tr>\n",
       "    <tr>\n",
       "      <th>3</th>\n",
       "      <td>0.03237</td>\n",
       "      <td>0.0</td>\n",
       "      <td>2.18</td>\n",
       "      <td>0</td>\n",
       "      <td>0.458</td>\n",
       "      <td>6.998</td>\n",
       "      <td>45.8</td>\n",
       "      <td>6.0622</td>\n",
       "      <td>3</td>\n",
       "      <td>222</td>\n",
       "      <td>18.7</td>\n",
       "      <td>394.63</td>\n",
       "      <td>2.94</td>\n",
       "      <td>33.4</td>\n",
       "    </tr>\n",
       "    <tr>\n",
       "      <th>4</th>\n",
       "      <td>0.06905</td>\n",
       "      <td>0.0</td>\n",
       "      <td>2.18</td>\n",
       "      <td>0</td>\n",
       "      <td>0.458</td>\n",
       "      <td>7.147</td>\n",
       "      <td>54.2</td>\n",
       "      <td>6.0622</td>\n",
       "      <td>3</td>\n",
       "      <td>222</td>\n",
       "      <td>18.7</td>\n",
       "      <td>396.90</td>\n",
       "      <td>5.33</td>\n",
       "      <td>36.2</td>\n",
       "    </tr>\n",
       "  </tbody>\n",
       "</table>\n",
       "</div>"
      ],
      "text/plain": [
       "      crim    zn  indus  chas    nox     rm   age     dis  rad  tax  ptratio  \\\n",
       "0  0.00632  18.0   2.31     0  0.538  6.575  65.2  4.0900    1  296     15.3   \n",
       "1  0.02731   0.0   7.07     0  0.469  6.421  78.9  4.9671    2  242     17.8   \n",
       "2  0.02729   0.0   7.07     0  0.469  7.185  61.1  4.9671    2  242     17.8   \n",
       "3  0.03237   0.0   2.18     0  0.458  6.998  45.8  6.0622    3  222     18.7   \n",
       "4  0.06905   0.0   2.18     0  0.458  7.147  54.2  6.0622    3  222     18.7   \n",
       "\n",
       "        b  lstat  medv  \n",
       "0  396.90   4.98  24.0  \n",
       "1  396.90   9.14  21.6  \n",
       "2  392.83   4.03  34.7  \n",
       "3  394.63   2.94  33.4  \n",
       "4  396.90   5.33  36.2  "
      ]
     },
     "execution_count": 10,
     "metadata": {},
     "output_type": "execute_result"
    }
   ],
   "source": [
    "df_BH = pd.read_csv(\"BostonHousing.csv\")\n",
    "df_BH.head()"
   ]
  },
  {
   "cell_type": "markdown",
   "metadata": {},
   "source": [
    "Split the data randomly into training (70%) and validation (30%) sets."
   ]
  },
  {
   "cell_type": "code",
   "execution_count": 11,
   "metadata": {},
   "outputs": [],
   "source": [
    "X = df_BH.drop(columns=['medv'])\n",
    "y = df_BH['medv'].ravel()\n",
    "X_train, X_test, y_train, y_test = tr_te_split(X, y, test_size=0.3)"
   ]
  },
  {
   "cell_type": "markdown",
   "metadata": {},
   "source": [
    "We are now ready to train a XGBT model for regression."
   ]
  },
  {
   "cell_type": "code",
   "execution_count": 12,
   "metadata": {},
   "outputs": [],
   "source": [
    "# Format the data correctly\n",
    "\n",
    "data_train = xgb.DMatrix(data=X_train,label= y_train)\n",
    "data_test = xgb.DMatrix(data=X_test,label= y_test)"
   ]
  },
  {
   "cell_type": "code",
   "execution_count": 13,
   "metadata": {},
   "outputs": [],
   "source": [
    "xgb_reg = xgb.XGBRegressor(objective ='reg:squarederror', colsample_bynode=0.8,\\\n",
    "                          learning_rate = 0.1, gamma = 0.001,max_depth = 5,  n_estimators = 50)"
   ]
  },
  {
   "cell_type": "markdown",
   "metadata": {},
   "source": [
    "We next compute the rooted mean squared error (RMSE)."
   ]
  },
  {
   "cell_type": "code",
   "execution_count": 14,
   "metadata": {},
   "outputs": [
    {
     "name": "stdout",
     "output_type": "stream",
     "text": [
      "The RMSE is 2.6864.\n"
     ]
    }
   ],
   "source": [
    "from sklearn.metrics import mean_squared_error as mse\n",
    "\n",
    "xgb_reg.fit(X_train,y_train)\n",
    "\n",
    "preds = xgb_reg.predict(X_test)\n",
    "\n",
    "rmse = np.sqrt(mse(y_test, preds))\n",
    "\n",
    "print(\"The RMSE is %0.4f.\" % (rmse))"
   ]
  },
  {
   "cell_type": "markdown",
   "metadata": {},
   "source": [
    " Below, we introduce the parameters we used:\n",
    "\n",
    "\n",
    "- **n_estimators = 50**: The number of individual trees.\n",
    "- **max_depth = 5**: The maximum depth of each individual tree.\n",
    "- **learning_rate = 0.1**: The shrinkage parameter.\n",
    "- **gamma=0.001**: The complexity parameter.\n",
    "- **lambda = 1**: $L^2$-regularizer's coefficient.\n",
    "- **colsample_bynode=0.8**: For each split at a node, the proportion of variables to use.\n",
    "- **objective = \"reg:squarederror\"**: The training loss function. Here we specify as squared error.\n",
    "\n",
    "The reported result, **rmse** means the rooted mean squared error:\n",
    "\n",
    "$$\\mbox{RMSE}=\\sqrt{\\frac{1}{n}\\sum_{i=1}^n(Y_i-\\hat f(X_i))^2}$$\n",
    "\n",
    "Next, we report the feature importance of the fitted XBGT model to predict the Boston Housing prices, which is defined in a similar fashion as the importance metric for the RF model."
   ]
  },
  {
   "cell_type": "code",
   "execution_count": 15,
   "metadata": {},
   "outputs": [
    {
     "data": {
      "text/plain": [
       "{'crim': 35.2101936340332,\n",
       " 'zn': 2.9859116077423096,\n",
       " 'indus': 75.63155364990234,\n",
       " 'chas': 8.466615676879883,\n",
       " 'nox': 142.27041625976562,\n",
       " 'rm': 348.3531494140625,\n",
       " 'age': 13.182106018066406,\n",
       " 'dis': 57.521976470947266,\n",
       " 'rad': 19.956947326660156,\n",
       " 'tax': 19.482227325439453,\n",
       " 'ptratio': 21.977628707885742,\n",
       " 'b': 14.902859687805176,\n",
       " 'lstat': 584.3749389648438}"
      ]
     },
     "execution_count": 15,
     "metadata": {},
     "output_type": "execute_result"
    }
   ],
   "source": [
    "xgb_reg.get_booster().get_score(importance_type='gain')"
   ]
  },
  {
   "cell_type": "markdown",
   "metadata": {},
   "source": [
    "From the results we know that the variables **lstat** (neighborhood) and **rm** (number of rooms) are most important."
   ]
  },
  {
   "cell_type": "code",
   "execution_count": 16,
   "metadata": {},
   "outputs": [
    {
     "name": "stdout",
     "output_type": "stream",
     "text": [
      "The out-of-sample R-squared of the XGB regression tree is 0.9033.\n"
     ]
    }
   ],
   "source": [
    "from sklearn.metrics import r2_score\n",
    "\n",
    "print(\"The out-of-sample R-squared of the XGB regression tree is %0.4f.\" % r2_score(y_test, xgb_reg.predict(X_test)))"
   ]
  },
  {
   "cell_type": "markdown",
   "metadata": {},
   "source": [
    "As we can see, the XGBT model is very accurate in this case (with out-of-sample $R^2$ as high as 0.89)."
   ]
  },
  {
   "cell_type": "markdown",
   "metadata": {},
   "source": [
    "## 7.2. Demo of XGBT: Kwai User Retention Prediction"
   ]
  },
  {
   "cell_type": "markdown",
   "metadata": {},
   "source": [
    "We apply the gradient boosting tree model to the Kwai user retention problem, which is a classification in nature. First, we load the data. "
   ]
  },
  {
   "cell_type": "code",
   "execution_count": 17,
   "metadata": {},
   "outputs": [
    {
     "data": {
      "text/html": [
       "<div>\n",
       "<style scoped>\n",
       "    .dataframe tbody tr th:only-of-type {\n",
       "        vertical-align: middle;\n",
       "    }\n",
       "\n",
       "    .dataframe tbody tr th {\n",
       "        vertical-align: top;\n",
       "    }\n",
       "\n",
       "    .dataframe thead th {\n",
       "        text-align: right;\n",
       "    }\n",
       "</style>\n",
       "<table border=\"1\" class=\"dataframe\">\n",
       "  <thead>\n",
       "    <tr style=\"text-align: right;\">\n",
       "      <th></th>\n",
       "      <th>user_id</th>\n",
       "      <th>retention</th>\n",
       "      <th>h_video</th>\n",
       "      <th>f_video</th>\n",
       "      <th>f_live</th>\n",
       "      <th>n_video</th>\n",
       "      <th>n_live</th>\n",
       "      <th>comment_duration</th>\n",
       "      <th>comment_num</th>\n",
       "    </tr>\n",
       "  </thead>\n",
       "  <tbody>\n",
       "    <tr>\n",
       "      <th>0</th>\n",
       "      <td>1</td>\n",
       "      <td>1</td>\n",
       "      <td>14.333127</td>\n",
       "      <td>82.440787</td>\n",
       "      <td>50.715540</td>\n",
       "      <td>25.448967</td>\n",
       "      <td>31.928108</td>\n",
       "      <td>24.547305</td>\n",
       "      <td>2</td>\n",
       "    </tr>\n",
       "    <tr>\n",
       "      <th>1</th>\n",
       "      <td>2</td>\n",
       "      <td>0</td>\n",
       "      <td>0.000000</td>\n",
       "      <td>0.000000</td>\n",
       "      <td>169.315973</td>\n",
       "      <td>0.000000</td>\n",
       "      <td>100.053897</td>\n",
       "      <td>0.873836</td>\n",
       "      <td>0</td>\n",
       "    </tr>\n",
       "    <tr>\n",
       "      <th>2</th>\n",
       "      <td>3</td>\n",
       "      <td>1</td>\n",
       "      <td>24.886263</td>\n",
       "      <td>0.000000</td>\n",
       "      <td>8.932622</td>\n",
       "      <td>55.413817</td>\n",
       "      <td>136.752137</td>\n",
       "      <td>9.372263</td>\n",
       "      <td>1</td>\n",
       "    </tr>\n",
       "    <tr>\n",
       "      <th>3</th>\n",
       "      <td>4</td>\n",
       "      <td>0</td>\n",
       "      <td>180.547294</td>\n",
       "      <td>67.597604</td>\n",
       "      <td>0.000000</td>\n",
       "      <td>9.487704</td>\n",
       "      <td>13.855340</td>\n",
       "      <td>23.045255</td>\n",
       "      <td>2</td>\n",
       "    </tr>\n",
       "    <tr>\n",
       "      <th>4</th>\n",
       "      <td>5</td>\n",
       "      <td>1</td>\n",
       "      <td>124.664241</td>\n",
       "      <td>81.037966</td>\n",
       "      <td>156.721750</td>\n",
       "      <td>37.109027</td>\n",
       "      <td>0.000000</td>\n",
       "      <td>26.401544</td>\n",
       "      <td>3</td>\n",
       "    </tr>\n",
       "  </tbody>\n",
       "</table>\n",
       "</div>"
      ],
      "text/plain": [
       "   user_id  retention     h_video    f_video      f_live    n_video  \\\n",
       "0        1          1   14.333127  82.440787   50.715540  25.448967   \n",
       "1        2          0    0.000000   0.000000  169.315973   0.000000   \n",
       "2        3          1   24.886263   0.000000    8.932622  55.413817   \n",
       "3        4          0  180.547294  67.597604    0.000000   9.487704   \n",
       "4        5          1  124.664241  81.037966  156.721750  37.109027   \n",
       "\n",
       "       n_live  comment_duration  comment_num  \n",
       "0   31.928108         24.547305            2  \n",
       "1  100.053897          0.873836            0  \n",
       "2  136.752137          9.372263            1  \n",
       "3   13.855340         23.045255            2  \n",
       "4    0.000000         26.401544            3  "
      ]
     },
     "execution_count": 17,
     "metadata": {},
     "output_type": "execute_result"
    }
   ],
   "source": [
    "kwai_retention = pd.read_csv(\"Kwai_Retention.csv\")\n",
    "kwai_retention.head()"
   ]
  },
  {
   "cell_type": "markdown",
   "metadata": {},
   "source": [
    "Randomly split the data into training and testing sets."
   ]
  },
  {
   "cell_type": "code",
   "execution_count": 18,
   "metadata": {},
   "outputs": [],
   "source": [
    "X = kwai_retention.drop(columns=['retention','user_id'])\n",
    "y = kwai_retention['retention'].ravel()\n",
    "X_train, X_test, y_train, y_test = tr_te_split(X, y, test_size=0.3, random_state=666)"
   ]
  },
  {
   "cell_type": "code",
   "execution_count": 19,
   "metadata": {},
   "outputs": [],
   "source": [
    "data_train = xgb.DMatrix(data=X_train,label= y_train)\n",
    "data_test = xgb.DMatrix(data=X_test,label= y_test)"
   ]
  },
  {
   "cell_type": "markdown",
   "metadata": {},
   "source": [
    "Fit an XGBT model on the training data set."
   ]
  },
  {
   "cell_type": "code",
   "execution_count": 20,
   "metadata": {},
   "outputs": [],
   "source": [
    "kwai_xgbt = xgb.XGBClassifier(objective ='binary:logistic', eval_metric='logloss',colsample_bynode=0.8, learning_rate = 0.1,gamma = 0.001,\n",
    "                max_depth = 10, n_estimators = 50,use_label_encoder=False)\n"
   ]
  },
  {
   "cell_type": "code",
   "execution_count": 21,
   "metadata": {},
   "outputs": [],
   "source": [
    "def printCM(tn, fp, fn, tp):\n",
    "    print('{: <9} {: <9} {: <9}'.format(' ',' ','predicted'))\n",
    "    print('         --------------------')\n",
    "    print('{: <9}|{: <9d}|{: <9d}'.format('Actual',0,1))\n",
    "    print('-----------------------------')\n",
    "    print('{: <9d}|tn={: <6d}|fp={: <9d}'.format(0,tn,fp))\n",
    "    print('-----------------------------')\n",
    "    print('{: <9d}|fn={: <6d}|tp={: <9d}'.format(1,fn,tp))"
   ]
  },
  {
   "cell_type": "code",
   "execution_count": 22,
   "metadata": {},
   "outputs": [
    {
     "name": "stdout",
     "output_type": "stream",
     "text": [
      "                    predicted\n",
      "         --------------------\n",
      "Actual   |0        |1        \n",
      "-----------------------------\n",
      "0        |tn=2861  |fp=6239     \n",
      "-----------------------------\n",
      "1        |fn=2080  |tp=18820    \n"
     ]
    }
   ],
   "source": [
    "from sklearn.metrics import confusion_matrix\n",
    "\n",
    "kwai_xgbt.fit(X_train,y_train)\n",
    "\n",
    "y_pred = kwai_xgbt.predict(X_test)\n",
    "\n",
    "# Draw the confusion matrix\n",
    "tn, fp, fn, tp = confusion_matrix(y_test, y_pred).ravel()\n",
    "\n",
    "printCM(tn, fp, fn, tp)"
   ]
  },
  {
   "cell_type": "markdown",
   "metadata": {},
   "source": [
    "For this classification problem, we change the objective argument using ``objective = 'binary:logistic'``, which specifies that we use the logistic loss function (also called the cross entropy) $\\mathcal L (Y,\\hat Y)=-Y\\hat Y+\\log(1+\\exp(\\hat Y))$ when training the XGBT model, where $\\hat Y$ is the predicted log-of-odds. \n",
    "\n",
    "We also calculate the feature importance based on the fitted XBGT model."
   ]
  },
  {
   "cell_type": "code",
   "execution_count": 23,
   "metadata": {},
   "outputs": [
    {
     "data": {
      "text/plain": [
       "{'h_video': 4.504045486450195,\n",
       " 'f_video': 5.790534496307373,\n",
       " 'f_live': 5.068438529968262,\n",
       " 'n_video': 9.861715316772461,\n",
       " 'n_live': 5.810097694396973,\n",
       " 'comment_duration': 3.3778395652770996,\n",
       " 'comment_num': 2.789293050765991}"
      ]
     },
     "execution_count": 23,
     "metadata": {},
     "output_type": "execute_result"
    }
   ],
   "source": [
    "kwai_xgbt.get_booster().get_score(importance_type='gain')"
   ]
  },
  {
   "cell_type": "markdown",
   "metadata": {},
   "source": [
    "From the XGBT results we observe that, **n_video** makes the most important contribution to predicting user long-term retention, which is slightly different from the random forest model. Finally, we draw the ROC curve and compute the AUC."
   ]
  },
  {
   "cell_type": "code",
   "execution_count": 24,
   "metadata": {},
   "outputs": [
    {
     "name": "stdout",
     "output_type": "stream",
     "text": [
      "The out-of-sample AUC for the XBGT is 0.7229\n"
     ]
    },
    {
     "data": {
      "text/plain": [
       "<matplotlib.legend.Legend at 0x7fc93001b6a0>"
      ]
     },
     "execution_count": 24,
     "metadata": {},
     "output_type": "execute_result"
    },
    {
     "data": {
      "image/png": "[encoded data removed]",
      "text/plain": [
       "<Figure size 720x720 with 1 Axes>"
      ]
     },
     "metadata": {
      "needs_background": "light"
     },
     "output_type": "display_data"
    }
   ],
   "source": [
    "from sklearn.metrics import  roc_curve, auc\n",
    "y_score=kwai_xgbt.predict_proba(X_test)\n",
    "fpr,tpr,threshold = roc_curve(y_test, y_score[:,1])\n",
    "roc_auc =auc(fpr,tpr)\n",
    "\n",
    "print(\"The out-of-sample AUC for the XBGT is %0.4f\" % roc_auc)\n",
    "\n",
    "\n",
    "plt.figure(figsize=(10,10))\n",
    "plt.plot(fpr, tpr, color='darkorange',\n",
    "lw=2, label='ROC curve (area = %0.4f)' % roc_auc)\n",
    "plt.plot([0, 1], [0, 1], color='navy', lw=2, linestyle='--')\n",
    "plt.xlim([0.0, 1.0])\n",
    "plt.ylim([0.0, 1.05])\n",
    "plt.xlabel('False Positive Rate')\n",
    "plt.ylabel('True Positive Rate')\n",
    "plt.title('Receiver operating characteristic example')\n",
    "plt.legend(loc=\"lower right\")"
   ]
  },
  {
   "cell_type": "markdown",
   "metadata": {},
   "source": [
    " As we can see, the XGBT model is much faster than random forest and would yield a (slightly) better prediction performance than the logistic regression model."
   ]
  },
  {
   "cell_type": "markdown",
   "metadata": {},
   "source": [
    "### Cross-Validation\n",
    "\n",
    "For the examples above, we do not discuss how to use $k$-fold cross-validation to fine-tune the (very rich) hyper-parameters of random forests and gradient boosting trees. It is suggested that you use the ``GridSearchCV()`` function of ``sklearn`` to fine-tune your designated choices/grids of hyper-parameters. You will try the details of the next homework problem set. For a reference, please see [this link for the random forest model](https://www.kaggle.com/sociopath00/random-forest-using-gridsearchcv) and [this link for the XGBT model](https://www.kaggle.com/phunter/xgboost-with-gridsearchcv).   "
   ]
  },
  {
   "cell_type": "markdown",
   "metadata": {},
   "source": [
    "<a id='section_8'></a>\n",
    "# 3. Concluding Remarks"
   ]
  },
  {
   "cell_type": "markdown",
   "metadata": {},
   "source": [
    "Finally, we conclude this document with some brief discussions on random forests and gradient boosting trees:\n",
    "\n",
    "- **Random forests** are **stable**, **robust**, and **reducing over-fitting**. So they generally serve as **very good benchmarks** for further model building.\n",
    "\n",
    "- With the engineering and system innovation in **(extreme) gradient boosting trees**, this model could produce very competitive prediction performance with careful fine-tuning of hyper-parameters. "
   ]
  },
  {
   "cell_type": "code",
   "execution_count": null,
   "metadata": {},
   "outputs": [],
   "source": []
  }
 ],
 "metadata": {
  "kernelspec": {
   "display_name": "Python 3 (ipykernel)",
   "language": "python",
   "name": "python3"
  },
  "language_info": {
   "codemirror_mode": {
    "name": "ipython",
    "version": 3
   },
   "file_extension": ".py",
   "mimetype": "text/x-python",
   "name": "python",
   "nbconvert_exporter": "python",
   "pygments_lexer": "ipython3",
   "version": "3.9.7"
  }
 },
 "nbformat": 4,
 "nbformat_minor": 2
}
