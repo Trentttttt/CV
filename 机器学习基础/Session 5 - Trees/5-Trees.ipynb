{
 "cells": [
  {
   "cell_type": "markdown",
   "metadata": {},
   "source": [
    "# 0. Abstract and Outline"
   ]
  },
  {
   "cell_type": "markdown",
   "metadata": {},
   "source": [
    "The purpose of this document is to briefly introduce the tree-based machine learning models and their application to predicting personal loan acceptance at the universal bank. Decision tree (also called, classification and regression tree, CART) model on one hand, has good interpretability and are computationally light to construct, and on the other hand complex enough to capture the ground truth. Therefore, tree-based models are very widely used in practice to address classification or regression problems. Both the modeling details, the case study, and the Python code are included in this document. \n",
    "\n",
    "Below is the outline of this document:\n",
    "\n",
    "- In [Section 1](#section_1), we discuss the issues of logistic regression and $k$NN for classification problems.\n",
    "\n",
    "- In [Section 2](#section_2), we introduce the decision tree model.\n",
    "\n",
    "- In [Section 3](#section_3), we present the Universal Bank personal loan case. \n",
    "\n",
    "- In [Section 4](#section_4), we discuss how to fit a decision tree and how to make predictions with a decision tree. These approaches are illustrated with the bank loan case.\n",
    "\n",
    "- In [Section 5](#section_5), we study regression tree model and implement the model with the the Boston housing price prediction case.\n",
    "\n",
    "- In [Section 6](#section_8), we give some thoughts on the value of tree-based models in predictive modeling."
   ]
  },
  {
   "cell_type": "markdown",
   "metadata": {},
   "source": [
    "<a id='section_1'></a>\n",
    "# 1. Classification Methods Revisited"
   ]
  },
  {
   "cell_type": "markdown",
   "metadata": {},
   "source": [
    "Following our convention in the Business Analytics Course, we denote $\\mathcal D=\\{Y_{i},X_{ij},1\\le i\\le n,1\\le j\\le p\\}$ as the data at hand, where $Y_i$'s are labels and $X_i$'s are features. For a regression problem, $Y_i$ is a continuous variable; for a classification problem, $Y_i$ is discrete and $Y_i\\in\\{0,1\\}$ in this document. We use $\\hat f(\\cdot)$ to denote a supervised learning model trained on the data set $\\mathcal D$ that maps from feature $X$ to label $Y$. For a classification problem, we use $\\hat g(X)$ to denote the estimated positive outcome probability given feature $X$, i.e., $\\hat g(X)=\\hat{\\mathbb P}[Y=1|X]\\approx \\mathbb P[Y=1|X]$, also trained on $\\mathcal D$.\n",
    "\n",
    "So far we have studied logistic regression and $k$-Nearest Neighbors ($k$NN) models for classification. However, both models have some inherent drawbacks that have kept them from being applicable to some settings/data generating processes. \n",
    "\n",
    "- **Logistic regression** model is essentially a linear classifier: We predict $\\hat Y_i=1$ if and only if \n",
    "\n",
    "$$\\hat\\beta_0+\\sum_{j=1}^p\\hat\\beta_j X_{ij}\\ge \\log\\left(\\frac{t}{1-t}\\right),$$\n",
    "where $\\hat \\beta=(\\hat\\beta_0,\\hat\\beta_1,...\\hat\\beta_p)$ is the estimated logistic regression coefficient vector, and $t\\in(0,1)$ is the threshold value under which the model predicts a posititve outcome if $ \\hat{\\mathbb P}[Y_i=1|X_i]=\\frac{\\exp(\\hat\\beta_0+\\sum_{j=1}^p\\hat\\beta_j X_{ij})}{1+\\exp(\\hat\\beta_0+\\sum_{j=1}^p\\hat\\beta_j X_{ij})}\\ge t$. If the underlying data generating process is inherently nonlinear, the logistic regression model will not make accurate predictions, as illustrated in the following figure. \n",
    "\n",
    "<img src=\"logistic-not-valid.png\" width=500>\n",
    "\n",
    "\n",
    "\n",
    "- **$k-$Nearest Neighbors** model has superior performance when distance in $X$ is a good approximation of similarity in $Y$ and the size of the training set $n$ is large. In this case, nevertheless, $k$NN model is also very slow since it needs to calculate the distance between a new data point to original ones in the training set. Furthermore, $k$NN may suffer from the notorious curse of dimensionality ([Wiki Page](https://en.wikipedia.org/wiki/Curse_of_dimensionality)), i.e., when the feature space's dimension $p$ is high, it requires a huge amount of data to ensure the neighbor of a testing data point has sufficiently many data in the training set.\n",
    "\n",
    "With these observations, in the next section, we introduce a new approach called **classification and regression tree (CART)** that is flexible enough to be (highly) non-linear and is reasonably fast to perform both training and prediction, thus addressing the issues associated with logistic regression and $k$NN in a smart fashion. "
   ]
  },
  {
   "cell_type": "markdown",
   "metadata": {},
   "source": [
    "<a id='section_2'></a>\n",
    "# 2. Decision Tree Model"
   ]
  },
  {
   "cell_type": "markdown",
   "metadata": {},
   "source": [
    "The **decision tree** (sometimes also called classification and regression tree, CART, so we use decision tree and CART interchangeably in this course) model mimics the process of making decisions/predictions by a hierarchical series of binary or multiple choice questions. For example, the following figure illustrates a decision tree to predict whether a student has walked to school or taken a bus to school.\n",
    "\n",
    "<img src=\"sample-of-a-decision-tree.png\" width=750>\n",
    "\n",
    "For this decision tree, it is quite intuitive to write out the hierarchical decision/prediction rules:\n",
    "\n",
    "- First, check the weather:\n",
    "  - If it is sunny, then check the time:\n",
    "     - If the time is more than 30 minutes, predict the student has walked to school.\n",
    "     - If the time is less than 30 minutes, predict the student has take a bus to school.\n",
    "  - If it is cloudy, then check whether the student is hungry:\n",
    "     - If he is hungry, predict the student has walked to school.\n",
    "     - If he is not hungry, predict the student has taken a bus to school.\n",
    "  - If it is rainy, then predict the student has taken a bus to school. \n",
    "\n",
    "The decision/prediction process above can be generalized to the classification problem we consider. A tree consists of one or multiple nodes, so that one node has at most parent node and zero or more child nodes. The node that has no parent is called the root node, whereas the node that has no child node is called a leaf node. To simplify notation, we only consider **binary tree** ([Wiki Page](https://en.wikipedia.org/wiki/Binary_tree)) in this document. Specifically, each non-leaf node has at most 2 children. \n",
    "\n",
    "\n",
    "- Associated with each leaf node $\\tau$ of a decision tree is a subset of data points in the training set (denoted as $\\mathcal D(\\tau)$), the features of which satisfy all the decision rules of the ancestor nodes of node $\\tau$. Clearly, $\\mathcal D(\\tau)$ for all leaf nodes $\\tau$ is a partition of $\\mathcal D$. We also define the number of positive outcomes in $\\mathcal D(\\tau)$ as $n_1(\\tau)$, and the number of negative outcomes thereof as $n_0(\\tau)$. Hence, the number of data points in $\\mathcal D(\\tau)$ satisfies that $n(\\tau)=|\\mathcal D(\\tau)|=n_1(\\tau)+n_0(\\tau)$.\n",
    "\n",
    "\n",
    "- Associated with each non-leaf node $\\tau$ of a decision tree is a binary decision rule: Whether a feature $X_j$ is above a threshold $c_{\\tau}$. If $X_j\\le c_{\\tau}$, go to the left child of $\\tau$; otherwise, go to its right child. We also define the data set associated with a non-leaf node $\\tau$, denoted by $\\mathcal D(\\tau)$, as the union of the data sets associated with its left and right children: $\\mathcal D(\\tau)=\\mathcal D(\\tau_L)\\cup\\mathcal D(\\tau_R)$, where $\\tau_L$ (respectively $\\tau_R$) is the left (respectively right) child of $\\tau$. We can also recursively define the number of positive (respectively negative) outcomes for each non-leaf node as the sum of its children nodes' number of positive (respectively negative) outcomes: $n_i(\\tau)=n_i(\\tau_L)+n_i(\\tau_R)$ for $i=0,1$. \n",
    "\n",
    "From a graphical perspective, a decision tree can be viewed as recursive binary partitioning of the feature space, where each partition is along one feature $X_j$ according to the decision true $X_j\\le c_{\\tau}$ associated with a non-leaf node $\\tau$. In fact these two representations of decision tree are equivalent to each other.\n",
    "\n",
    "In the following figure, we plot a decision tree of depth 2 with 3 non-leaf nodes and 4 leaf nodes in both the tree prepresentation (the right figure), and the recursive partitioning structure (the left figure). For this case, the first feature is $X[0]$ and the second feature is $X[1]$. The tree first splits on $X[1]\\le 0.0596$, and then the left subtree splits on $X[0]\\le-0.4177$ whereas the right subtree splits on $X[0]\\le 1.1957$.\n",
    "\n",
    "<img src=\"tree-illustration.png\" width=1000>\n",
    "\n",
    "As shown in the figure above, we have two equivalent representations of a decision tree. Before discussing how we can fit a decision tree model, and how to use a decision tree model to make predictions, we introduce the case of predicting the personal loan acceptance at Universal Bank. "
   ]
  },
  {
   "cell_type": "markdown",
   "metadata": {},
   "source": [
    "<a id='section_3'></a>\n",
    "# 3. Case: Personal Loan Acceptance at Universal Bank"
   ]
  },
  {
   "cell_type": "markdown",
   "metadata": {},
   "source": [
    "Universal Bank is going to run a campaign to offer a personal loan product to its customers. The bank would like to improve its campaign strategy, based on the acceptance data from a previous campaign. In the previous campaign, only about 4.8% of the customers actually accepted the loan offer. The data was collected on a sample of 5000 customers in the previous campaign. \n",
    "\n",
    "The central problem of interest is that **How to accurately predict the who will actually accept the offer in the new campaign?** \n",
    "\n",
    "The list of variables in the previous campaign data set is given as follows:\n",
    "\n",
    "- **Age**: Customer's age\n",
    "- **Experience**: Number of years of professional experience\n",
    "- **Income**: Annual income of the customer (in 1,000 dollars)\n",
    "- **Family Size**: Family size of the customer\n",
    "- **CCAvg**: Average spending on credit cards per month (in 1,000 dollars)\n",
    "- **Education**: Education level, 1 means undergrad or lower; 2 means graduate; 3 means doctoral or professional\n",
    "- **Mortage**: Value of house mortage (in 1,000 dollars)\n",
    "- **Securities Account**: 1 means the customer has securities account with the bank; 0 means otherwise\n",
    "- **CD Account**: 1 means the customer has certificate of deposit (CD) account with bank; 0 means otherwise\n",
    "- **Online Banking**: 1 means the customer uses internet banking facilities; 0 means otherwise\n",
    "- **Credit Card**: 1 means the customer uses credit card issued by University Bank; 0 means otherwise\n",
    "- **Personal Loan (outcome variable)**: 1 means the customer accepted the offer; 0 means otherwise\n",
    "\n",
    "To begin with, we load the bank loan data, and take a look at the first few rows. "
   ]
  },
  {
   "cell_type": "code",
   "execution_count": 1,
   "metadata": {},
   "outputs": [],
   "source": [
    "import sys \n",
    "import numpy as np\n",
    "import pandas as pd\n",
    "import statsmodels as sm\n",
    "import sklearn\n",
    "import scipy as sp\n",
    "%matplotlib inline \n",
    "import matplotlib.pyplot as plt\n",
    "import random\n",
    "\n",
    "# Set the random seed such that the results are replicable.\n",
    "\n",
    "random.seed(666)"
   ]
  },
  {
   "cell_type": "code",
   "execution_count": 2,
   "metadata": {},
   "outputs": [
    {
     "data": {
      "text/html": [
       "<div>\n",
       "<style scoped>\n",
       "    .dataframe tbody tr th:only-of-type {\n",
       "        vertical-align: middle;\n",
       "    }\n",
       "\n",
       "    .dataframe tbody tr th {\n",
       "        vertical-align: top;\n",
       "    }\n",
       "\n",
       "    .dataframe thead th {\n",
       "        text-align: right;\n",
       "    }\n",
       "</style>\n",
       "<table border=\"1\" class=\"dataframe\">\n",
       "  <thead>\n",
       "    <tr style=\"text-align: right;\">\n",
       "      <th></th>\n",
       "      <th>Age</th>\n",
       "      <th>Experience</th>\n",
       "      <th>Income</th>\n",
       "      <th>Family</th>\n",
       "      <th>CCAvg</th>\n",
       "      <th>Education</th>\n",
       "      <th>Mortgage</th>\n",
       "      <th>Personal.Loan</th>\n",
       "      <th>Securities.Account</th>\n",
       "      <th>CD.Account</th>\n",
       "      <th>Online</th>\n",
       "      <th>CreditCard</th>\n",
       "    </tr>\n",
       "  </thead>\n",
       "  <tbody>\n",
       "    <tr>\n",
       "      <th>0</th>\n",
       "      <td>25</td>\n",
       "      <td>1</td>\n",
       "      <td>49</td>\n",
       "      <td>4</td>\n",
       "      <td>1.6</td>\n",
       "      <td>1</td>\n",
       "      <td>0</td>\n",
       "      <td>0</td>\n",
       "      <td>1</td>\n",
       "      <td>0</td>\n",
       "      <td>0</td>\n",
       "      <td>0</td>\n",
       "    </tr>\n",
       "    <tr>\n",
       "      <th>1</th>\n",
       "      <td>45</td>\n",
       "      <td>19</td>\n",
       "      <td>34</td>\n",
       "      <td>3</td>\n",
       "      <td>1.5</td>\n",
       "      <td>1</td>\n",
       "      <td>0</td>\n",
       "      <td>0</td>\n",
       "      <td>1</td>\n",
       "      <td>0</td>\n",
       "      <td>0</td>\n",
       "      <td>0</td>\n",
       "    </tr>\n",
       "    <tr>\n",
       "      <th>2</th>\n",
       "      <td>39</td>\n",
       "      <td>15</td>\n",
       "      <td>11</td>\n",
       "      <td>1</td>\n",
       "      <td>1.0</td>\n",
       "      <td>1</td>\n",
       "      <td>0</td>\n",
       "      <td>0</td>\n",
       "      <td>0</td>\n",
       "      <td>0</td>\n",
       "      <td>0</td>\n",
       "      <td>0</td>\n",
       "    </tr>\n",
       "    <tr>\n",
       "      <th>3</th>\n",
       "      <td>35</td>\n",
       "      <td>9</td>\n",
       "      <td>100</td>\n",
       "      <td>1</td>\n",
       "      <td>2.7</td>\n",
       "      <td>2</td>\n",
       "      <td>0</td>\n",
       "      <td>0</td>\n",
       "      <td>0</td>\n",
       "      <td>0</td>\n",
       "      <td>0</td>\n",
       "      <td>0</td>\n",
       "    </tr>\n",
       "    <tr>\n",
       "      <th>4</th>\n",
       "      <td>35</td>\n",
       "      <td>8</td>\n",
       "      <td>45</td>\n",
       "      <td>4</td>\n",
       "      <td>1.0</td>\n",
       "      <td>2</td>\n",
       "      <td>0</td>\n",
       "      <td>0</td>\n",
       "      <td>0</td>\n",
       "      <td>0</td>\n",
       "      <td>0</td>\n",
       "      <td>1</td>\n",
       "    </tr>\n",
       "  </tbody>\n",
       "</table>\n",
       "</div>"
      ],
      "text/plain": [
       "   Age  Experience  Income  Family  CCAvg  Education  Mortgage  Personal.Loan  \\\n",
       "0   25           1      49       4    1.6          1         0              0   \n",
       "1   45          19      34       3    1.5          1         0              0   \n",
       "2   39          15      11       1    1.0          1         0              0   \n",
       "3   35           9     100       1    2.7          2         0              0   \n",
       "4   35           8      45       4    1.0          2         0              0   \n",
       "\n",
       "   Securities.Account  CD.Account  Online  CreditCard  \n",
       "0                   1           0       0           0  \n",
       "1                   1           0       0           0  \n",
       "2                   0           0       0           0  \n",
       "3                   0           0       0           0  \n",
       "4                   0           0       0           1  "
      ]
     },
     "execution_count": 2,
     "metadata": {},
     "output_type": "execute_result"
    }
   ],
   "source": [
    "df_bank_loan  = pd.read_csv(\"UniversalBank.csv\")\n",
    "\n",
    "df_bank_loan.head()"
   ]
  },
  {
   "cell_type": "markdown",
   "metadata": {},
   "source": [
    "As in all other supervised learning projects， we first randomly split the data into training and validation sets, with 70% of the data into the training set and the rest into the testing set."
   ]
  },
  {
   "cell_type": "code",
   "execution_count": 3,
   "metadata": {},
   "outputs": [],
   "source": [
    "from sklearn.model_selection import train_test_split as tr_te_split\n",
    "\n",
    "X = df_bank_loan.drop(columns=['Personal.Loan'])\n",
    "y = df_bank_loan['Personal.Loan'].ravel()\n",
    "X_train, X_test, y_train, y_test = tr_te_split(X, y, test_size=0.3)"
   ]
  },
  {
   "cell_type": "markdown",
   "metadata": {},
   "source": [
    "<a id='section_4'></a>\n",
    "# 4. Fitting and Predicting with a Decision Tree"
   ]
  },
  {
   "cell_type": "markdown",
   "metadata": {},
   "source": [
    "In this section, we discuss how to fit a decision tree and how to use a decision tree to make predictions."
   ]
  },
  {
   "cell_type": "markdown",
   "metadata": {},
   "source": [
    "## 4.1. Fitting a Decision Tree"
   ]
  },
  {
   "cell_type": "markdown",
   "metadata": {},
   "source": [
    "Next, we study how to use our training set $\\mathcal D=\\{Y_i\\in\\{0,1\\},X_{ij}:1\\le i\\le n,1\\le j\\le p\\}$ to fit a decision (for classification) and to predict both the conditional probability $\\hat g(X)=\\hat{\\mathbb P}[Y=1|X]$ and the outcome $\\hat f(X)=\\hat{Y}$ with a decision tree, given the feature $X$. To avoid the weird case that two observations with the same feature lead to different outcomes, we assume that, for two data points $(X_{i_1},Y_{i_1}),(X_{i_2},Y_{i_2})\\in\\mathcal D$, if $Y_{i_1}\\ne Y_{i_2}$, we always have $X_{i_1}\\ne X_{i_2}$.\n",
    "\n",
    "We first address the training problem. Recall that our objective is to make predictions with the decision tree. Therefore, in order that the decision tree could best serve the prediction purposes, we want its leaf nodes to be as informative as possible, or as \"pure\" as possible. By pure we mean that the labels of the data points in each leaf are as imbalanced as possible, i.e., each leaf node has a lot of positive outcomes and very few negative ones, or a lot of negative outcomes and very few positive ones. \n",
    "\n",
    "In addition, note that, if we do not have any constraint on the structure of the tree, it is always possible to train a decision tree such that all the leaf nodes are completely pure, i.e., all data points in the same leaf node are with the same outcome (Why? You may argue by contradiction. If this is not true, you can always split the tree further until all leaf nodes are pure.) With this observation, we would like the tree not to grow too large. An extensive tree is likely to **overfit** the training data.\n",
    "\n",
    "Therefore, we seek to build a decision tree based on the data $\\mathcal D$ that is\n",
    "\n",
    "- **Maximally compact (to avoid overfitting);**\n",
    "- **All the leaf nodes are as pure as possible (to capture the ground truth).**\n",
    "\n",
    "Essentially, to make the tree as compact as possible is to reduce overfitting and variance, whereas to increase the tree purity is to reduce underfitting and bias. Therefore, fitting a tree requires a smart balance between bias and variance. Under a unified regularization frame, to fit a tree $\\hat f(\\cdot)$ is to find the optimal classification tree model such that\n",
    "\n",
    "<font color=red>\n",
    "$$\\hat f(\\cdot)=\\mbox{argmin}_{f(\\cdot)\\in\\mathcal F}\\Big[\\frac{1}{n}\\underbrace{\\sum_{i=1}^n\\mathcal L(Y_i,f(X_i))}_{\\mbox{Loss/impurity}}+\\underbrace{R(f)}_{\\mbox{Penalty/Complexity}}\\Big]$$\n",
    "</font>\n",
    "\n",
    "where $\\mathcal L(\\cdot,\\cdot)$ is a general loss/impurity function, and $R(f)$ penalizes overly complex trees, and $\\mathcal F$ is the set of all classification trees. In particular, for the case of building a decision tree with complexity parameter $cp$ (see the Python code below), $R(f)=cp \\cdot T$, where $T$ is the number of leaves in the tree $f$. This implies that each additional leaf should decrease the loss/impurity by at least $cp$. Otherwise, the total loss will actually increase.\n",
    "\n",
    "The bad news is the above optimization problem to exactly build a maximally compact and pure tree is NP-hard ([Wiki Page](https://en.wikipedia.org/wiki/NP-hardness)). However, we have good news that this can be well approximated with an efficient greedy heuristic strategy for recursive partitioning. The idea of the heuristic is that we iteratively grow the tree from a root node so that each split from a parent node to two children nodes would increase the (current) purity of each leaf to the largest extent possible. \n",
    "\n",
    "To measure (im)purity, we usually use Gini Index ([Wiki Page](https://en.wikipedia.org/wiki/Decision_tree_learning#Gini_impurity)) or information entrophy ([Wiki Page]( https://en.wikipedia.org/wiki/Entropy_(information_theory) )) as the metric. Both metrics will decrease if the node is purer.\n",
    "\n",
    "- **Gini Index:** The Ginni Index of a leaf node $\\tau$ is given by:\n",
    "<font color=red>\n",
    "$$G(\\tau)=\\sum_{k=0}^1p_k(1-p_k),$$\n",
    "</font>    \n",
    "where $p_k$ is the proportion of data points in $\\tau$ with outcome $Y=k$ ($k=0,1$). For example, if $\\tau$ has 10 data points, 3 with positive outcome, 7 with negative outcome, then $p_0=0.7$, $p_1=0.3$, and $G(\\tau)=0.7\\cdot(1-0.7)+0.3\\cdot(1-0.3)=0.42$. The Gini Index of a non-leaf node $\\tau$ is given recursively by:\n",
    "<font color=red>\n",
    "$$G(\\tau)=\\frac{|\\tau_L|}{|\\tau|}G(\\tau_L)+\\frac{|\\tau_R|}{|\\tau|}G(\\tau_R),$$\n",
    "</font>\n",
    "where $|\\cdot|$ denotes the total number of data points in this node.  \n",
    "\n",
    "- **Information entropy:** The information entropy of a leaf node $\\tau$ is given by:\n",
    "<font color=red>\n",
    "$$E(\\tau)=-\\sum_{k=0}^1p_k\\log(p_k).$$\n",
    "</font>\n",
    "For example, if $\\tau$ has 10 data points, 3 with positive outcome, 7 with negative outcome, then $p_0=0.7$, $p_1=0.3$, and $E(\\tau)=-0.7\\cdot\\log(0.7)-0.3\\cdot\\log(0.3)=0.611$. The information entropy of a non-leaf node $\\tau$ is defined in a similar fashion as the Gini Index:\n",
    "<font color=red>\n",
    "$$E(\\tau)=\\frac{|\\tau_L|}{|\\tau|}E(\\tau_L)+\\frac{|\\tau_R|}{|\\tau|}E(\\tau_R).$$\n",
    "</font>\n",
    "Using either Gini Index or information entropy, we summarize the recursive splitting heuristic to build a decision tree as follows (below we use Gini Index as an example, but the same framework applies to information entropy). \n",
    "\n",
    "-----\n",
    "\n",
    "<font color=red>\n",
    "\n",
    "- **Initialization and input:** All the data $\\mathcal D$ are put in the root node. Input the stopping criteria (such as max tree depth and complexity parameter, which is the minimum decrease in Gini Index of each recursive split).\n",
    "- **Step 1:** For each leaf node $\\tau$, split this node into two children nodes according to cutoffs in each feature $X_j$ and compute the Gini Index of each resulting tree.\n",
    "- **Step 2:** Of the new trees constructed in Step 1, pick up the one with the smallest Gini Index, denoted as $\\hat T^*$. If $\\hat T^*$ satisfies the stopping criteria, then stop and **Output $\\hat T^*$**. Otherwise, repeat **Step 1**. \n",
    "\n",
    "</font>\n",
    "\n",
    "-----\n",
    "\n",
    "\n",
    "We highlight that, on one hand, the recursive splitting procedure to iteratively decrease the tree impurity seeks to enhance the model complexity and flexibility in order to **reduce model bias**. On the other hand, all of the stopping criteria, such as the **maximum tree depth**, the **minimum impurity decrease of each split**, or the **minimum size of each leafnode**, are imposed to control the model complexity of the fitted tree so as to **avoid overfitting** and to **control the model variance**. \n",
    "\n",
    "Let us now illustrate the above recursive partition procedure with the bank loan case. We consider two features: **Income** (annual income) and **CCAvg** (average spending on credit cards). The data set can be plotted as follows:  \n",
    "\n",
    "<img src=\"Tree-0.png\" width=750>\n",
    "\n",
    "Then, by calculating the Gini Index for each split on both the Income feature and the CCAvg feature, the tree with the **smallest Gini Index** is to split at **Income=114**. We plot as follows: \n",
    "\n",
    "<img src=\"Tree-1.png\" width=750>\n",
    "\n",
    "Next, we calculate the Gini Index for each split on both the Income feature and the CCAvg feature, the tree with the **smallest Gini Index** is to split the left node (Income<114 on the first split) at **CCAvg=3** and the right node (Income$\\ge$114 on the first split) at **Income=164**. We plot as follows: \n",
    "\n",
    "<img src=\"Tree-2.png\" width=750>\n",
    "\n",
    "Then, we stop because the stopping criterion is met. This classification tree can also be plotted under the tree structure as follows:\n",
    "\n",
    "<img src=\"Tree-3.png\" width=750>\n",
    "\n",
    "In this figure, the numbers in each leaf node within the red block are the predicted positive outcome probabilities for a new data point in each leaf node, i.e., $\\hat{\\mathbb P}[Y=1|X]$, which we will discuss later. \n",
    "\n",
    "An important interpretation associated with the decision tree model is that nodes close to the root are the most important factor(s). The above tree implies that income is the most critical factor that influences the acceptance of the personal loan."
   ]
  },
  {
   "cell_type": "markdown",
   "metadata": {},
   "source": [
    "## 4.2. Fitting a Decision Tree for the Bank Loan Case"
   ]
  },
  {
   "cell_type": "markdown",
   "metadata": {},
   "source": [
    "We now discuss how to implement a decision tree model  with the University Bank Personal Loan case. We first install and load necessary packages for fitting and plotting a tree. See this [documentation](https://scikit-learn.org/stable/modules/tree.html) for more details."
   ]
  },
  {
   "cell_type": "code",
   "execution_count": 4,
   "metadata": {},
   "outputs": [],
   "source": [
    "## Import necessary packages to fit the classification tree \n",
    "from sklearn.tree import DecisionTreeClassifier, export_graphviz\n",
    "from sklearn.metrics import accuracy_score\n",
    "from sklearn.tree import plot_tree"
   ]
  },
  {
   "cell_type": "markdown",
   "metadata": {},
   "source": [
    "Then, we train a a decision tree using the training set and plot it."
   ]
  },
  {
   "cell_type": "code",
   "execution_count": 5,
   "metadata": {},
   "outputs": [
    {
     "data": {
      "text/plain": [
       "DecisionTreeClassifier(ccp_alpha=0.01, max_depth=3)"
      ]
     },
     "execution_count": 5,
     "metadata": {},
     "output_type": "execute_result"
    }
   ],
   "source": [
    "loan_tree =  DecisionTreeClassifier(max_depth=3,ccp_alpha = 0.01) \n",
    "# max_depth is the maximum depth\n",
    "# ccp_alpha is the complexity parameter\n",
    "loan_tree.fit(X_train, y_train)"
   ]
  },
  {
   "cell_type": "code",
   "execution_count": 6,
   "metadata": {},
   "outputs": [
    {
     "data": {
      "text/plain": [
       "[Text(133.92000000000002, 190.26, 'X[2] <= 113.5\\ngini = 0.174\\nsamples = 3500\\nvalue = [3163, 337]'),\n",
       " Text(66.96000000000001, 135.9, 'gini = 0.034\\nsamples = 2813\\nvalue = [2764, 49]'),\n",
       " Text(200.88000000000002, 135.9, 'X[5] <= 1.5\\ngini = 0.487\\nsamples = 687\\nvalue = [399, 288]'),\n",
       " Text(133.92000000000002, 81.53999999999999, 'X[3] <= 2.5\\ngini = 0.187\\nsamples = 432\\nvalue = [387, 45]'),\n",
       " Text(66.96000000000001, 27.180000000000007, 'gini = 0.0\\nsamples = 387\\nvalue = [387, 0]'),\n",
       " Text(200.88000000000002, 27.180000000000007, 'gini = 0.0\\nsamples = 45\\nvalue = [0, 45]'),\n",
       " Text(267.84000000000003, 81.53999999999999, 'gini = 0.09\\nsamples = 255\\nvalue = [12, 243]')]"
      ]
     },
     "execution_count": 6,
     "metadata": {},
     "output_type": "execute_result"
    },
    {
     "data": {
      "image/png": "[encoded data removed]",
      "text/plain": [
       "<Figure size 432x288 with 1 Axes>"
      ]
     },
     "metadata": {
      "needs_background": "light"
     },
     "output_type": "display_data"
    }
   ],
   "source": [
    "## Plot the tree\n",
    "\n",
    "plot_tree(loan_tree)"
   ]
  },
  {
   "cell_type": "markdown",
   "metadata": {},
   "source": [
    "## 4.3. Predicting with a Decision Tree "
   ]
  },
  {
   "cell_type": "markdown",
   "metadata": {},
   "source": [
    "This subsection is devoted to discussing how we can make predictions on new data with the decision tree $T$ trained on $\\mathcal D$. For a new data point $(Y,X)$, the decision tree $\\hat T$ will uniquely prescribe (by following the decision rules) which leaf node $\\tau$ the feature $X$ belongs to, which is generally very fast. Assume that, for the training data that are in node $\\tau$, there are $n_1(\\tau)$ positive outcomes and $n_0(\\tau)$ negative outcomes. We predict that the conditional probability of positive outcome is\n",
    "\n",
    "<font color=red>\n",
    "$$\\hat g(X)=\\hat{\\mathbb P}[Y=1|X]=\\frac{n_1(\\tau)}{n_1(\\tau)+n_0(\\tau)}$$\n",
    "</font>\n",
    "    \n",
    "For instance, a leaf node $\\tau$ has 100 data points in $\\mathcal D$, of which 80 are with a positive outcome ($Y=1$) and 20 are with a negative outcome ($Y=0$), then for any $X\\in\\tau$, we have $\\hat g(X)=\\hat{\\mathbb P}[Y=1|X]=0.8$. \n",
    "\n",
    "Similar to the cases of logistic regression and $k$NN, with the predicted conditional probability of a positive outcome $\\hat g(X)=\\hat{\\mathbb P}[Y=1|X]$, we can construct a classifier using the threshold approach:\n",
    "\n",
    "$$\\hat Y=\\hat f(x)=\n",
    "\\begin{cases}\n",
    "1,\\mbox{ if }\\hat g(X)\\ge t\\\\\n",
    "0,\\mbox{ otherwise}\n",
    "\\end{cases}\n",
    "$$\n",
    "where $t\\in[0,1]$ is the threshold for the classifier $\\hat f(\\cdot)$. Then, all the common out-of-sample tricks/evaluation metrics such as confusion matrices, overall accuracy, 0-1 Loss, precision, recall, false-positive rate, false-negative rate, ROC, and AUC, etc. can be computed, and the generalization error/performance can be estimated using a testing set.  "
   ]
  },
  {
   "cell_type": "markdown",
   "metadata": {},
   "source": [
    "## 4.4. Predicting and Evaluating a Decision Tree for the Bank Loan Case"
   ]
  },
  {
   "cell_type": "markdown",
   "metadata": {},
   "source": [
    "We now make predictions on the validation set and evaluate the decision tree trained on the training set for the Bank Loan Case.\n",
    "\n",
    "First, we predict $\\hat g(X)=\\hat{\\mathbb P}[Y=1|X]$ on the validation set."
   ]
  },
  {
   "cell_type": "code",
   "execution_count": 7,
   "metadata": {},
   "outputs": [],
   "source": [
    "y_pred = loan_tree.predict(X_test)"
   ]
  },
  {
   "cell_type": "code",
   "execution_count": 8,
   "metadata": {},
   "outputs": [],
   "source": [
    "def printCM(tn, fp, fn, tp):\n",
    "    print('{: <9} {: <9} {: <9}'.format(' ',' ','predicted'))\n",
    "    print('         --------------------')\n",
    "    print('{: <9}|{: <9d}|{: <9d}'.format('Actual',0,1))\n",
    "    print('-----------------------------')\n",
    "    print('{: <9d}|tn={: <6d}|fp={: <9d}'.format(0,tn,fp))\n",
    "    print('-----------------------------')\n",
    "    print('{: <9d}|fn={: <6d}|tp={: <9d}'.format(1,fn,tp))"
   ]
  },
  {
   "cell_type": "code",
   "execution_count": 9,
   "metadata": {},
   "outputs": [
    {
     "name": "stdout",
     "output_type": "stream",
     "text": [
      "                    predicted\n",
      "         --------------------\n",
      "Actual   |0        |1        \n",
      "-----------------------------\n",
      "0        |tn=1352  |fp=5        \n",
      "-----------------------------\n",
      "1        |fn=35    |tp=108      \n"
     ]
    }
   ],
   "source": [
    "from sklearn.metrics import confusion_matrix\n",
    "tn, fp, fn, tp = confusion_matrix(y_test, y_pred).ravel()\n",
    "printCM(tn, fp, fn, tp)"
   ]
  },
  {
   "cell_type": "markdown",
   "metadata": {},
   "source": [
    "The **Confusion Matrix** is printed by our self-defined function, which creates a confusion matrix with common metrics for a classification model. One should note that this function put the actual outcomes as different columns and the predicted outcomes as rows. \n",
    "\n",
    "Finally, we draw the ROC curve and compute the AUC."
   ]
  },
  {
   "cell_type": "code",
   "execution_count": 10,
   "metadata": {},
   "outputs": [
    {
     "name": "stdout",
     "output_type": "stream",
     "text": [
      "The out-of-sample AUC is 0.8922.\n"
     ]
    },
    {
     "data": {
      "image/png": "[encoded data removed]",
      "text/plain": [
       "<Figure size 720x720 with 1 Axes>"
      ]
     },
     "metadata": {
      "needs_background": "light"
     },
     "output_type": "display_data"
    }
   ],
   "source": [
    "from sklearn.metrics import  roc_curve, auc\n",
    "y_score=loan_tree.predict_proba(X_test)\n",
    "fpr,tpr,threshold = roc_curve(y_test, y_score[:,1])\n",
    "roc_auc =auc(fpr,tpr)\n",
    "print(\"The out-of-sample AUC is %0.4f.\"% roc_auc)\n",
    "\n",
    "plt.figure(figsize=(10,10))\n",
    "plt.plot(fpr, tpr, color='darkorange',\n",
    "lw=2, label='ROC curve (area = %0.4f)' % roc_auc)\n",
    "plt.plot([0, 1], [0, 1], color='navy', lw=2, linestyle='--')\n",
    "plt.xlim([0.0, 1.0])\n",
    "plt.ylim([0.0, 1.05])\n",
    "plt.xlabel('False Positive Rate')\n",
    "plt.ylabel('True Positive Rate')\n",
    "plt.title('Receiver operating characteristic example')\n",
    "plt.legend(loc=\"lower right\")\n",
    "plt.show()"
   ]
  },
  {
   "cell_type": "markdown",
   "metadata": {},
   "source": [
    "The main conclusion from our decision tree out-of-sample analysis is that this model has very strong predictive power. "
   ]
  },
  {
   "cell_type": "markdown",
   "metadata": {},
   "source": [
    "<a id='section_5'></a>\n",
    "# 5. Regression Tree"
   ]
  },
  {
   "cell_type": "markdown",
   "metadata": {},
   "source": [
    "For the problem with a continuous outcome variable $Y$, the decision tree trained on the data set $\\mathcal D=\\{Y_{i},X_{ij},1\\le i\\le n,1\\le j\\le p\\}$ is called a regression tree. When fitting a regression tree, the main idea is still to recursively split the feature space so that each split could increase the (current) purity of the tree to the largest possible (or to reduce the impurity to the most). The impurity metric we use to train a regression tree is the squared loss. \n",
    "\n",
    "- The squared loss a leaf node $\\tau$ is given by:\n",
    "<font color=red>\n",
    "$$\\mathcal L(\\tau)=\\frac{1}{|\\tau|}\\sum_{(X,Y)\\in\\mathcal D(\\tau)}(Y-\\bar{Y}_{\\tau})^2,\\mbox{ where }\\bar Y_{\\tau}:=\\frac{1}{|\\tau|}\\sum_{(X,Y)\\in \\mathcal D(\\tau)}Y\\mbox{ is the mean outcome of the node }\\tau$$\n",
    "</font>    \n",
    "The squared loss of a non-leaf node $\\tau$ is given recursively by:\n",
    "<font color=red>\n",
    "$$\\mathcal L(\\tau)=\\frac{|\\tau_L|}{|\\tau|}\\mathcal L(\\tau_L)+\\frac{|\\tau_R|}{|\\tau|}\\mathcal L(\\tau_R)$$\n",
    "</font>\n",
    "\n",
    "Therefore, we could fit a regression with the following recursive partition:\n",
    "\n",
    "\n",
    "-------\n",
    "<font color=red>\n",
    "\n",
    "- **Initialization and input:** All the data $\\mathcal D$ are put in the root node. Input the stopping criteria (such as **max tree depth** and/or **complexity parameter**, which is the minimum decrease in squared loss of each recursive split).\n",
    "- **Step 1:** For each leaf node $\\tau$, split this node into two children nodes according to cutoffs in each feature $X_j$ and compute the squared loss of each resulting tree.\n",
    "- **Step 2:** Of the new trees constructed in Step 1, pick up the one with the smallest squared loss, denoted as $\\hat T^*$. If $\\hat T^*$ satisfies the stopping criteria, then stop and **Output $\\hat T^*$**. Otherwise, repeat **Step 1**. \n",
    "\n",
    "</font>\n",
    "\n",
    "---------\n",
    "    \n",
    "So the above procedure gradually grows a tree until some stopping criteria are met. A regression tree (same thing applies to a classification tree) may overfit the training data when it is too complex, as illustrated by the following figure. Therefore, we may want to prune a tree (i.e., to remove some leaves) to reduce over-fitting.\n",
    "\n",
    "<img src=\"RT.png\" width=600>\n",
    "\n",
    "\n",
    "Next, we discuss how to make predictions on new data with the regression tree $\\hat T$ trained on $\\mathcal D$. For a new data point with feature $X$, the decision tree $\\hat T$ will uniquely prescribe which leaf node $\\tau$ the feature $X$ belongs to. We predict that the outcome given feature $X$ is\n",
    "\n",
    "<font color=red>\n",
    "$$\\hat Y=\\hat f(X)=\\bar Y_{\\tau}=\\frac{1}{|\\tau|}\\sum_{(X,Y)\\in \\mathcal D(\\tau)}Y,$$\n",
    "</font>\n",
    "which is the expected outcome of the data points in the training set and in node $\\tau$.\n",
    "\n",
    "\n",
    "Similar for linear regression all the common out-of-sample evaluation metrics such as rooted-mean-squared-error, $R^2$, and mean-absolute-error, etc. can be computed, and the generalization error/performance can be estimated using a testing set. \n",
    "\n",
    "We also remark that the regression tree model is essentially a step-function model, illustrated as below, where the outcome $Y$ is a user's interest on a specic news topic, and the feature is time, denoted by $t$. The recursive splitting process essentially strikes a balance between bias (measured by the squared loss impurity, denoted as $L(f)$ in the figure below) and variance (measured by the model complexity, denoted as $\\Omega (f)$ in the figure below). To many splits will decrease the bias but increase the variance of a regression model.\n",
    "\n",
    "<img src=\"RT-Step.png\" width=1000>\n",
    "\n",
    "Finally, we remark that a regression tree $\\hat f(X)$ can be represented as \n",
    "\n",
    "<font color=red>\n",
    "\n",
    "$$\\hat f(X)=\\sum_{\\tau=1}^T w_{\\tau}1\\{X\\in\\mathcal X(\\tau)\\}$$\n",
    "\n",
    "</font>\n",
    "where $w_{\\tau}$ is the predicted outcome associated with leaf $\\tau$ and $X(\\tau)$ is the subset of the feature space associated with the leaf $\\tau $, and $T$ is the total number of leaves."
   ]
  },
  {
   "cell_type": "markdown",
   "metadata": {},
   "source": [
    "## 5.1. Regression Tree for Boston Housing Price Prediction"
   ]
  },
  {
   "cell_type": "markdown",
   "metadata": {},
   "source": [
    "Let us revisit the Boston housing data set. This data set contains the following variables:\n",
    "\n",
    "- **CRIM**: Per capita crime rate\n",
    "- **ZN**: How much of the land is zoned for large residential properties\n",
    "- **INDUS**: Proportion of the area used for industry\n",
    "- **CHAS**: Binary variable, 1 if a census tract is next to the Charles River\n",
    "- **NOX**: Concentration of nitrous oxides in the air, a measure of air pollution\n",
    "- **RM**: Average number of rooms per dwelling\n",
    "- **AGE**: Proportion of owner-occupied units built before 1940\n",
    "- **DIS**: Measure of how far the tract is from centers of employment in Boston\n",
    "- **RAD**: Measure of closeness to important highways\n",
    "- **TAX**: Property tax per 10,000 dollars of value\n",
    "- **PTRATIO**: Pupil to teacher ratio by town\n",
    "- **TRACT**: Index of the tract\n",
    "- **lstat**: The percentage of homeowners in the neighborhood considered \"lower class\" (working poor). \n",
    "- **MEDV (outcome variable)**: Median value of owner-occupied homes, measured in thousands of dollars\n",
    "\n",
    "We use the regression tree model to predict the price. To begin with, we load the data."
   ]
  },
  {
   "cell_type": "code",
   "execution_count": 12,
   "metadata": {},
   "outputs": [
    {
     "data": {
      "text/html": [
       "<div>\n",
       "<style scoped>\n",
       "    .dataframe tbody tr th:only-of-type {\n",
       "        vertical-align: middle;\n",
       "    }\n",
       "\n",
       "    .dataframe tbody tr th {\n",
       "        vertical-align: top;\n",
       "    }\n",
       "\n",
       "    .dataframe thead th {\n",
       "        text-align: right;\n",
       "    }\n",
       "</style>\n",
       "<table border=\"1\" class=\"dataframe\">\n",
       "  <thead>\n",
       "    <tr style=\"text-align: right;\">\n",
       "      <th></th>\n",
       "      <th>crim</th>\n",
       "      <th>zn</th>\n",
       "      <th>indus</th>\n",
       "      <th>chas</th>\n",
       "      <th>nox</th>\n",
       "      <th>rm</th>\n",
       "      <th>age</th>\n",
       "      <th>dis</th>\n",
       "      <th>rad</th>\n",
       "      <th>tax</th>\n",
       "      <th>ptratio</th>\n",
       "      <th>b</th>\n",
       "      <th>lstat</th>\n",
       "      <th>medv</th>\n",
       "    </tr>\n",
       "  </thead>\n",
       "  <tbody>\n",
       "    <tr>\n",
       "      <th>0</th>\n",
       "      <td>0.00632</td>\n",
       "      <td>18.0</td>\n",
       "      <td>2.31</td>\n",
       "      <td>0</td>\n",
       "      <td>0.538</td>\n",
       "      <td>6.575</td>\n",
       "      <td>65.2</td>\n",
       "      <td>4.0900</td>\n",
       "      <td>1</td>\n",
       "      <td>296</td>\n",
       "      <td>15.3</td>\n",
       "      <td>396.90</td>\n",
       "      <td>4.98</td>\n",
       "      <td>24.0</td>\n",
       "    </tr>\n",
       "    <tr>\n",
       "      <th>1</th>\n",
       "      <td>0.02731</td>\n",
       "      <td>0.0</td>\n",
       "      <td>7.07</td>\n",
       "      <td>0</td>\n",
       "      <td>0.469</td>\n",
       "      <td>6.421</td>\n",
       "      <td>78.9</td>\n",
       "      <td>4.9671</td>\n",
       "      <td>2</td>\n",
       "      <td>242</td>\n",
       "      <td>17.8</td>\n",
       "      <td>396.90</td>\n",
       "      <td>9.14</td>\n",
       "      <td>21.6</td>\n",
       "    </tr>\n",
       "    <tr>\n",
       "      <th>2</th>\n",
       "      <td>0.02729</td>\n",
       "      <td>0.0</td>\n",
       "      <td>7.07</td>\n",
       "      <td>0</td>\n",
       "      <td>0.469</td>\n",
       "      <td>7.185</td>\n",
       "      <td>61.1</td>\n",
       "      <td>4.9671</td>\n",
       "      <td>2</td>\n",
       "      <td>242</td>\n",
       "      <td>17.8</td>\n",
       "      <td>392.83</td>\n",
       "      <td>4.03</td>\n",
       "      <td>34.7</td>\n",
       "    </tr>\n",
       "    <tr>\n",
       "      <th>3</th>\n",
       "      <td>0.03237</td>\n",
       "      <td>0.0</td>\n",
       "      <td>2.18</td>\n",
       "      <td>0</td>\n",
       "      <td>0.458</td>\n",
       "      <td>6.998</td>\n",
       "      <td>45.8</td>\n",
       "      <td>6.0622</td>\n",
       "      <td>3</td>\n",
       "      <td>222</td>\n",
       "      <td>18.7</td>\n",
       "      <td>394.63</td>\n",
       "      <td>2.94</td>\n",
       "      <td>33.4</td>\n",
       "    </tr>\n",
       "    <tr>\n",
       "      <th>4</th>\n",
       "      <td>0.06905</td>\n",
       "      <td>0.0</td>\n",
       "      <td>2.18</td>\n",
       "      <td>0</td>\n",
       "      <td>0.458</td>\n",
       "      <td>7.147</td>\n",
       "      <td>54.2</td>\n",
       "      <td>6.0622</td>\n",
       "      <td>3</td>\n",
       "      <td>222</td>\n",
       "      <td>18.7</td>\n",
       "      <td>396.90</td>\n",
       "      <td>5.33</td>\n",
       "      <td>36.2</td>\n",
       "    </tr>\n",
       "  </tbody>\n",
       "</table>\n",
       "</div>"
      ],
      "text/plain": [
       "      crim    zn  indus  chas    nox     rm   age     dis  rad  tax  ptratio  \\\n",
       "0  0.00632  18.0   2.31     0  0.538  6.575  65.2  4.0900    1  296     15.3   \n",
       "1  0.02731   0.0   7.07     0  0.469  6.421  78.9  4.9671    2  242     17.8   \n",
       "2  0.02729   0.0   7.07     0  0.469  7.185  61.1  4.9671    2  242     17.8   \n",
       "3  0.03237   0.0   2.18     0  0.458  6.998  45.8  6.0622    3  222     18.7   \n",
       "4  0.06905   0.0   2.18     0  0.458  7.147  54.2  6.0622    3  222     18.7   \n",
       "\n",
       "        b  lstat  medv  \n",
       "0  396.90   4.98  24.0  \n",
       "1  396.90   9.14  21.6  \n",
       "2  392.83   4.03  34.7  \n",
       "3  394.63   2.94  33.4  \n",
       "4  396.90   5.33  36.2  "
      ]
     },
     "execution_count": 12,
     "metadata": {},
     "output_type": "execute_result"
    }
   ],
   "source": [
    "df_BH = pd.read_csv(\"BostonHousing.csv\")\n",
    "df_BH.head()"
   ]
  },
  {
   "cell_type": "markdown",
   "metadata": {},
   "source": [
    "Next, we split the data into training (70%) and testing (30%) sets."
   ]
  },
  {
   "cell_type": "code",
   "execution_count": 13,
   "metadata": {},
   "outputs": [],
   "source": [
    "from sklearn.model_selection import train_test_split as tr_te_split\n",
    "X = df_BH.drop(columns=['medv'])\n",
    "y = df_BH['medv'].ravel()\n",
    "X_train, X_test, y_train, y_test = tr_te_split(X, y, test_size=0.3)"
   ]
  },
  {
   "cell_type": "markdown",
   "metadata": {},
   "source": [
    "We now fit a regression tree model on the training set."
   ]
  },
  {
   "cell_type": "code",
   "execution_count": 14,
   "metadata": {},
   "outputs": [
    {
     "data": {
      "text/plain": [
       "DecisionTreeRegressor(ccp_alpha=0.005)"
      ]
     },
     "execution_count": 14,
     "metadata": {},
     "output_type": "execute_result"
    }
   ],
   "source": [
    "from sklearn.tree import DecisionTreeRegressor\n",
    "BH_tree = DecisionTreeRegressor(ccp_alpha=0.005)\n",
    "BH_tree.fit(X_train,y_train)"
   ]
  },
  {
   "cell_type": "code",
   "execution_count": 15,
   "metadata": {},
   "outputs": [
    {
     "data": {
      "text/plain": [
       "[Text(164.8434184537246, 210.645, 'X[12] <= 7.865\\nsquared_error = 77.846\\nsamples = 354\\nvalue = 21.834'),\n",
       " Text(82.5663656884876, 197.055, 'X[5] <= 7.433\\nsquared_error = 74.391\\nsamples = 101\\nvalue = 31.347'),\n",
       " Text(50.25778781038375, 183.465, 'X[0] <= 3.121\\nsquared_error = 33.455\\nsamples = 81\\nvalue = 28.265'),\n",
       " Text(48.24243792325057, 169.875, 'X[5] <= 6.782\\nsquared_error = 22.04\\nsamples = 79\\nvalue = 27.715'),\n",
       " Text(21.916930022573364, 156.285, 'X[5] <= 6.428\\nsquared_error = 9.188\\nsamples = 50\\nvalue = 25.118'),\n",
       " Text(12.092099322799097, 142.695, 'X[12] <= 7.695\\nsquared_error = 2.593\\nsamples = 25\\nvalue = 23.052'),\n",
       " Text(10.076749435665915, 129.10500000000002, 'X[2] <= 6.115\\nsquared_error = 1.253\\nsamples = 23\\nvalue = 23.404'),\n",
       " Text(6.0460496613995485, 115.515, 'X[1] <= 81.25\\nsquared_error = 1.184\\nsamples = 10\\nvalue = 22.86'),\n",
       " Text(4.030699774266366, 101.925, 'X[9] <= 252.5\\nsquared_error = 0.717\\nsamples = 8\\nvalue = 22.475'),\n",
       " Text(2.015349887133183, 88.33500000000001, 'squared_error = 0.0\\nsamples = 1\\nvalue = 20.7'),\n",
       " Text(6.0460496613995485, 88.33500000000001, 'squared_error = 0.305\\nsamples = 7\\nvalue = 22.729'),\n",
       " Text(8.061399548532732, 101.925, 'squared_error = 0.09\\nsamples = 2\\nvalue = 24.4'),\n",
       " Text(14.10744920993228, 115.515, 'X[9] <= 278.5\\nsquared_error = 0.902\\nsamples = 13\\nvalue = 23.823'),\n",
       " Text(12.092099322799097, 101.925, 'squared_error = 0.042\\nsamples = 3\\nvalue = 24.967'),\n",
       " Text(16.122799097065464, 101.925, 'X[5] <= 6.395\\nsquared_error = 0.65\\nsamples = 10\\nvalue = 23.48'),\n",
       " Text(14.10744920993228, 88.33500000000001, 'squared_error = 0.376\\nsamples = 7\\nvalue = 23.114'),\n",
       " Text(18.138148984198647, 88.33500000000001, 'squared_error = 0.249\\nsamples = 3\\nvalue = 24.333'),\n",
       " Text(14.10744920993228, 129.10500000000002, 'squared_error = 0.16\\nsamples = 2\\nvalue = 19.0'),\n",
       " Text(31.74176072234763, 142.695, 'X[12] <= 4.63\\nsquared_error = 7.247\\nsamples = 25\\nvalue = 27.184'),\n",
       " Text(24.184198645598194, 129.10500000000002, 'X[7] <= 6.808\\nsquared_error = 6.019\\nsamples = 6\\nvalue = 29.733'),\n",
       " Text(22.168848758465014, 115.515, 'X[10] <= 16.5\\nsquared_error = 1.382\\nsamples = 5\\nvalue = 30.72'),\n",
       " Text(20.15349887133183, 101.925, 'squared_error = 0.122\\nsamples = 2\\nvalue = 29.45'),\n",
       " Text(24.184198645598194, 101.925, 'squared_error = 0.429\\nsamples = 3\\nvalue = 31.567'),\n",
       " Text(26.199548532731377, 115.515, 'squared_error = -0.0\\nsamples = 1\\nvalue = 24.8'),\n",
       " Text(39.29932279909707, 129.10500000000002, 'X[1] <= 10.0\\nsquared_error = 4.934\\nsamples = 19\\nvalue = 26.379'),\n",
       " Text(32.24559819413093, 115.515, 'X[10] <= 19.15\\nsquared_error = 2.476\\nsamples = 10\\nvalue = 27.66'),\n",
       " Text(28.21489841986456, 101.925, 'X[4] <= 0.454\\nsquared_error = 1.479\\nsamples = 8\\nvalue = 28.188'),\n",
       " Text(26.199548532731377, 88.33500000000001, 'X[4] <= 0.447\\nsquared_error = 0.758\\nsamples = 5\\nvalue = 27.46'),\n",
       " Text(24.184198645598194, 74.745, 'squared_error = 0.442\\nsamples = 3\\nvalue = 28.033'),\n",
       " Text(28.21489841986456, 74.745, 'squared_error = 0.0\\nsamples = 2\\nvalue = 26.6'),\n",
       " Text(30.230248306997744, 88.33500000000001, 'squared_error = 0.327\\nsamples = 3\\nvalue = 29.4'),\n",
       " Text(36.276297968397294, 101.925, 'X[6] <= 43.0\\nsquared_error = 0.903\\nsamples = 2\\nvalue = 25.55'),\n",
       " Text(34.26094808126411, 88.33500000000001, 'squared_error = 0.0\\nsamples = 1\\nvalue = 24.6'),\n",
       " Text(38.29164785553048, 88.33500000000001, 'squared_error = 0.0\\nsamples = 1\\nvalue = 26.5'),\n",
       " Text(46.35304740406321, 115.515, 'X[7] <= 5.259\\nsquared_error = 3.816\\nsamples = 9\\nvalue = 24.956'),\n",
       " Text(44.33769751693003, 101.925, 'X[1] <= 30.0\\nsquared_error = 3.976\\nsamples = 3\\nvalue = 27.133'),\n",
       " Text(42.322347629796845, 88.33500000000001, 'squared_error = 0.0\\nsamples = 1\\nvalue = 24.4'),\n",
       " Text(46.35304740406321, 88.33500000000001, 'squared_error = 0.36\\nsamples = 2\\nvalue = 28.5'),\n",
       " Text(48.36839729119639, 101.925, 'squared_error = 0.179\\nsamples = 6\\nvalue = 23.867'),\n",
       " Text(74.56794582392777, 156.285, 'X[10] <= 18.9\\nsquared_error = 12.516\\nsamples = 29\\nvalue = 32.193'),\n",
       " Text(66.50654627539504, 142.695, 'X[5] <= 6.913\\nsquared_error = 9.05\\nsamples = 25\\nvalue = 33.0'),\n",
       " Text(58.445146726862305, 129.10500000000002, 'X[2] <= 2.585\\nsquared_error = 5.836\\nsamples = 7\\nvalue = 29.886'),\n",
       " Text(54.41444695259594, 115.515, 'X[8] <= 6.0\\nsquared_error = 2.89\\nsamples = 2\\nvalue = 26.5'),\n",
       " Text(52.399097065462755, 101.925, 'squared_error = 0.0\\nsamples = 1\\nvalue = 24.8'),\n",
       " Text(56.42979683972912, 101.925, 'squared_error = 0.0\\nsamples = 1\\nvalue = 28.2'),\n",
       " Text(62.47584650112867, 115.515, 'X[6] <= 58.6\\nsquared_error = 0.594\\nsamples = 5\\nvalue = 31.24'),\n",
       " Text(60.46049661399549, 101.925, 'squared_error = 0.182\\nsamples = 4\\nvalue = 31.575'),\n",
       " Text(64.49119638826186, 101.925, 'squared_error = -0.0\\nsamples = 1\\nvalue = 29.9'),\n",
       " Text(74.56794582392777, 129.10500000000002, 'X[11] <= 376.91\\nsquared_error = 5.062\\nsamples = 18\\nvalue = 34.211'),\n",
       " Text(70.5372460496614, 115.515, 'X[6] <= 43.45\\nsquared_error = 1.822\\nsamples = 2\\nvalue = 30.35'),\n",
       " Text(68.52189616252822, 101.925, 'squared_error = 0.0\\nsamples = 1\\nvalue = 29.0'),\n",
       " Text(72.55259593679459, 101.925, 'squared_error = -0.0\\nsamples = 1\\nvalue = 31.7'),\n",
       " Text(78.59864559819414, 115.515, 'X[7] <= 3.488\\nsquared_error = 3.371\\nsamples = 16\\nvalue = 34.694'),\n",
       " Text(76.58329571106096, 101.925, 'squared_error = 0.616\\nsamples = 3\\nvalue = 37.033'),\n",
       " Text(80.61399548532732, 101.925, 'X[10] <= 15.25\\nsquared_error = 2.452\\nsamples = 13\\nvalue = 34.154'),\n",
       " Text(76.58329571106096, 88.33500000000001, 'X[0] <= 0.085\\nsquared_error = 0.822\\nsamples = 5\\nvalue = 35.66'),\n",
       " Text(74.56794582392777, 74.745, 'squared_error = 0.109\\nsamples = 3\\nvalue = 34.967'),\n",
       " Text(78.59864559819414, 74.745, 'squared_error = 0.09\\nsamples = 2\\nvalue = 36.7'),\n",
       " Text(84.64469525959369, 88.33500000000001, 'X[12] <= 4.38\\nsquared_error = 1.166\\nsamples = 8\\nvalue = 33.212'),\n",
       " Text(82.6293453724605, 74.745, 'squared_error = 0.442\\nsamples = 3\\nvalue = 34.333'),\n",
       " Text(86.66004514672687, 74.745, 'squared_error = 0.394\\nsamples = 5\\nvalue = 32.54'),\n",
       " Text(82.6293453724605, 142.695, 'X[12] <= 4.585\\nsquared_error = 4.672\\nsamples = 4\\nvalue = 27.15'),\n",
       " Text(80.61399548532732, 129.10500000000002, 'squared_error = 0.303\\nsamples = 2\\nvalue = 29.05'),\n",
       " Text(84.64469525959369, 129.10500000000002, 'X[6] <= 62.75\\nsquared_error = 1.823\\nsamples = 2\\nvalue = 25.25'),\n",
       " Text(82.6293453724605, 115.515, 'squared_error = 0.0\\nsamples = 1\\nvalue = 26.6'),\n",
       " Text(86.66004514672687, 115.515, 'squared_error = 0.0\\nsamples = 1\\nvalue = 23.9'),\n",
       " Text(52.27313769751694, 169.875, 'squared_error = 0.0\\nsamples = 2\\nvalue = 50.0'),\n",
       " Text(114.87494356659143, 183.465, 'X[5] <= 8.753\\nsquared_error = 46.021\\nsamples = 20\\nvalue = 43.825'),\n",
       " Text(112.85959367945824, 169.875, 'X[10] <= 17.6\\nsquared_error = 21.811\\nsamples = 19\\nvalue = 44.979'),\n",
       " Text(104.79819413092551, 156.285, 'X[12] <= 3.145\\nsquared_error = 14.082\\nsamples = 15\\nvalue = 46.54'),\n",
       " Text(96.73679458239278, 142.695, 'X[6] <= 61.5\\nsquared_error = 17.23\\nsamples = 5\\nvalue = 43.86'),\n",
       " Text(92.70609480812642, 129.10500000000002, 'X[0] <= 0.015\\nsquared_error = 6.222\\nsamples = 3\\nvalue = 46.667'),\n",
       " Text(90.69074492099324, 115.515, 'squared_error = 0.0\\nsamples = 1\\nvalue = 50.0'),\n",
       " Text(94.7214446952596, 115.515, 'X[9] <= 230.0\\nsquared_error = 1.0\\nsamples = 2\\nvalue = 45.0'),\n",
       " Text(92.70609480812642, 101.925, 'squared_error = 0.0\\nsamples = 1\\nvalue = 46.0'),\n",
       " Text(96.73679458239278, 101.925, 'squared_error = 0.0\\nsamples = 1\\nvalue = 44.0'),\n",
       " Text(100.76749435665914, 129.10500000000002, 'X[12] <= 2.8\\nsquared_error = 4.203\\nsamples = 2\\nvalue = 39.65'),\n",
       " Text(98.75214446952596, 115.515, 'squared_error = 0.0\\nsamples = 1\\nvalue = 41.7'),\n",
       " Text(102.78284424379233, 115.515, 'squared_error = -0.0\\nsamples = 1\\nvalue = 37.6'),\n",
       " Text(112.85959367945824, 142.695, 'X[5] <= 7.837\\nsquared_error = 7.122\\nsamples = 10\\nvalue = 47.88'),\n",
       " Text(108.82889390519188, 129.10500000000002, 'X[5] <= 7.67\\nsquared_error = 1.007\\nsamples = 3\\nvalue = 44.0'),\n",
       " Text(106.81354401805869, 115.515, 'squared_error = 0.04\\nsamples = 2\\nvalue = 43.3'),\n",
       " Text(110.84424379232506, 115.515, 'squared_error = 0.0\\nsamples = 1\\nvalue = 45.4'),\n",
       " Text(116.89029345372461, 129.10500000000002, 'X[7] <= 3.273\\nsquared_error = 0.525\\nsamples = 7\\nvalue = 49.543'),\n",
       " Text(114.87494356659143, 115.515, 'squared_error = 0.0\\nsamples = 4\\nvalue = 50.0'),\n",
       " Text(118.9056433408578, 115.515, 'squared_error = 0.576\\nsamples = 3\\nvalue = 48.933'),\n",
       " Text(120.92099322799098, 156.285, 'X[5] <= 7.728\\nsquared_error = 7.387\\nsamples = 4\\nvalue = 39.125'),\n",
       " Text(118.9056433408578, 142.695, 'squared_error = 0.0\\nsamples = 1\\nvalue = 35.2'),\n",
       " Text(122.93634311512416, 142.695, 'X[0] <= 0.245\\nsquared_error = 3.002\\nsamples = 3\\nvalue = 40.433'),\n",
       " Text(120.92099322799098, 129.10500000000002, 'squared_error = 0.303\\nsamples = 2\\nvalue = 39.25'),\n",
       " Text(124.95169300225734, 129.10500000000002, 'squared_error = 0.0\\nsamples = 1\\nvalue = 42.8'),\n",
       " Text(116.89029345372461, 169.875, 'squared_error = 0.0\\nsamples = 1\\nvalue = 21.9'),\n",
       " Text(247.12047121896165, 197.055, 'X[12] <= 16.085\\nsquared_error = 28.683\\nsamples = 253\\nvalue = 18.037'),\n",
       " Text(203.77863995485328, 183.465, 'X[5] <= 6.605\\nsquared_error = 14.75\\nsamples = 147\\nvalue = 21.052'),\n",
       " Text(155.89046275395035, 169.875, 'X[9] <= 208.0\\nsquared_error = 9.177\\nsamples = 135\\nvalue = 20.473'),\n",
       " Text(128.9823927765237, 156.285, 'X[12] <= 11.715\\nsquared_error = 39.457\\nsamples = 4\\nvalue = 26.075'),\n",
       " Text(126.96704288939053, 142.695, 'squared_error = 0.0\\nsamples = 1\\nvalue = 36.2'),\n",
       " Text(130.99774266365688, 142.695, 'X[9] <= 190.5\\nsquared_error = 7.047\\nsamples = 3\\nvalue = 22.7'),\n",
       " Text(128.9823927765237, 129.10500000000002, 'squared_error = 0.303\\nsamples = 2\\nvalue = 20.85'),\n",
       " Text(133.01309255079008, 129.10500000000002, 'squared_error = -0.0\\nsamples = 1\\nvalue = 26.4'),\n",
       " Text(182.79853273137698, 156.285, 'X[6] <= 69.3\\nsquared_error = 7.265\\nsamples = 131\\nvalue = 20.302'),\n",
       " Text(152.5367945823928, 142.695, 'X[5] <= 5.923\\nsquared_error = 5.021\\nsamples = 65\\nvalue = 21.232'),\n",
       " Text(137.04379232505644, 129.10500000000002, 'X[5] <= 5.75\\nsquared_error = 2.275\\nsamples = 26\\nvalue = 19.981'),\n",
       " Text(133.01309255079008, 115.515, 'X[7] <= 2.672\\nsquared_error = 1.991\\nsamples = 7\\nvalue = 18.529'),\n",
       " Text(130.99774266365688, 101.925, 'squared_error = 0.0\\nsamples = 1\\nvalue = 16.1'),\n",
       " Text(135.02844243792325, 101.925, 'X[2] <= 6.485\\nsquared_error = 1.176\\nsamples = 6\\nvalue = 18.933'),\n",
       " Text(133.01309255079008, 88.33500000000001, 'squared_error = 0.447\\nsamples = 3\\nvalue = 18.0'),\n",
       " Text(137.04379232505644, 88.33500000000001, 'squared_error = 0.162\\nsamples = 3\\nvalue = 19.867'),\n",
       " Text(141.0744920993228, 115.515, 'X[0] <= 0.035\\nsquared_error = 1.316\\nsamples = 19\\nvalue = 20.516'),\n",
       " Text(139.0591422121896, 101.925, 'squared_error = 0.169\\nsamples = 3\\nvalue = 18.967'),\n",
       " Text(143.08984198645598, 101.925, 'X[2] <= 3.505\\nsquared_error = 0.997\\nsamples = 16\\nvalue = 20.806'),\n",
       " Text(141.0744920993228, 88.33500000000001, 'squared_error = 0.002\\nsamples = 2\\nvalue = 19.35'),\n",
       " Text(145.10519187358918, 88.33500000000001, 'X[11] <= 384.03\\nsquared_error = 0.793\\nsamples = 14\\nvalue = 21.014'),\n",
       " Text(143.08984198645598, 74.745, 'squared_error = 0.096\\nsamples = 3\\nvalue = 20.167'),\n",
       " Text(147.12054176072235, 74.745, 'X[4] <= 0.476\\nsquared_error = 0.733\\nsamples = 11\\nvalue = 21.245'),\n",
       " Text(145.10519187358918, 61.155, 'X[12] <= 8.6\\nsquared_error = 0.423\\nsamples = 6\\nvalue = 20.7'),\n",
       " Text(143.08984198645598, 47.565, 'squared_error = 0.0\\nsamples = 1\\nvalue = 22.0'),\n",
       " Text(147.12054176072235, 47.565, 'squared_error = 0.102\\nsamples = 5\\nvalue = 20.44'),\n",
       " Text(149.13589164785554, 61.155, 'squared_error = 0.32\\nsamples = 5\\nvalue = 21.9'),\n",
       " Text(168.02979683972913, 129.10500000000002, 'X[2] <= 5.255\\nsquared_error = 5.111\\nsamples = 39\\nvalue = 22.067'),\n",
       " Text(159.21264108352145, 115.515, 'X[9] <= 326.0\\nsquared_error = 3.604\\nsamples = 13\\nvalue = 20.315'),\n",
       " Text(155.18194130925508, 101.925, 'X[7] <= 4.62\\nsquared_error = 1.9\\nsamples = 10\\nvalue = 21.03'),\n",
       " Text(153.1665914221219, 88.33500000000001, 'squared_error = 0.176\\nsamples = 3\\nvalue = 22.633'),\n",
       " Text(157.19729119638828, 88.33500000000001, 'X[5] <= 6.294\\nsquared_error = 1.065\\nsamples = 7\\nvalue = 20.343'),\n",
       " Text(155.18194130925508, 74.745, 'X[5] <= 6.003\\nsquared_error = 0.572\\nsamples = 6\\nvalue = 20.033'),\n",
       " Text(153.1665914221219, 61.155, 'squared_error = 0.203\\nsamples = 2\\nvalue = 19.15'),\n",
       " Text(157.19729119638828, 61.155, 'squared_error = 0.172\\nsamples = 4\\nvalue = 20.475'),\n",
       " Text(159.21264108352145, 74.745, 'squared_error = 0.0\\nsamples = 1\\nvalue = 22.2'),\n",
       " Text(163.2433408577878, 101.925, 'X[9] <= 426.0\\nsquared_error = 1.909\\nsamples = 3\\nvalue = 17.933'),\n",
       " Text(161.22799097065464, 88.33500000000001, 'squared_error = 0.25\\nsamples = 2\\nvalue = 17.0'),\n",
       " Text(165.258690744921, 88.33500000000001, 'squared_error = 0.0\\nsamples = 1\\nvalue = 19.8'),\n",
       " Text(176.8469525959368, 115.515, 'X[11] <= 386.105\\nsquared_error = 3.564\\nsamples = 26\\nvalue = 22.942'),\n",
       " Text(171.30474040632055, 101.925, 'X[2] <= 10.7\\nsquared_error = 4.267\\nsamples = 8\\nvalue = 24.45'),\n",
       " Text(169.28939051918738, 88.33500000000001, 'X[11] <= 382.465\\nsquared_error = 1.945\\nsamples = 6\\nvalue = 25.417'),\n",
       " Text(167.27404063205418, 74.745, 'squared_error = 0.035\\nsamples = 4\\nvalue = 24.5'),\n",
       " Text(171.30474040632055, 74.745, 'squared_error = 0.722\\nsamples = 2\\nvalue = 27.25'),\n",
       " Text(173.32009029345375, 88.33500000000001, 'squared_error = 0.022\\nsamples = 2\\nvalue = 21.55'),\n",
       " Text(182.38916478555305, 101.925, 'X[6] <= 43.15\\nsquared_error = 1.792\\nsamples = 18\\nvalue = 22.272'),\n",
       " Text(177.3507900677201, 88.33500000000001, 'X[0] <= 0.082\\nsquared_error = 1.774\\nsamples = 5\\nvalue = 23.42'),\n",
       " Text(175.33544018058691, 74.745, 'squared_error = 0.022\\nsamples = 2\\nvalue = 21.85'),\n",
       " Text(179.36613995485328, 74.745, 'squared_error = 0.202\\nsamples = 3\\nvalue = 24.467'),\n",
       " Text(187.42753950338601, 88.33500000000001, 'X[5] <= 6.319\\nsquared_error = 1.098\\nsamples = 13\\nvalue = 21.831'),\n",
       " Text(183.39683972911965, 74.745, 'X[6] <= 66.0\\nsquared_error = 0.443\\nsamples = 10\\nvalue = 21.41'),\n",
       " Text(181.38148984198648, 61.155, 'squared_error = 0.218\\nsamples = 9\\nvalue = 21.244'),\n",
       " Text(185.41218961625285, 61.155, 'squared_error = 0.0\\nsamples = 1\\nvalue = 22.9'),\n",
       " Text(191.45823927765238, 74.745, 'X[2] <= 11.26\\nsquared_error = 0.722\\nsamples = 3\\nvalue = 23.233'),\n",
       " Text(189.4428893905192, 61.155, 'squared_error = 0.0\\nsamples = 1\\nvalue = 24.4'),\n",
       " Text(193.47358916478555, 61.155, 'squared_error = 0.063\\nsamples = 2\\nvalue = 22.65'),\n",
       " Text(213.06027088036117, 142.695, 'X[12] <= 14.395\\nsquared_error = 7.784\\nsamples = 66\\nvalue = 19.386'),\n",
       " Text(200.14943566591424, 129.10500000000002, 'X[12] <= 8.04\\nsquared_error = 7.478\\nsamples = 49\\nvalue = 20.08'),\n",
       " Text(198.13408577878104, 115.515, 'squared_error = 0.0\\nsamples = 1\\nvalue = 11.9'),\n",
       " Text(202.1647855530474, 115.515, 'X[7] <= 1.349\\nsquared_error = 6.211\\nsamples = 48\\nvalue = 20.25'),\n",
       " Text(200.14943566591424, 101.925, 'squared_error = 0.0\\nsamples = 1\\nvalue = 27.9'),\n",
       " Text(204.1801354401806, 101.925, 'X[11] <= 114.685\\nsquared_error = 5.071\\nsamples = 47\\nvalue = 20.087'),\n",
       " Text(197.50428893905192, 88.33500000000001, 'X[8] <= 14.5\\nsquared_error = 2.269\\nsamples = 3\\nvalue = 16.567'),\n",
       " Text(195.48893905191875, 74.745, 'squared_error = 0.0\\nsamples = 1\\nvalue = 18.6'),\n",
       " Text(199.51963882618512, 74.745, 'squared_error = 0.303\\nsamples = 2\\nvalue = 15.55'),\n",
       " Text(210.85598194130927, 88.33500000000001, 'X[11] <= 335.82\\nsquared_error = 4.36\\nsamples = 44\\nvalue = 20.327'),\n",
       " Text(203.55033860045148, 74.745, 'X[7] <= 2.273\\nsquared_error = 1.222\\nsamples = 5\\nvalue = 23.22'),\n",
       " Text(201.53498871331828, 61.155, 'squared_error = 0.249\\nsamples = 3\\nvalue = 22.433'),\n",
       " Text(205.56568848758465, 61.155, 'squared_error = 0.36\\nsamples = 2\\nvalue = 24.4'),\n",
       " Text(218.16162528216705, 74.745, 'X[5] <= 6.108\\nsquared_error = 3.552\\nsamples = 39\\nvalue = 19.956'),\n",
       " Text(209.59638826185102, 61.155, 'X[6] <= 88.6\\nsquared_error = 3.126\\nsamples = 16\\nvalue = 18.762'),\n",
       " Text(204.55801354401808, 47.565, 'X[5] <= 5.707\\nsquared_error = 2.095\\nsamples = 11\\nvalue = 18.036'),\n",
       " Text(200.52731376975171, 33.974999999999994, 'X[12] <= 12.31\\nsquared_error = 0.896\\nsamples = 3\\nvalue = 16.367'),\n",
       " Text(198.51196388261852, 20.38499999999999, 'squared_error = 0.202\\nsamples = 2\\nvalue = 15.75'),\n",
       " Text(202.54266365688488, 20.38499999999999, 'squared_error = 0.0\\nsamples = 1\\nvalue = 17.6'),\n",
       " Text(208.58871331828445, 33.974999999999994, 'X[2] <= 9.795\\nsquared_error = 1.107\\nsamples = 8\\nvalue = 18.662'),\n",
       " Text(206.57336343115125, 20.38499999999999, 'X[7] <= 2.695\\nsquared_error = 0.423\\nsamples = 6\\nvalue = 18.15'),\n",
       " Text(204.55801354401808, 6.7949999999999875, 'squared_error = 0.0\\nsamples = 1\\nvalue = 16.8'),\n",
       " Text(208.58871331828445, 6.7949999999999875, 'squared_error = 0.07\\nsamples = 5\\nvalue = 18.42'),\n",
       " Text(210.60406320541762, 20.38499999999999, 'squared_error = 0.01\\nsamples = 2\\nvalue = 20.2'),\n",
       " Text(214.63476297968398, 47.565, 'X[11] <= 393.82\\nsquared_error = 1.682\\nsamples = 5\\nvalue = 20.36'),\n",
       " Text(212.61941309255081, 33.974999999999994, 'squared_error = 0.392\\nsamples = 4\\nvalue = 19.775'),\n",
       " Text(216.65011286681718, 33.974999999999994, 'squared_error = 0.0\\nsamples = 1\\nvalue = 22.7'),\n",
       " Text(226.72686230248308, 61.155, 'X[9] <= 305.5\\nsquared_error = 2.166\\nsamples = 23\\nvalue = 20.787'),\n",
       " Text(222.69616252821672, 47.565, 'X[6] <= 83.1\\nsquared_error = 1.116\\nsamples = 6\\nvalue = 22.067'),\n",
       " Text(220.68081264108355, 33.974999999999994, 'squared_error = 0.26\\nsamples = 4\\nvalue = 21.4'),\n",
       " Text(224.71151241534992, 33.974999999999994, 'squared_error = 0.16\\nsamples = 2\\nvalue = 23.4'),\n",
       " Text(230.75756207674945, 47.565, 'X[12] <= 14.275\\nsquared_error = 1.755\\nsamples = 17\\nvalue = 20.335'),\n",
       " Text(228.74221218961625, 33.974999999999994, 'X[11] <= 386.725\\nsquared_error = 1.32\\nsamples = 16\\nvalue = 20.156'),\n",
       " Text(224.71151241534992, 20.38499999999999, 'X[5] <= 6.312\\nsquared_error = 1.106\\nsamples = 5\\nvalue = 21.26'),\n",
       " Text(222.69616252821672, 6.7949999999999875, 'squared_error = 0.437\\nsamples = 4\\nvalue = 20.825'),\n",
       " Text(226.72686230248308, 6.7949999999999875, 'squared_error = 0.0\\nsamples = 1\\nvalue = 23.0'),\n",
       " Text(232.77291196388262, 20.38499999999999, 'X[0] <= 0.141\\nsquared_error = 0.612\\nsamples = 11\\nvalue = 19.655'),\n",
       " Text(230.75756207674945, 6.7949999999999875, 'squared_error = 0.272\\nsamples = 4\\nvalue = 20.375'),\n",
       " Text(234.78826185101582, 6.7949999999999875, 'squared_error = 0.34\\nsamples = 7\\nvalue = 19.243'),\n",
       " Text(232.77291196388262, 33.974999999999994, 'squared_error = 0.0\\nsamples = 1\\nvalue = 23.2'),\n",
       " Text(225.97110609480814, 129.10500000000002, 'X[0] <= 6.912\\nsquared_error = 3.289\\nsamples = 17\\nvalue = 17.388'),\n",
       " Text(220.93273137697517, 115.515, 'X[12] <= 15.025\\nsquared_error = 2.03\\nsamples = 14\\nvalue = 17.921'),\n",
       " Text(216.90203160270883, 101.925, 'X[0] <= 5.512\\nsquared_error = 1.557\\nsamples = 8\\nvalue = 17.125'),\n",
       " Text(214.88668171557563, 88.33500000000001, 'squared_error = 0.43\\nsamples = 7\\nvalue = 16.714'),\n",
       " Text(218.917381489842, 88.33500000000001, 'squared_error = 0.0\\nsamples = 1\\nvalue = 20.0'),\n",
       " Text(224.96343115124154, 101.925, 'X[11] <= 341.77\\nsquared_error = 0.688\\nsamples = 6\\nvalue = 18.983'),\n",
       " Text(222.94808126410837, 88.33500000000001, 'squared_error = 0.25\\nsamples = 2\\nvalue = 19.9'),\n",
       " Text(226.97878103837473, 88.33500000000001, 'squared_error = 0.277\\nsamples = 4\\nvalue = 18.525'),\n",
       " Text(231.0094808126411, 115.515, 'X[6] <= 97.65\\nsquared_error = 1.647\\nsamples = 3\\nvalue = 14.9'),\n",
       " Text(228.9941309255079, 101.925, 'squared_error = 0.04\\nsamples = 2\\nvalue = 14.0'),\n",
       " Text(233.02483069977427, 101.925, 'squared_error = 0.0\\nsamples = 1\\nvalue = 16.7'),\n",
       " Text(251.66681715575623, 169.875, 'X[11] <= 395.585\\nsquared_error = 31.347\\nsamples = 12\\nvalue = 27.558'),\n",
       " Text(246.12460496613997, 156.285, 'X[5] <= 7.042\\nsquared_error = 16.583\\nsamples = 10\\nvalue = 29.29'),\n",
       " Text(241.086230248307, 142.695, 'X[7] <= 4.994\\nsquared_error = 6.533\\nsamples = 7\\nvalue = 27.086'),\n",
       " Text(237.05553047404064, 129.10500000000002, 'X[6] <= 86.8\\nsquared_error = 1.046\\nsamples = 5\\nvalue = 28.52'),\n",
       " Text(235.04018058690747, 115.515, 'squared_error = 0.272\\nsamples = 4\\nvalue = 28.975'),\n",
       " Text(239.07088036117383, 115.515, 'squared_error = -0.0\\nsamples = 1\\nvalue = 26.7'),\n",
       " Text(245.11693002257337, 129.10500000000002, 'X[7] <= 7.158\\nsquared_error = 2.25\\nsamples = 2\\nvalue = 23.5'),\n",
       " Text(243.1015801354402, 115.515, 'squared_error = 0.0\\nsamples = 1\\nvalue = 22.0'),\n",
       " Text(247.13227990970657, 115.515, 'squared_error = 0.0\\nsamples = 1\\nvalue = 25.0'),\n",
       " Text(251.16297968397294, 142.695, 'X[7] <= 2.021\\nsquared_error = 2.242\\nsamples = 3\\nvalue = 34.433'),\n",
       " Text(249.14762979683974, 129.10500000000002, 'squared_error = 0.0\\nsamples = 1\\nvalue = 36.5'),\n",
       " Text(253.1783295711061, 129.10500000000002, 'squared_error = 0.16\\nsamples = 2\\nvalue = 33.4'),\n",
       " Text(257.20902934537247, 156.285, 'X[10] <= 19.0\\nsquared_error = 15.21\\nsamples = 2\\nvalue = 18.9'),\n",
       " Text(255.1936794582393, 142.695, 'squared_error = 0.0\\nsamples = 1\\nvalue = 22.8'),\n",
       " Text(259.22437923250567, 142.695, 'squared_error = 0.0\\nsamples = 1\\nvalue = 15.0'),\n",
       " Text(290.46230248307, 183.465, 'X[4] <= 0.657\\nsquared_error = 17.918\\nsamples = 106\\nvalue = 13.856'),\n",
       " Text(272.82799097065464, 169.875, 'X[2] <= 26.695\\nsquared_error = 14.34\\nsamples = 44\\nvalue = 16.577'),\n",
       " Text(268.7972911963883, 156.285, 'X[5] <= 6.843\\nsquared_error = 11.129\\nsamples = 41\\nvalue = 17.051'),\n",
       " Text(266.7819413092551, 142.695, 'X[10] <= 19.7\\nsquared_error = 8.609\\nsamples = 40\\nvalue = 16.79'),\n",
       " Text(257.20902934537247, 129.10500000000002, 'X[6] <= 72.8\\nsquared_error = 7.749\\nsamples = 15\\nvalue = 18.833'),\n",
       " Text(252.1706546275395, 115.515, 'X[11] <= 395.095\\nsquared_error = 2.747\\nsamples = 4\\nvalue = 22.175'),\n",
       " Text(250.15530474040634, 101.925, 'squared_error = 0.24\\nsamples = 3\\nvalue = 23.1'),\n",
       " Text(254.1860045146727, 101.925, 'squared_error = -0.0\\nsamples = 1\\nvalue = 19.4'),\n",
       " Text(262.2474040632054, 115.515, 'X[12] <= 25.175\\nsquared_error = 4.031\\nsamples = 11\\nvalue = 17.618'),\n",
       " Text(258.21670428893907, 101.925, 'X[7] <= 3.937\\nsquared_error = 3.02\\nsamples = 8\\nvalue = 18.4'),\n",
       " Text(256.2013544018059, 88.33500000000001, 'squared_error = 0.432\\nsamples = 4\\nvalue = 19.725'),\n",
       " Text(260.23205417607227, 88.33500000000001, 'X[12] <= 18.565\\nsquared_error = 2.097\\nsamples = 4\\nvalue = 17.075'),\n",
       " Text(258.21670428893907, 74.745, 'squared_error = 0.302\\nsamples = 2\\nvalue = 18.35'),\n",
       " Text(262.2474040632054, 74.745, 'squared_error = 0.64\\nsamples = 2\\nvalue = 15.8'),\n",
       " Text(266.2781038374718, 101.925, 'X[4] <= 0.486\\nsquared_error = 0.749\\nsamples = 3\\nvalue = 15.533'),\n",
       " Text(264.2627539503386, 88.33500000000001, 'squared_error = 0.0\\nsamples = 1\\nvalue = 14.4'),\n",
       " Text(268.293453724605, 88.33500000000001, 'squared_error = 0.16\\nsamples = 2\\nvalue = 16.1'),\n",
       " Text(276.35485327313773, 129.10500000000002, 'X[9] <= 372.0\\nsquared_error = 5.118\\nsamples = 25\\nvalue = 15.564'),\n",
       " Text(272.32415349887134, 115.515, 'X[0] <= 1.043\\nsquared_error = 0.456\\nsamples = 6\\nvalue = 13.533'),\n",
       " Text(270.30880361173814, 101.925, 'squared_error = 0.202\\nsamples = 2\\nvalue = 14.35'),\n",
       " Text(274.33950338600454, 101.925, 'squared_error = 0.082\\nsamples = 4\\nvalue = 13.125'),\n",
       " Text(280.3855530474041, 115.515, 'X[7] <= 2.651\\nsquared_error = 4.876\\nsamples = 19\\nvalue = 16.205'),\n",
       " Text(278.3702031602709, 101.925, 'X[6] <= 95.7\\nsquared_error = 3.582\\nsamples = 16\\nvalue = 15.619'),\n",
       " Text(274.33950338600454, 88.33500000000001, 'X[12] <= 17.03\\nsquared_error = 2.578\\nsamples = 9\\nvalue = 14.433'),\n",
       " Text(272.32415349887134, 74.745, 'squared_error = 0.0\\nsamples = 1\\nvalue = 17.4'),\n",
       " Text(276.35485327313773, 74.745, 'X[12] <= 17.4\\nsquared_error = 1.662\\nsamples = 8\\nvalue = 14.062'),\n",
       " Text(274.33950338600454, 61.155, 'squared_error = 0.0\\nsamples = 1\\nvalue = 11.7'),\n",
       " Text(278.3702031602709, 61.155, 'X[11] <= 392.145\\nsquared_error = 0.989\\nsamples = 7\\nvalue = 14.4'),\n",
       " Text(276.35485327313773, 47.565, 'squared_error = 0.13\\nsamples = 5\\nvalue = 13.96'),\n",
       " Text(280.3855530474041, 47.565, 'X[8] <= 14.0\\nsquared_error = 1.44\\nsamples = 2\\nvalue = 15.5'),\n",
       " Text(278.3702031602709, 33.974999999999994, 'squared_error = 0.0\\nsamples = 1\\nvalue = 14.3'),\n",
       " Text(282.40090293453727, 33.974999999999994, 'squared_error = 0.0\\nsamples = 1\\nvalue = 16.7'),\n",
       " Text(282.40090293453727, 88.33500000000001, 'X[7] <= 2.228\\nsquared_error = 0.742\\nsamples = 7\\nvalue = 17.143'),\n",
       " Text(280.3855530474041, 74.745, 'squared_error = 0.403\\nsamples = 6\\nvalue = 17.4'),\n",
       " Text(284.41625282167047, 74.745, 'squared_error = 0.0\\nsamples = 1\\nvalue = 15.6'),\n",
       " Text(282.40090293453727, 101.925, 'squared_error = 0.162\\nsamples = 3\\nvalue = 19.333'),\n",
       " Text(270.81264108352144, 142.695, 'squared_error = -0.0\\nsamples = 1\\nvalue = 27.5'),\n",
       " Text(276.85869074492103, 156.285, 'X[0] <= 0.167\\nsquared_error = 13.207\\nsamples = 3\\nvalue = 10.1'),\n",
       " Text(274.84334085778784, 142.695, 'squared_error = 0.0\\nsamples = 1\\nvalue = 15.2'),\n",
       " Text(278.8740406320542, 142.695, 'squared_error = 0.303\\nsamples = 2\\nvalue = 7.55'),\n",
       " Text(308.09661399548537, 169.875, 'X[0] <= 9.82\\nsquared_error = 11.47\\nsamples = 62\\nvalue = 11.924'),\n",
       " Text(296.50835214446954, 156.285, 'X[7] <= 1.987\\nsquared_error = 6.559\\nsamples = 31\\nvalue = 14.206'),\n",
       " Text(290.46230248307, 142.695, 'X[0] <= 7.165\\nsquared_error = 2.822\\nsamples = 16\\nvalue = 12.925'),\n",
       " Text(286.4316027088036, 129.10500000000002, 'X[5] <= 4.914\\nsquared_error = 1.662\\nsamples = 9\\nvalue = 13.944'),\n",
       " Text(284.41625282167047, 115.515, 'squared_error = 0.0\\nsamples = 1\\nvalue = 11.8'),\n",
       " Text(288.4469525959368, 115.515, 'X[4] <= 0.697\\nsquared_error = 1.224\\nsamples = 8\\nvalue = 14.212'),\n",
       " Text(286.4316027088036, 101.925, 'squared_error = 0.0\\nsamples = 1\\nvalue = 12.5'),\n",
       " Text(290.46230248307, 101.925, 'X[5] <= 5.435\\nsquared_error = 0.92\\nsamples = 7\\nvalue = 14.457'),\n",
       " Text(288.4469525959368, 88.33500000000001, 'squared_error = 0.42\\nsamples = 3\\nvalue = 13.7'),\n",
       " Text(292.4776523702032, 88.33500000000001, 'X[12] <= 27.11\\nsquared_error = 0.542\\nsamples = 4\\nvalue = 15.025'),\n",
       " Text(290.46230248307, 74.745, 'squared_error = 0.056\\nsamples = 3\\nvalue = 15.433'),\n",
       " Text(294.49300225733634, 74.745, 'squared_error = -0.0\\nsamples = 1\\nvalue = 13.8'),\n",
       " Text(294.49300225733634, 129.10500000000002, 'X[11] <= 78.725\\nsquared_error = 1.258\\nsamples = 7\\nvalue = 11.614'),\n",
       " Text(292.4776523702032, 115.515, 'squared_error = 0.0\\nsamples = 1\\nvalue = 9.5'),\n",
       " Text(296.50835214446954, 115.515, 'squared_error = 0.599\\nsamples = 6\\nvalue = 11.967'),\n",
       " Text(302.5544018058691, 142.695, 'X[4] <= 0.706\\nsquared_error = 6.925\\nsamples = 15\\nvalue = 15.573'),\n",
       " Text(300.53905191873594, 129.10500000000002, 'squared_error = 0.0\\nsamples = 1\\nvalue = 23.2'),\n",
       " Text(304.5697516930023, 129.10500000000002, 'X[7] <= 2.154\\nsquared_error = 2.968\\nsamples = 14\\nvalue = 15.029'),\n",
       " Text(300.53905191873594, 115.515, 'X[6] <= 96.8\\nsquared_error = 1.752\\nsamples = 4\\nvalue = 17.05'),\n",
       " Text(298.52370203160274, 101.925, 'squared_error = 0.0\\nsamples = 1\\nvalue = 14.9'),\n",
       " Text(302.5544018058691, 101.925, 'squared_error = 0.282\\nsamples = 3\\nvalue = 17.767'),\n",
       " Text(308.60045146726867, 115.515, 'X[12] <= 16.68\\nsquared_error = 1.166\\nsamples = 10\\nvalue = 14.22'),\n",
       " Text(306.5851015801355, 101.925, 'squared_error = 0.563\\nsamples = 2\\nvalue = 15.65'),\n",
       " Text(310.6158013544018, 101.925, 'X[12] <= 18.86\\nsquared_error = 0.677\\nsamples = 8\\nvalue = 13.862'),\n",
       " Text(308.60045146726867, 88.33500000000001, 'squared_error = 0.44\\nsamples = 6\\nvalue = 14.2'),\n",
       " Text(312.631151241535, 88.33500000000001, 'squared_error = 0.022\\nsamples = 2\\nvalue = 12.85'),\n",
       " Text(319.68487584650114, 156.285, 'X[4] <= 0.675\\nsquared_error = 5.964\\nsamples = 31\\nvalue = 9.642'),\n",
       " Text(312.631151241535, 142.695, 'X[12] <= 22.51\\nsquared_error = 2.153\\nsamples = 7\\nvalue = 12.029'),\n",
       " Text(310.6158013544018, 129.10500000000002, 'squared_error = 0.087\\nsamples = 3\\nvalue = 10.5'),\n",
       " Text(314.6465011286682, 129.10500000000002, 'X[4] <= 0.663\\nsquared_error = 0.637\\nsamples = 4\\nvalue = 13.175'),\n",
       " Text(312.631151241535, 115.515, 'squared_error = 0.0\\nsamples = 1\\nvalue = 11.9'),\n",
       " Text(316.66185101580135, 115.515, 'squared_error = 0.127\\nsamples = 3\\nvalue = 13.6'),\n",
       " Text(326.7386004514673, 142.695, 'X[4] <= 0.729\\nsquared_error = 4.93\\nsamples = 24\\nvalue = 8.946'),\n",
       " Text(322.70790067720094, 129.10500000000002, 'X[12] <= 18.06\\nsquared_error = 3.345\\nsamples = 19\\nvalue = 8.237'),\n",
       " Text(320.69255079006774, 115.515, 'squared_error = 0.0\\nsamples = 1\\nvalue = 12.7'),\n",
       " Text(324.7232505643341, 115.515, 'X[5] <= 5.401\\nsquared_error = 2.363\\nsamples = 18\\nvalue = 7.989'),\n",
       " Text(320.69255079006774, 101.925, 'X[12] <= 30.72\\nsquared_error = 1.802\\nsamples = 9\\nvalue = 8.833'),\n",
       " Text(318.67720090293454, 88.33500000000001, 'X[5] <= 5.326\\nsquared_error = 0.689\\nsamples = 6\\nvalue = 9.65'),\n",
       " Text(316.66185101580135, 74.745, 'squared_error = 0.39\\nsamples = 5\\nvalue = 9.92'),\n",
       " Text(320.69255079006774, 74.745, 'squared_error = 0.0\\nsamples = 1\\nvalue = 8.3'),\n",
       " Text(322.70790067720094, 88.33500000000001, 'squared_error = 0.027\\nsamples = 3\\nvalue = 7.2'),\n",
       " Text(328.7539503386005, 101.925, 'X[7] <= 1.691\\nsquared_error = 1.498\\nsamples = 9\\nvalue = 7.144'),\n",
       " Text(326.7386004514673, 88.33500000000001, 'X[0] <= 19.641\\nsquared_error = 0.672\\nsamples = 4\\nvalue = 6.025'),\n",
       " Text(324.7232505643341, 74.745, 'squared_error = 0.203\\nsamples = 2\\nvalue = 6.75'),\n",
       " Text(328.7539503386005, 74.745, 'squared_error = 0.09\\nsamples = 2\\nvalue = 5.3'),\n",
       " Text(330.7693002257337, 88.33500000000001, 'squared_error = 0.354\\nsamples = 5\\nvalue = 8.04'),\n",
       " Text(330.7693002257337, 129.10500000000002, 'X[0] <= 11.981\\nsquared_error = 1.782\\nsamples = 5\\nvalue = 11.64'),\n",
       " Text(328.7539503386005, 115.515, 'squared_error = 0.427\\nsamples = 3\\nvalue = 12.6'),\n",
       " Text(332.7846501128668, 115.515, 'squared_error = 0.36\\nsamples = 2\\nvalue = 10.2')]"
      ]
     },
     "execution_count": 15,
     "metadata": {},
     "output_type": "execute_result"
    },
    {
     "data": {
      "image/png": "[encoded data removed]",
      "text/plain": [
       "<Figure size 432x288 with 1 Axes>"
      ]
     },
     "metadata": {
      "needs_background": "light"
     },
     "output_type": "display_data"
    }
   ],
   "source": [
    "## Plot the tree\n",
    "\n",
    "plot_tree(BH_tree)"
   ]
  },
  {
   "cell_type": "markdown",
   "metadata": {},
   "source": [
    "\n",
    "\n",
    "Next, we make predictions on the validation set and compute the out-of-sample $R^2$."
   ]
  },
  {
   "cell_type": "code",
   "execution_count": 16,
   "metadata": {},
   "outputs": [
    {
     "name": "stdout",
     "output_type": "stream",
     "text": [
      "The out-of-sample R-squared of the regression tree is 0.6242.\n"
     ]
    }
   ],
   "source": [
    "print(\"The out-of-sample R-squared of the regression tree is %0.4f.\" % BH_tree.score(X_test,y_test))"
   ]
  },
  {
   "cell_type": "markdown",
   "metadata": {},
   "source": [
    "<a id='section_8'></a>\n",
    "# 6. Concluding Remarks"
   ]
  },
  {
   "cell_type": "markdown",
   "metadata": {},
   "source": [
    "Finally, we conclude this document with some brief discussions on when we should use tree-based models:\n",
    "\n",
    "- Trees are non-linear. So, if there is some intrinsic non-linear relationship between the features and the label, using tree-based models are recommended. In particular, trees leverage a clever data structure that makes the $k$NN idea scalable.\n",
    "\n",
    "- Because of the feature space splitting rule, tree-based models are not sensitive to scaling, so featuring engineering is not that important.\n",
    "\n",
    "- A single CART is generally very interpretable, but may suffer from the overfitting problem. We can finetune a lot of parameters to avoid overfitting."
   ]
  },
  {
   "cell_type": "code",
   "execution_count": null,
   "metadata": {},
   "outputs": [],
   "source": []
  }
 ],
 "metadata": {
  "kernelspec": {
   "display_name": "Python 3 (ipykernel)",
   "language": "python",
   "name": "python3"
  },
  "language_info": {
   "codemirror_mode": {
    "name": "ipython",
    "version": 3
   },
   "file_extension": ".py",
   "mimetype": "text/x-python",
   "name": "python",
   "nbconvert_exporter": "python",
   "pygments_lexer": "ipython3",
   "version": "3.9.7"
  }
 },
 "nbformat": 4,
 "nbformat_minor": 2
}
