{
 "cells": [
  {
   "cell_type": "markdown",
   "metadata": {},
   "source": [
    "# 0. Abstract and Outline"
   ]
  },
  {
   "cell_type": "markdown",
   "metadata": {},
   "source": [
    "The purpose of this document is to briefly introduce an important non-supervised learning method called clustering, with applications to Netflix data to cluster movies according to their features. As discussed at the beginning of this course, unsupervised learning means that we do not have a label ($Y$) to supervise/dictate whether our model makes sense. The goal of clustering is to split the feature space into different clusters so that data points in the same cluster are as close to each other as possible, whereas data points in different clusters are as far away from each other as possible. Both the modeling details, the case study, and the Python code are included in this document. \n",
    "\n",
    "Below is the outline of this document:\n",
    "\n",
    "- In [Section 1](#section_1), we discuss clustering as a kind of unsupervised learning.\n",
    "\n",
    "- In [Section 2](#section_2), we introduce the Netflix's moview genre clustering problem.\n",
    "\n",
    "- In [Section 3](#section_3), we discuss the hierarchical clustering approach, with an application to the Netflix's movie genre clustering problem. \n",
    "\n",
    "- In [Section 4](#section_4), we discuss the $k-$means clustering approach, with an application to the Netflix's movie genre clustering problem."
   ]
  },
  {
   "cell_type": "markdown",
   "metadata": {},
   "source": [
    "<a id='section_1'></a>\n",
    "# 1. Clustering as Unsupervised Learning"
   ]
  },
  {
   "cell_type": "markdown",
   "metadata": {},
   "source": [
    "Unsupervised learning ([Wiki Page](https://en.wikipedia.org/wiki/Unsupervised_learning)) refers to one type of machine learning that seeks to find patterns, relationships, and structures in data, without being optimized to solve a particular predictive task (i.e., there is no outcome variable $Y$ associated with the problem). **Clustering** refers to a specific type of unsupervised models the goal of which is to segment data into a set of homogeneous clusters of observations to generate insights. Although clustering models do not have a label $Y$, one usually utilizes the clustering results as features or labels to devise follow-up predictive models and/or actionable strategies. Typical examples of clustering include:\n",
    "\n",
    "- **Image segmentation:** To segment image into different parts. The segmentation results may be used for facial recognition, for example.  \n",
    "- **Customer segmentation:** To segment customers into different classes. The firm may adopt different promotional strategies to different customer segments.\n",
    "- **Product segmentation:** To segment products into different classes. A seller may target different customers with different product segments.\n",
    "\n",
    "In this document, we denote the training set for clustering as $\\mathcal D=\\{X_{ij},1\\le i\\le n,1\\le j\\le p\\}$, which only has features, but not the outcome variable. The goal of clustering is to split the data set $\\mathcal D$ into $k$ non-overlapping clusters $\\mathcal C_1,\\mathcal C_2,...,\\mathcal C_k$ such that $\\cup_{1\\le l\\le k}\\mathcal C_l=\\mathcal D$ and $\\mathcal C_l \\cap\\mathcal C_m=\\emptyset$ for $l\\ne m$. At a high level, the objective for clustering is:\n",
    "\n",
    "-----------\n",
    "\n",
    "<font color=\"red\">\n",
    "\n",
    "- **Within-group-homogeneity**: Observations in the **same** group should be **similar** to each other.\n",
    "- **Cross-group-heterogeneity**: Observations in **different** groups should be **disimilar** to each other.\n",
    "\n",
    "</font>\n",
    "    \n",
    "--------------\n",
    "\n",
    "Here similarity and disimilarity are measured by distances. Before discussing the definitions of distances between data points and between clusters, we first illustrate clustering as the following figures:\n",
    "\n",
    "<img src=\"clustering-original.png\" width=300>\n",
    "\n",
    "\n",
    "If we want to cluster the data observations into 3 segments, we have:\n",
    "\n",
    "<img src=\"clustering-3.png\" width=300>\n",
    "\n",
    "If we want to cluster the data observations into 4 segments, we have:\n",
    "\n",
    "<img src=\"clustering-4.png\" width=300>\n",
    "\n",
    "It is also important to understand the high-level purposes of clustering:\n",
    "\n",
    "- **Data Exploration:** You may use clustering for some initial data exploration to understand whether the data are coherently splitted into groups and, if so, how many groups there are. \n",
    "\n",
    "- **Data Partitioning:** You may also want to divide the data into different groups before further processing. It is possible that you train different supervised learning models on different groups.\n",
    "\n",
    "- **Unsupervised feature extraction:** Clustering is also a natural approach to generate additional features. For example, you could add the group labels or the cluster distances into the feature space."
   ]
  },
  {
   "cell_type": "markdown",
   "metadata": {},
   "source": [
    "## 1.1. Distances between Data Observations and Clusters"
   ]
  },
  {
   "cell_type": "markdown",
   "metadata": {},
   "source": [
    "Clustering relies on the measure of distance both between data observations and between clusters. As discussed in the document for the $k$NN model, we assume the feature space is associated with a distance function (sometimes also called norm, see [Wiki Page](https://en.wikipedia.org/wiki/Norm_(mathematics))), which we denote as $d(X_1,X_2)$, which measures the distance between two features $X_1$ and $X_2$. In most applications, we use the Euclidean distance (sometimes also called the Euclidean norm or the $L^2-$norm, see [Wiki Page](https://en.wikipedia.org/wiki/Euclidean_distance)) most often. For two features $X_1=(X_{11},X_{12},...,X_{1p})$ and $X_2=(X_{21},X_{22},...,X_{2p})$, their Euclidean distance is given by\n",
    "\n",
    "$$d(X_1,X_2)=\\sqrt{\\sum_{j=1}^p(X_{1j}-X_{2j})^2}$$\n",
    "\n",
    "Based on the distance between different data observations, we could define various distances between two clusters $\\mathcal C_1$ and $\\mathcal C_2$:\n",
    "\n",
    "- **Single linkage:** Distance between points that are closest to each other:\n",
    "$$\\min d(X_i,X_j)\\mbox{ where }X_i\\in\\mathcal C_1,X_j\\in\\mathcal C_2$$\n",
    "- **Complete linkage:** Distance between points that are farthest to each other:\n",
    "$$\\max d(X_i,X_j)\\mbox{ where }X_i\\in\\mathcal C_1,X_j\\in\\mathcal C_2$$\n",
    "- **Average linkage:** Average distance computed over all pairs of observations in the two clusters:\n",
    "$$\\mbox{Average of } d(X_i,X_j)\\mbox{ where }X_i\\in\\mathcal C_1,X_j\\in\\mathcal C_2$$\n",
    "- **Average group linkage:** Distance between centers of each cluster:\n",
    "$$d(\\mu_1,\\mu_2)\\mbox{ where }\\mu_i\\mbox{ is the center of }\\mathcal C_i,\\mbox{ i.e., }\\mu_i=\\frac{1}{|\\mathcal C_i|}\\sum_{j\\in \\mathcal C_i}X_j$$\n",
    "where $|\\mathcal C_i|$ is the number of observations in $\\mathcal C_i$.\n",
    "- **Ward's method:** How much the sum of squares will increase if we merge them:\n",
    "$$\\sqrt{\\frac{n_1n_2}{n_1+n_2}}d(\\mu_1,\\mu_2),\\mbox{ where }\\mu_i\\mbox{ is the center of }\\mathcal C_i,\\mbox{ and }n_i=|\\mathcal C_i|\\mbox{ is the number of observations in $\\mathcal C_i$}$$\n",
    "\n",
    "\n",
    "To conclude this section, we remark that, because clustering involves working with distances, it is necessary to preprocess the data set $\\mathcal D$ by **standardization** or **normalization**. Besides the common standardization approach to substract mean and divide by standard deviation, we could also use the following normalization approach to normalize by the range of the feature:\n",
    "\n",
    "$$\\tilde X_{ij}=\\frac{X_{ij}-X_j^{\\min}}{X_j^{\\max}-X_j^{\\min}},$$\n",
    "where $X_j^{\\max}=\\max\\{X_{ij}:1\\le i\\le n\\}$ and $X_j^{\\max}=\\min\\{X_{ij}:1\\le i\\le n\\}$. By definition, this normalization will pull all the features to the range $[0,1]$. **Question**: Why we do not need to the data preprocessing of normalization or standardization for the movie genre case (presented below)? \n",
    "\n",
    "In the following, we first introduce the Netflix movie genre clustering problem. Then, we present two most intuitive clustering models and discuss how they can be used in the Netflix movie genre case."
   ]
  },
  {
   "cell_type": "markdown",
   "metadata": {},
   "source": [
    "<a id='section_2'></a>\n",
    "# 2. Netflix Genre Clustering"
   ]
  },
  {
   "cell_type": "markdown",
   "metadata": {},
   "source": [
    "Netflix is the world's largest online streaming (and DVD rental) platform with more than 167 million subscribers and a total revenue of more than 20 billion US dollars (as of 2019). Among others, offering accurate movie recommendations to its customers is Netflix's key operational decisions. An important step in Netflix's recommendation strategy is to cluster movies into different groups according to the genres they belong.\n",
    "\n",
    "Specifically, movies are categorized into different genres, such as action, adventure, animation, etc. Each movie may belong to many genres. Our goal is, therefore, **To systematically find groups of movies with similar sets of genres.**\n",
    "\n",
    "The data set was from MovieLens, an online movie rating platform. The core variables in this data set is a group of dummy (0-1) variables indicating whether the movie belongs to the respective genre. Most of the genre names are self-explanatary:\n",
    "\n",
    "- **Unknown**: The genre is unknown;\n",
    "- **Action**\n",
    "- **Adventure**\n",
    "- **Animation**\n",
    "- **Children**\n",
    "- **Comedy**\n",
    "- **Crime**\n",
    "- **Documentary**\n",
    "- **Drama**\n",
    "- **Fantasy**\n",
    "- **FilmNoir**: Stylish Hollywood crime dramas;\n",
    "- **Horror**\n",
    "- **Musical**\n",
    "- **Mystery**\n",
    "- **Romance**\n",
    "- **SciFi**: Science fiction;\n",
    "- **Thriller**\n",
    "- **War**\n",
    "- **Western**\n",
    "\n",
    "To begin with, we load the data , and take a look at the first few rows. "
   ]
  },
  {
   "cell_type": "code",
   "execution_count": 1,
   "metadata": {},
   "outputs": [],
   "source": [
    "# Import necessary packages\n",
    "import sys \n",
    "import numpy as np\n",
    "import pandas as pd\n",
    "import statsmodels as sm\n",
    "import sklearn\n",
    "import scipy as sp\n",
    "%matplotlib inline \n",
    "import matplotlib.pyplot as plt\n",
    "import random\n",
    "\n",
    "# Set the random seed such that the results are replicable.\n",
    "\n",
    "random.seed(666)\n",
    "from sklearn import datasets, linear_model\n",
    "from sklearn.metrics import mean_squared_error, r2_score"
   ]
  },
  {
   "cell_type": "code",
   "execution_count": 2,
   "metadata": {},
   "outputs": [
    {
     "data": {
      "text/html": [
       "<div>\n",
       "<style scoped>\n",
       "    .dataframe tbody tr th:only-of-type {\n",
       "        vertical-align: middle;\n",
       "    }\n",
       "\n",
       "    .dataframe tbody tr th {\n",
       "        vertical-align: top;\n",
       "    }\n",
       "\n",
       "    .dataframe thead th {\n",
       "        text-align: right;\n",
       "    }\n",
       "</style>\n",
       "<table border=\"1\" class=\"dataframe\">\n",
       "  <thead>\n",
       "    <tr style=\"text-align: right;\">\n",
       "      <th></th>\n",
       "      <th>ID</th>\n",
       "      <th>Title</th>\n",
       "      <th>ReleaseDate</th>\n",
       "      <th>VideoReleaseDate</th>\n",
       "      <th>IMDB</th>\n",
       "      <th>Unknown</th>\n",
       "      <th>Action</th>\n",
       "      <th>Adventure</th>\n",
       "      <th>Animation</th>\n",
       "      <th>Childrens</th>\n",
       "      <th>...</th>\n",
       "      <th>Fantasy</th>\n",
       "      <th>FilmNoir</th>\n",
       "      <th>Horror</th>\n",
       "      <th>Musical</th>\n",
       "      <th>Mystery</th>\n",
       "      <th>Romance</th>\n",
       "      <th>SciFi</th>\n",
       "      <th>Thriller</th>\n",
       "      <th>War</th>\n",
       "      <th>Western</th>\n",
       "    </tr>\n",
       "  </thead>\n",
       "  <tbody>\n",
       "    <tr>\n",
       "      <th>0</th>\n",
       "      <td>1</td>\n",
       "      <td>Toy Story (1995)</td>\n",
       "      <td>01-Jan-1995</td>\n",
       "      <td>NaN</td>\n",
       "      <td>http://us.imdb.com/M/title-exact?Toy%20Story%2...</td>\n",
       "      <td>0</td>\n",
       "      <td>0</td>\n",
       "      <td>0</td>\n",
       "      <td>1</td>\n",
       "      <td>1</td>\n",
       "      <td>...</td>\n",
       "      <td>0</td>\n",
       "      <td>0</td>\n",
       "      <td>0</td>\n",
       "      <td>0</td>\n",
       "      <td>0</td>\n",
       "      <td>0</td>\n",
       "      <td>0</td>\n",
       "      <td>0</td>\n",
       "      <td>0</td>\n",
       "      <td>0</td>\n",
       "    </tr>\n",
       "    <tr>\n",
       "      <th>1</th>\n",
       "      <td>2</td>\n",
       "      <td>GoldenEye (1995)</td>\n",
       "      <td>01-Jan-1995</td>\n",
       "      <td>NaN</td>\n",
       "      <td>http://us.imdb.com/M/title-exact?GoldenEye%20(...</td>\n",
       "      <td>0</td>\n",
       "      <td>1</td>\n",
       "      <td>1</td>\n",
       "      <td>0</td>\n",
       "      <td>0</td>\n",
       "      <td>...</td>\n",
       "      <td>0</td>\n",
       "      <td>0</td>\n",
       "      <td>0</td>\n",
       "      <td>0</td>\n",
       "      <td>0</td>\n",
       "      <td>0</td>\n",
       "      <td>0</td>\n",
       "      <td>1</td>\n",
       "      <td>0</td>\n",
       "      <td>0</td>\n",
       "    </tr>\n",
       "    <tr>\n",
       "      <th>2</th>\n",
       "      <td>3</td>\n",
       "      <td>Four Rooms (1995)</td>\n",
       "      <td>01-Jan-1995</td>\n",
       "      <td>NaN</td>\n",
       "      <td>http://us.imdb.com/M/title-exact?Four%20Rooms%...</td>\n",
       "      <td>0</td>\n",
       "      <td>0</td>\n",
       "      <td>0</td>\n",
       "      <td>0</td>\n",
       "      <td>0</td>\n",
       "      <td>...</td>\n",
       "      <td>0</td>\n",
       "      <td>0</td>\n",
       "      <td>0</td>\n",
       "      <td>0</td>\n",
       "      <td>0</td>\n",
       "      <td>0</td>\n",
       "      <td>0</td>\n",
       "      <td>1</td>\n",
       "      <td>0</td>\n",
       "      <td>0</td>\n",
       "    </tr>\n",
       "    <tr>\n",
       "      <th>3</th>\n",
       "      <td>4</td>\n",
       "      <td>Get Shorty (1995)</td>\n",
       "      <td>01-Jan-1995</td>\n",
       "      <td>NaN</td>\n",
       "      <td>http://us.imdb.com/M/title-exact?Get%20Shorty%...</td>\n",
       "      <td>0</td>\n",
       "      <td>1</td>\n",
       "      <td>0</td>\n",
       "      <td>0</td>\n",
       "      <td>0</td>\n",
       "      <td>...</td>\n",
       "      <td>0</td>\n",
       "      <td>0</td>\n",
       "      <td>0</td>\n",
       "      <td>0</td>\n",
       "      <td>0</td>\n",
       "      <td>0</td>\n",
       "      <td>0</td>\n",
       "      <td>0</td>\n",
       "      <td>0</td>\n",
       "      <td>0</td>\n",
       "    </tr>\n",
       "    <tr>\n",
       "      <th>4</th>\n",
       "      <td>5</td>\n",
       "      <td>Copycat (1995)</td>\n",
       "      <td>01-Jan-1995</td>\n",
       "      <td>NaN</td>\n",
       "      <td>http://us.imdb.com/M/title-exact?Copycat%20(1995)</td>\n",
       "      <td>0</td>\n",
       "      <td>0</td>\n",
       "      <td>0</td>\n",
       "      <td>0</td>\n",
       "      <td>0</td>\n",
       "      <td>...</td>\n",
       "      <td>0</td>\n",
       "      <td>0</td>\n",
       "      <td>0</td>\n",
       "      <td>0</td>\n",
       "      <td>0</td>\n",
       "      <td>0</td>\n",
       "      <td>0</td>\n",
       "      <td>1</td>\n",
       "      <td>0</td>\n",
       "      <td>0</td>\n",
       "    </tr>\n",
       "  </tbody>\n",
       "</table>\n",
       "<p>5 rows × 24 columns</p>\n",
       "</div>"
      ],
      "text/plain": [
       "   ID              Title  ReleaseDate  VideoReleaseDate  \\\n",
       "0   1   Toy Story (1995)  01-Jan-1995               NaN   \n",
       "1   2   GoldenEye (1995)  01-Jan-1995               NaN   \n",
       "2   3  Four Rooms (1995)  01-Jan-1995               NaN   \n",
       "3   4  Get Shorty (1995)  01-Jan-1995               NaN   \n",
       "4   5     Copycat (1995)  01-Jan-1995               NaN   \n",
       "\n",
       "                                                IMDB  Unknown  Action  \\\n",
       "0  http://us.imdb.com/M/title-exact?Toy%20Story%2...        0       0   \n",
       "1  http://us.imdb.com/M/title-exact?GoldenEye%20(...        0       1   \n",
       "2  http://us.imdb.com/M/title-exact?Four%20Rooms%...        0       0   \n",
       "3  http://us.imdb.com/M/title-exact?Get%20Shorty%...        0       1   \n",
       "4  http://us.imdb.com/M/title-exact?Copycat%20(1995)        0       0   \n",
       "\n",
       "   Adventure  Animation  Childrens  ...  Fantasy  FilmNoir  Horror  Musical  \\\n",
       "0          0          1          1  ...        0         0       0        0   \n",
       "1          1          0          0  ...        0         0       0        0   \n",
       "2          0          0          0  ...        0         0       0        0   \n",
       "3          0          0          0  ...        0         0       0        0   \n",
       "4          0          0          0  ...        0         0       0        0   \n",
       "\n",
       "   Mystery  Romance  SciFi  Thriller  War  Western  \n",
       "0        0        0      0         0    0        0  \n",
       "1        0        0      0         1    0        0  \n",
       "2        0        0      0         1    0        0  \n",
       "3        0        0      0         0    0        0  \n",
       "4        0        0      0         1    0        0  \n",
       "\n",
       "[5 rows x 24 columns]"
      ]
     },
     "execution_count": 2,
     "metadata": {},
     "output_type": "execute_result"
    }
   ],
   "source": [
    "movie_original = pd.read_csv(\"movieLens.csv\")\n",
    "movie_original.head()"
   ]
  },
  {
   "cell_type": "markdown",
   "metadata": {},
   "source": [
    "Next, we do some data preprocessing to remove some unnecessary variables."
   ]
  },
  {
   "cell_type": "code",
   "execution_count": 3,
   "metadata": {},
   "outputs": [],
   "source": [
    "movie = movie_original.drop(columns = ['ID','ReleaseDate','VideoReleaseDate','IMDB','Title'])"
   ]
  },
  {
   "cell_type": "markdown",
   "metadata": {},
   "source": [
    "<a id='section_3'></a>\n",
    "# 3. Hierarchical Clustering"
   ]
  },
  {
   "cell_type": "markdown",
   "metadata": {},
   "source": [
    "Hierarchical clustering (sometimes also referred to as agglomerative clustering) is an intuitive clustering algorithm. The clustering method starts with each data observation in a cluster of its own. Then, it greedily merges the two most similar clusters. Specifically, the hierarchical clustering algorithm works as follows:\n",
    "\n",
    "---------------\n",
    "\n",
    "<font color=\"red\">\n",
    "\n",
    "- **Input and Initialization:** Each data point of $\\mathcal D$ is in a cluster of its own. The number of clusters $k$.\n",
    "- **Step 1:** Find the cloest pairs of clusters and merge them.\n",
    "- **Step 2:** If there is only one cluster, **stop** and **output** the tree of cluster mergers. Otherwise, **repeat Step 1**.\n",
    "\n",
    "</font>    \n",
    "    \n",
    "---------------\n",
    "\n",
    "Graphically, we illustrate the above procedure as follows:\n",
    "\n",
    "<img src=\"hierachical.png\" width=1000>\n",
    "\n",
    "The dendogram output can be illustrated as follows:\n",
    "\n",
    "<img src=\"hie.png\" width=1000>\n",
    "\n",
    "As we can see from the figure above, the hight of the vertical lines represents the distance between different points and/or clusters. So, it is easy for the modeler to graphically select how many clusters should we have.\n",
    "\n",
    "One should also note that, if we choose different distances between clusters described in Section 1.1 (or different linkage criteria), the model output will be quite different, even if we fix the number of clusters $k$. We illustrate this point with the following figure (with single linkage, average linkage, complete linkage, and Ward distance; $k=5$):\n",
    "\n",
    "<img src=\"distances.png\" width=1000>\n",
    "\n",
    "For these 4 distances, the number of data points in each cluster is:\n",
    "\n",
    "<table style=\"width:50%\">\n",
    "  <tr>\n",
    "    <th>Distance </th>\n",
    "    <th>$\\mathcal C_0$</th> \n",
    "    <th>$\\mathcal C_1$</th> \n",
    "     <th>$\\mathcal C_2$</th> \n",
    "      <th>$\\mathcal C_3$</th> \n",
    "          <th>$\\mathcal C_4$</th> \n",
    "    </tr>\n",
    "  <tr>\n",
    "    <td>Single</td>\n",
    "    <td>92</td>\n",
    "<td>1</td>\n",
    "      <td>1</td>\n",
    "      <td>1</td>\n",
    "      <td>1</td>\n",
    "    </tr>\n",
    " <tr>\n",
    "    <td>average</td>\n",
    "    <td>82</td>\n",
    "<td>9</td>\n",
    "      <td>7</td>\n",
    "      <td>1</td>\n",
    "      <td>1</td>\n",
    "    </tr>\n",
    "<tr>\n",
    "    <td>complete</td>\n",
    "    <td>50</td>\n",
    "<td>24</td>\n",
    "      <td>14</td>\n",
    "      <td>11</td>\n",
    "      <td>1</td>\n",
    "    </tr>\n",
    "<tr>\n",
    "    <td>Ward:</td>\n",
    "    <td>31</td>\n",
    "<td>30</td>\n",
    "      <td>20</td>\n",
    "      <td>10</td>\n",
    "      <td>9</td>\n",
    "    </tr>\n",
    "</table>\n",
    "\n",
    "As we can see, the Ward distance leads to more equally sized clusters in hierarchical clustering. In practice, Ward distance is the default choice.\n",
    "\n",
    "Before running the hierarchical clustering algorithm on the Netflix movie genre data set, we first discuss some pros and cons of hierarchical clustering.\n",
    "\n",
    "-----------\n",
    "\n",
    "- **Speed:** In general, hierarchical clustering is **very slow (not scalable)** since it needs to compute the distances between clusters in each round of the procedure. \n",
    "- **Imbalanced:** For some linkage criteria (distances), hierarchical clustering will lead to very imbalanced cluster sizes, e.g., single linkage.\n",
    "- **Completeness:** Hierarchical clustering gives more holistic view than a single clustering approach.\n",
    "\n",
    "------------"
   ]
  },
  {
   "cell_type": "markdown",
   "metadata": {},
   "source": [
    "## 3.1. Hierarchical Clustering in Action"
   ]
  },
  {
   "cell_type": "markdown",
   "metadata": {},
   "source": [
    "Next, we apply hierarchical clustering to segment different movies accourding to the genres they belong to. To begin with, we need to compute the distances between different observations in $\\mathcal D$."
   ]
  },
  {
   "cell_type": "code",
   "execution_count": 5,
   "metadata": {},
   "outputs": [
    {
     "data": {
      "image/png": "[encoded data removed]",
      "text/plain": [
       "<Figure size 720x504 with 1 Axes>"
      ]
     },
     "metadata": {
      "needs_background": "light"
     },
     "output_type": "display_data"
    }
   ],
   "source": [
    "from scipy.cluster.hierarchy import dendrogram, linkage\n",
    "from matplotlib import pyplot as plt\n",
    "\n",
    "linked = linkage(movie, 'single')\n",
    "\n",
    "\n",
    "plt.figure(figsize=(10, 7))\n",
    "dendrogram(linked,\n",
    "            orientation='top',\n",
    "            distance_sort='descending',\n",
    "            show_leaf_counts=True)\n",
    "plt.show()"
   ]
  },
  {
   "cell_type": "markdown",
   "metadata": {},
   "source": [
    "As we can see, the dendrogram for the hierarchical clustering applied to the moview genre data set is very complex. We set the number of clusters to 10 and compute the percentage of movies in the action and romance genres of each cluster."
   ]
  },
  {
   "cell_type": "code",
   "execution_count": 6,
   "metadata": {},
   "outputs": [
    {
     "data": {
      "image/png": "[encoded data removed]",
      "text/plain": [
       "<Figure size 720x504 with 1 Axes>"
      ]
     },
     "metadata": {
      "needs_background": "light"
     },
     "output_type": "display_data"
    }
   ],
   "source": [
    "plt.figure(figsize=(10, 7))\n",
    "dendrogram(linked,\n",
    "           p = 10,\n",
    "           truncate_mode = 'level',\n",
    "            orientation='top',\n",
    "            distance_sort='descending',\n",
    "            show_leaf_counts=True)\n",
    "plt.show()"
   ]
  },
  {
   "cell_type": "code",
   "execution_count": 7,
   "metadata": {},
   "outputs": [
    {
     "data": {
      "text/plain": [
       "array([1, 5, 6, ..., 3, 0, 4])"
      ]
     },
     "execution_count": 7,
     "metadata": {},
     "output_type": "execute_result"
    }
   ],
   "source": [
    "#Train Hierarchical Clustering trianing model\n",
    "\n",
    "from sklearn.cluster import AgglomerativeClustering as HieClustering\n",
    "\n",
    "clustering1 = HieClustering(n_clusters=10,linkage='ward').fit(movie)\n",
    "\n",
    "# Report the index to which a data point belongs\n",
    "clustering1.labels_"
   ]
  },
  {
   "cell_type": "code",
   "execution_count": 8,
   "metadata": {},
   "outputs": [],
   "source": [
    "movie_clustered = movie_original.copy()\n",
    "movie_clustered['cluster'] = clustering1.labels_"
   ]
  },
  {
   "cell_type": "code",
   "execution_count": 9,
   "metadata": {},
   "outputs": [
    {
     "name": "stdout",
     "output_type": "stream",
     "text": [
      "Cluster 0\n",
      "The percentage for action is 8.08 percent\n",
      "The percentage for romance is 22.01 percent\n",
      "-----------------------------------------\n",
      "Cluster 1\n",
      "The percentage for action is 6.47 percent\n",
      "The percentage for romance is 2.88 percent\n",
      "-----------------------------------------\n",
      "Cluster 2\n",
      "The percentage for action is 0.00 percent\n",
      "The percentage for romance is 0.00 percent\n",
      "-----------------------------------------\n",
      "Cluster 3\n",
      "The percentage for action is 16.67 percent\n",
      "The percentage for romance is 100.00 percent\n",
      "-----------------------------------------\n",
      "Cluster 4\n",
      "The percentage for action is 5.94 percent\n",
      "The percentage for romance is 0.00 percent\n",
      "-----------------------------------------\n",
      "Cluster 5\n",
      "The percentage for action is 79.76 percent\n",
      "The percentage for romance is 0.00 percent\n",
      "-----------------------------------------\n",
      "Cluster 6\n",
      "The percentage for action is 4.38 percent\n",
      "The percentage for romance is 8.03 percent\n",
      "-----------------------------------------\n",
      "Cluster 7\n",
      "The percentage for action is 19.67 percent\n",
      "The percentage for romance is 19.67 percent\n",
      "-----------------------------------------\n",
      "Cluster 8\n",
      "The percentage for action is 19.72 percent\n",
      "The percentage for romance is 5.63 percent\n",
      "-----------------------------------------\n",
      "Cluster 9\n",
      "The percentage for action is 0.00 percent\n",
      "The percentage for romance is 14.47 percent\n",
      "-----------------------------------------\n"
     ]
    }
   ],
   "source": [
    "for i in range(10):\n",
    "    cluster = movie_clustered.loc[movie_clustered['cluster'] == i]\n",
    "    total = cluster.shape[0]\n",
    "    action = cluster.loc[cluster['Action'] == 1].shape[0]\n",
    "    romance = cluster.loc[cluster['Romance'] == 1].shape[0]\n",
    "    print('Cluster %d'%(i))\n",
    "    print('The percentage for action is %.2f percent'%(100 * action/total))\n",
    "    print('The percentage for romance is %.2f percent'%(100 * romance/total))\n",
    "    print('-----------------------------------------')"
   ]
  },
  {
   "cell_type": "markdown",
   "metadata": {},
   "source": [
    "Let's extract a cluster now."
   ]
  },
  {
   "cell_type": "code",
   "execution_count": 10,
   "metadata": {},
   "outputs": [],
   "source": [
    "movie_2 = movie_clustered.loc[movie_clustered['cluster'] == 2]"
   ]
  },
  {
   "cell_type": "markdown",
   "metadata": {},
   "source": [
    "Then, we look at the first 10 titles in this cluster."
   ]
  },
  {
   "cell_type": "code",
   "execution_count": 11,
   "metadata": {},
   "outputs": [
    {
     "name": "stdout",
     "output_type": "stream",
     "text": [
      "Crumb (1994)\n",
      "Hoop Dreams (1994)\n",
      "Brother Minister: The Assassination of Malcolm X (1994)\n",
      "Haunted World of Edward D. Wood Jr., The (1995)\n",
      "Maya Lin: A Strong Clear Vision (1994)\n",
      "Frighteners, The (1996)\n",
      "Shining, The (1980)\n",
      "Young Frankenstein (1974)\n",
      "Nightmare on Elm Street, A (1984)\n",
      "Paradise Lost: The Child Murders at Robin Hood Hills (1996)\n"
     ]
    }
   ],
   "source": [
    "for i in movie_2['Title'][:10]:\n",
    "    print(i)"
   ]
  },
  {
   "cell_type": "markdown",
   "metadata": {},
   "source": [
    "<a id='section_4'></a>\n",
    "# 4. $k-$Means Clustering"
   ]
  },
  {
   "cell_type": "markdown",
   "metadata": {},
   "source": [
    "Another (probably more) widely used clustering algorithm is the so called $k-$means clustering. The idea of $k-$means is to minimize the sum of squared distance between each data point in $\\mathcal D$ and the center of the cluster it belongs to. Specifically, we define the center of $\\mathcal C_l$ as $C_l$ and $C(X_i)$ as the cluster center $C_l$ closest to $X_i$:\n",
    "\n",
    "<font color=\"red\">\n",
    "\n",
    "$$\\min_{(C_1,C_2,...,C_k)}\\sum_{i=1}^n d^2(X_i,C(X_i))$$\n",
    "\n",
    "</font>\n",
    "\n",
    "This above optimization problem, unfortunately, is NP-hard ([Wiki Page](https://en.wikipedia.org/wiki/NP-hardness)). However, we have the socalled $k-$means algorithm as an efficient heuristic to obtain the clusters. The algorithms works as follows:\n",
    "\n",
    "------------\n",
    "\n",
    "<font color=\"red\">\n",
    "\n",
    "- **Initialization:** **Input** data set $\\mathcal D$ and the number of clusters $k$.\n",
    "- **Step 1:** Pick $k$ random points $\\{C_1,C_2,...,C_k\\}$ in the feature space as the cluster centers. \n",
    "- **Step 2:** Assign each data point $X_i$ to its closest cluster center $C(X_i)$.\n",
    "- **Step 3:** Re-compute the cluster centers $\\{C_1,C_2,...,C_k\\}$. If the cluster centers do not change, **stop** and **output** $\\{C_1,C_2,...,C_k\\}$. Otherwise, **repeat Step 2**.\n",
    "\n",
    "</font>\n",
    "\n",
    "--------\n",
    "\n",
    "The $k-$means algorithm is one version of the **Expectation-Maximization (EM)** algorithms, a broad family of machine learning algorithms used for prediction. Step 2 is the maximization (implemented as a minimization here) stage whereas Step 2 is the expectation stage of the $k-$NN algorithm. See this [Wiki Page](https://en.wikipedia.org/wiki/Expectation%E2%80%93maximization_algorithm) for more. We illustrate the $k-$means algorithm using the following figure:\n",
    "\n",
    "<img src=\"kmeans.png\" width=1000>\n",
    "\n",
    "A key question in $k-$Means clustering algorithm is how to set the number of clusters $k$. We define the total dissimilarity of a clustering structure $\\{C_1,C_2,...,C_k\\}$ as\n",
    "\n",
    "$$W=\\sum_{i=1}^nd^2(X_i,C_l),\\mbox{ where }C_l\\mbox{ is the cluster center closest to }X_i.$$\n",
    "\n",
    "In general, $W$ will decrease as $k$ increases. The way to pick up the optimal $k^*$ is to find the number of clusters $k$ where there is a **sharp decrease in successive differences** of $W$. This is called the \"elbow method\", as illustrated in the following figure.\n",
    "\n",
    "\n",
    "<img src=\"elbow.png\" width=700>\n",
    "\n",
    "\n",
    "Although $k-$Means is a non-supervised learning algorithm, we can actually use a $k-$Means fitted on a training set to make predictions of which cluster a new data observation in the testing set belongs to. Specifically, in $k-$Means model, the clusters are fully determined by the cluster centers: Clusters are partion of the feature space into regions closest to each of the cluster centers. This is called Voronoi diagrams of the cluster centers. Therefore, for a new data observation $X$, we only needs to find the center that is closest to $X$, $C(X)=C_l$, and assigns a label $\\mathcal C_l$ to this new data point. We illustrate the partition of the feature space for $k-$means as the following figures, the left of which is with $k=15$ and the right of which is with $k=5$.\n",
    "\n",
    "<img src=\"voronoi.png\" width=1000>\n",
    "\n",
    "The above nature of the $k-$Means algorithm suggests that the cluster boundaries are equivi-distant to the cluster centers. This will give rise to two limitations of the $k-$means algorithm. In either case, more advanced clustering methods should be adopted.\n",
    "\n",
    "- **Correlations.** $k-$Means captures distances better than correlations, as illustrated by the following figure:\n",
    "\n",
    "<img src=\"cov.png\" width=750>\n",
    "\n",
    "In this case, the Gaussian Mixture Model (GMM, [Wiki Page](https://en.wikipedia.org/wiki/Mixture_model#Gaussian_mixture_model)) will work (much) better.\n",
    "\n",
    "- **Shapes.** $k-$Means cannot model complex shapes, as shown in the following figure:\n",
    "\n",
    "<img src=\"simple.png\" width=750>\n",
    "\n",
    "In this case, it is recommended that you use the manifold learning model ([Wiki Page](https://en.wikipedia.org/wiki/Nonlinear_dimensionality_reduction#Manifold_learning_algorithms)).\n",
    "\n",
    "Finally, we compare the hierarchical clustering approach and the $k-$means clustering approach.\n",
    "\n",
    "--------------------\n",
    "\n",
    "- **Hierarchical Clustering** works well for small data sets. It is a convenient method if one is not sure about the number of clusters since it reports the results for all $k$'s between 1 and $n$. Another benefit is that one can visualize how clusters are nested.\n",
    "- **$k-$means Clustering** is suitable for a large data set if we know the number of clusters $k$. If not, one can use the elbow approach to determine the optimal value of $k$. As an unsupervised learning approach, $k-$means actually minimizes the squared error, which makes $k-$means a well-defined optimization problem. $k-$means dicates that cluster boundaries equi-distant to the centers, which makes the model incompetent for data with correlations and the clusters with complex shapes.\n",
    "\n",
    "---------------------\n",
    "\n",
    "Next, we will apply the $k-$means model to the movies lens data set for clustering."
   ]
  },
  {
   "cell_type": "markdown",
   "metadata": {},
   "source": [
    "## 4.1. $k-$Means in Action"
   ]
  },
  {
   "cell_type": "markdown",
   "metadata": {},
   "source": [
    "We now discuss how to implement the $k-$means model with the movie lens data. "
   ]
  },
  {
   "cell_type": "markdown",
   "metadata": {},
   "source": [
    "Because $k-$means has some random initialization, the results may be different for different computers. Next, we run the $k-$means algorithm based on $\\mathcal D$."
   ]
  },
  {
   "cell_type": "code",
   "execution_count": 12,
   "metadata": {},
   "outputs": [
    {
     "data": {
      "text/plain": [
       "(1682, 19)"
      ]
     },
     "execution_count": 12,
     "metadata": {},
     "output_type": "execute_result"
    }
   ],
   "source": [
    "movie.shape"
   ]
  },
  {
   "cell_type": "code",
   "execution_count": 13,
   "metadata": {},
   "outputs": [
    {
     "name": "stdout",
     "output_type": "stream",
     "text": [
      "[3 2 2 ... 0 3 4]\n",
      "[0]\n",
      "[[ 6.50521303e-19  8.39160839e-02  5.59440559e-02  6.99300699e-03\n",
      "   1.39860140e-02  7.69230769e-02  4.19580420e-02 -6.93889390e-18\n",
      "   6.85314685e-01 -1.73472348e-18  6.93889390e-18  6.99300699e-03\n",
      "   3.49650350e-02  1.39860140e-02  1.00000000e+00  6.99300699e-03\n",
      "   2.79720280e-02  9.09090909e-02  6.99300699e-03]\n",
      " [ 6.23052960e-03  3.11526480e-01  2.49221184e-01  9.03426791e-02\n",
      "   1.90031153e-01  6.23052960e-03  8.09968847e-02  1.43302181e-01\n",
      "   1.66533454e-16  3.42679128e-02  2.49221184e-02  1.74454829e-01\n",
      "   6.23052960e-02  3.42679128e-02  9.34579439e-03  1.52647975e-01\n",
      "   0.00000000e+00  4.36137072e-02  4.67289720e-02]\n",
      " [ 8.67361738e-19  3.54430380e-01  8.86075949e-02  8.43881857e-03\n",
      "   4.21940928e-03  1.68776371e-02  1.39240506e-01  6.93889390e-18\n",
      "   2.36286920e-01  4.21940928e-03  5.90717300e-02  8.01687764e-02\n",
      "   4.21940928e-03  1.30801688e-01  6.32911392e-02  1.39240506e-01\n",
      "   1.00000000e+00  2.10970464e-02  3.46944695e-18]\n",
      " [ 6.50521303e-19  5.73770492e-02  3.07377049e-02  2.04918033e-02\n",
      "   8.40163934e-02  1.00000000e+00  2.86885246e-02  2.04918033e-03\n",
      "   1.59836066e-01  1.43442623e-02 -1.73472348e-17  2.25409836e-02\n",
      "   4.30327869e-02  1.84426230e-02  1.76229508e-01  2.45901639e-02\n",
      "   2.04918033e-02  2.66393443e-02  1.43442623e-02]\n",
      " [ 6.50521303e-19  5.47667343e-02  2.23123732e-02  2.08166817e-17\n",
      "   3.44827586e-02 -1.66533454e-16  6.08519270e-02  6.08519270e-03\n",
      "   1.00000000e+00  6.08519270e-03  4.05679513e-03  1.01419878e-02\n",
      "   1.82555781e-02  1.62271805e-02 -1.38777878e-16  1.21703854e-02\n",
      "   2.77555756e-17  5.27383367e-02  8.11359026e-03]]\n"
     ]
    },
    {
     "name": "stderr",
     "output_type": "stream",
     "text": [
      "/Users/rphilipzhang/opt/anaconda3/lib/python3.9/site-packages/sklearn/base.py:445: UserWarning: X does not have valid feature names, but KMeans was fitted with feature names\n",
      "  warnings.warn(\n"
     ]
    }
   ],
   "source": [
    "#Train k-means model\n",
    "\n",
    "from sklearn.cluster import KMeans\n",
    "kmeans = KMeans(n_clusters=5, random_state=666, max_iter=1000,init='k-means++').fit(movie)\n",
    "print(kmeans.labels_)\n",
    "\n",
    "##For a new data point of a moview, predict which cluster it belongs to.\n",
    "print(kmeans.predict([[0,1,0,0,0,1,1,1,1,0,0,1,1,0,1,1,0,1,1]]))\n",
    "\n",
    "##The center of each cluster\n",
    "print(kmeans.cluster_centers_)"
   ]
  },
  {
   "cell_type": "markdown",
   "metadata": {},
   "source": [
    "Next, we use the elbow method to select the optimal number of clusters for $k-$means, starting with creating an empty vector to store the sum of sequared errors."
   ]
  },
  {
   "cell_type": "code",
   "execution_count": 14,
   "metadata": {},
   "outputs": [
    {
     "data": {
      "image/png": "[encoded data removed]",
      "text/plain": [
       "<Figure size 432x288 with 1 Axes>"
      ]
     },
     "metadata": {
      "needs_background": "light"
     },
     "output_type": "display_data"
    }
   ],
   "source": [
    "#define function to find the best k number        \n",
    "def fitting(df):\n",
    "    Sum_of_squared_distances = []\n",
    "    K = range(1,21)\n",
    "    for k in K:\n",
    "        km = KMeans(n_clusters=k)\n",
    "        km = km.fit(df)\n",
    "        Sum_of_squared_distances.append(km.inertia_)\n",
    "        #inertia_ reports the within group sum of squared errors, which is W in this Jupyter.\n",
    "    plt.plot(K, Sum_of_squared_distances, 'bx-')\n",
    "    plt.xlabel('k')\n",
    "    plt.ylabel('Sum_of_squared_distances')\n",
    "    plt.title('Elbow Method For Optimal k')\n",
    "    plt.show()\n",
    "    return \n",
    "\n",
    "fitting(movie)"
   ]
  },
  {
   "cell_type": "markdown",
   "metadata": {},
   "source": [
    "From the above figure, the optimal number of clusters is **about** $k^*=10$."
   ]
  },
  {
   "cell_type": "code",
   "execution_count": null,
   "metadata": {},
   "outputs": [],
   "source": []
  }
 ],
 "metadata": {
  "kernelspec": {
   "display_name": "Python 3 (ipykernel)",
   "language": "python",
   "name": "python3"
  },
  "language_info": {
   "codemirror_mode": {
    "name": "ipython",
    "version": 3
   },
   "file_extension": ".py",
   "mimetype": "text/x-python",
   "name": "python",
   "nbconvert_exporter": "python",
   "pygments_lexer": "ipython3",
   "version": "3.9.7"
  }
 },
 "nbformat": 4,
 "nbformat_minor": 2
}
