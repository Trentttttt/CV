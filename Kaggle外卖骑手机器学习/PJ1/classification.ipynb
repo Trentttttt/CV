{
 "cells": [
  {
   "cell_type": "code",
   "execution_count": 1,
   "id": "39143f46",
   "metadata": {},
   "outputs": [],
   "source": [
    "import pandas as pd\n",
    "import numpy as np\n",
    "import random\n",
    "from matplotlib import pyplot as plt\n",
    "import seaborn as sns\n",
    "\n",
    "\n",
    "%matplotlib inline\n",
    "sns.set()\n",
    "random.seed(666)"
   ]
  },
  {
   "cell_type": "code",
   "execution_count": 2,
   "id": "ad714bed",
   "metadata": {},
   "outputs": [],
   "source": [
    "df_train = pd.read_csv('dataframe_train.csv')\n",
    "df_test = pd.read_csv('dataframe_test.csv')"
   ]
  },
  {
   "cell_type": "markdown",
   "id": "811a91d0",
   "metadata": {},
   "source": [
    "# Classification"
   ]
  },
  {
   "cell_type": "markdown",
   "id": "b710ca72",
   "metadata": {},
   "source": [
    "# Question(a)"
   ]
  },
  {
   "cell_type": "code",
   "execution_count": 3,
   "id": "7a94ed3d",
   "metadata": {},
   "outputs": [
    {
     "data": {
      "text/html": [
       "<div>\n",
       "<style scoped>\n",
       "    .dataframe tbody tr th:only-of-type {\n",
       "        vertical-align: middle;\n",
       "    }\n",
       "\n",
       "    .dataframe tbody tr th {\n",
       "        vertical-align: top;\n",
       "    }\n",
       "\n",
       "    .dataframe thead th {\n",
       "        text-align: right;\n",
       "    }\n",
       "</style>\n",
       "<table border=\"1\" class=\"dataframe\">\n",
       "  <thead>\n",
       "    <tr style=\"text-align: right;\">\n",
       "      <th></th>\n",
       "      <th>courier_id</th>\n",
       "      <th>wave_index</th>\n",
       "      <th>tracking_id</th>\n",
       "      <th>courier_wave_start_lng</th>\n",
       "      <th>courier_wave_start_lat</th>\n",
       "      <th>date</th>\n",
       "      <th>group</th>\n",
       "      <th>level</th>\n",
       "      <th>speed</th>\n",
       "      <th>max_load</th>\n",
       "      <th>id</th>\n",
       "      <th>source_tracking_id</th>\n",
       "      <th>source_lng</th>\n",
       "      <th>source_lat</th>\n",
       "      <th>target_lng</th>\n",
       "      <th>target_lat</th>\n",
       "      <th>grid_distance</th>\n",
       "      <th>expected_use_time</th>\n",
       "      <th>urgency</th>\n",
       "      <th>hour</th>\n",
       "    </tr>\n",
       "  </thead>\n",
       "  <tbody>\n",
       "    <tr>\n",
       "      <th>count</th>\n",
       "      <td>5.096040e+05</td>\n",
       "      <td>509604.000000</td>\n",
       "      <td>5.096040e+05</td>\n",
       "      <td>509604.000000</td>\n",
       "      <td>509604.000000</td>\n",
       "      <td>5.096040e+05</td>\n",
       "      <td>5.096040e+05</td>\n",
       "      <td>509604.000000</td>\n",
       "      <td>509604.000000</td>\n",
       "      <td>509604.000000</td>\n",
       "      <td>509604.000000</td>\n",
       "      <td>5.096040e+05</td>\n",
       "      <td>509604.000000</td>\n",
       "      <td>509604.000000</td>\n",
       "      <td>509604.000000</td>\n",
       "      <td>509604.000000</td>\n",
       "      <td>509604.000000</td>\n",
       "      <td>509604.000000</td>\n",
       "      <td>509604.000000</td>\n",
       "      <td>509604.000000</td>\n",
       "    </tr>\n",
       "    <tr>\n",
       "      <th>mean</th>\n",
       "      <td>8.151255e+07</td>\n",
       "      <td>2.400154</td>\n",
       "      <td>2.100076e+18</td>\n",
       "      <td>121.534935</td>\n",
       "      <td>39.179724</td>\n",
       "      <td>2.020022e+07</td>\n",
       "      <td>1.496302e+17</td>\n",
       "      <td>2.607338</td>\n",
       "      <td>5.348056</td>\n",
       "      <td>8.980295</td>\n",
       "      <td>254801.500000</td>\n",
       "      <td>2.100076e+18</td>\n",
       "      <td>121.534923</td>\n",
       "      <td>39.179897</td>\n",
       "      <td>121.534882</td>\n",
       "      <td>39.179971</td>\n",
       "      <td>1078.274900</td>\n",
       "      <td>441.655107</td>\n",
       "      <td>1572.033695</td>\n",
       "      <td>14.482592</td>\n",
       "    </tr>\n",
       "    <tr>\n",
       "      <th>std</th>\n",
       "      <td>4.903781e+07</td>\n",
       "      <td>2.168523</td>\n",
       "      <td>4.797124e+12</td>\n",
       "      <td>0.151081</td>\n",
       "      <td>0.114737</td>\n",
       "      <td>7.776252e+00</td>\n",
       "      <td>1.333406e+17</td>\n",
       "      <td>0.698855</td>\n",
       "      <td>0.626070</td>\n",
       "      <td>2.028490</td>\n",
       "      <td>147110.147627</td>\n",
       "      <td>4.797965e+12</td>\n",
       "      <td>0.150718</td>\n",
       "      <td>0.113594</td>\n",
       "      <td>0.150752</td>\n",
       "      <td>0.113615</td>\n",
       "      <td>1124.569317</td>\n",
       "      <td>405.080785</td>\n",
       "      <td>4344.556228</td>\n",
       "      <td>3.310272</td>\n",
       "    </tr>\n",
       "    <tr>\n",
       "      <th>min</th>\n",
       "      <td>1.000787e+07</td>\n",
       "      <td>0.000000</td>\n",
       "      <td>2.100070e+18</td>\n",
       "      <td>119.876654</td>\n",
       "      <td>36.064995</td>\n",
       "      <td>2.020020e+07</td>\n",
       "      <td>2.020020e+16</td>\n",
       "      <td>0.000000</td>\n",
       "      <td>3.008735</td>\n",
       "      <td>1.000000</td>\n",
       "      <td>0.000000</td>\n",
       "      <td>2.100070e+18</td>\n",
       "      <td>119.876654</td>\n",
       "      <td>36.064995</td>\n",
       "      <td>121.059274</td>\n",
       "      <td>38.826421</td>\n",
       "      <td>0.000000</td>\n",
       "      <td>1.000000</td>\n",
       "      <td>-340771.000000</td>\n",
       "      <td>6.000000</td>\n",
       "    </tr>\n",
       "    <tr>\n",
       "      <th>25%</th>\n",
       "      <td>1.069734e+07</td>\n",
       "      <td>1.000000</td>\n",
       "      <td>2.100070e+18</td>\n",
       "      <td>121.444628</td>\n",
       "      <td>39.116955</td>\n",
       "      <td>2.020021e+07</td>\n",
       "      <td>2.020020e+16</td>\n",
       "      <td>2.000000</td>\n",
       "      <td>4.868302</td>\n",
       "      <td>8.000000</td>\n",
       "      <td>127400.750000</td>\n",
       "      <td>2.100070e+18</td>\n",
       "      <td>121.444174</td>\n",
       "      <td>39.117340</td>\n",
       "      <td>121.444254</td>\n",
       "      <td>39.117201</td>\n",
       "      <td>330.000000</td>\n",
       "      <td>189.000000</td>\n",
       "      <td>859.000000</td>\n",
       "      <td>12.000000</td>\n",
       "    </tr>\n",
       "    <tr>\n",
       "      <th>50%</th>\n",
       "      <td>1.117511e+08</td>\n",
       "      <td>2.000000</td>\n",
       "      <td>2.100080e+18</td>\n",
       "      <td>121.523819</td>\n",
       "      <td>39.162378</td>\n",
       "      <td>2.020022e+07</td>\n",
       "      <td>2.020020e+17</td>\n",
       "      <td>3.000000</td>\n",
       "      <td>5.458097</td>\n",
       "      <td>9.000000</td>\n",
       "      <td>254801.500000</td>\n",
       "      <td>2.100080e+18</td>\n",
       "      <td>121.523930</td>\n",
       "      <td>39.161311</td>\n",
       "      <td>121.523587</td>\n",
       "      <td>39.161241</td>\n",
       "      <td>869.000000</td>\n",
       "      <td>354.000000</td>\n",
       "      <td>1752.000000</td>\n",
       "      <td>14.000000</td>\n",
       "    </tr>\n",
       "    <tr>\n",
       "      <th>75%</th>\n",
       "      <td>1.187608e+08</td>\n",
       "      <td>4.000000</td>\n",
       "      <td>2.100080e+18</td>\n",
       "      <td>121.591983</td>\n",
       "      <td>39.218092</td>\n",
       "      <td>2.020022e+07</td>\n",
       "      <td>2.020020e+17</td>\n",
       "      <td>3.000000</td>\n",
       "      <td>5.779434</td>\n",
       "      <td>10.000000</td>\n",
       "      <td>382202.250000</td>\n",
       "      <td>2.100080e+18</td>\n",
       "      <td>121.591344</td>\n",
       "      <td>39.218011</td>\n",
       "      <td>121.591347</td>\n",
       "      <td>39.218921</td>\n",
       "      <td>1572.000000</td>\n",
       "      <td>584.000000</td>\n",
       "      <td>2590.000000</td>\n",
       "      <td>17.000000</td>\n",
       "    </tr>\n",
       "    <tr>\n",
       "      <th>max</th>\n",
       "      <td>1.259969e+08</td>\n",
       "      <td>16.000000</td>\n",
       "      <td>2.100080e+18</td>\n",
       "      <td>122.256382</td>\n",
       "      <td>39.705013</td>\n",
       "      <td>2.020023e+07</td>\n",
       "      <td>2.020020e+18</td>\n",
       "      <td>3.000000</td>\n",
       "      <td>6.943103</td>\n",
       "      <td>19.000000</td>\n",
       "      <td>509603.000000</td>\n",
       "      <td>2.100080e+18</td>\n",
       "      <td>122.260124</td>\n",
       "      <td>39.705013</td>\n",
       "      <td>122.260124</td>\n",
       "      <td>39.695211</td>\n",
       "      <td>429173.000000</td>\n",
       "      <td>9246.000000</td>\n",
       "      <td>11345.000000</td>\n",
       "      <td>23.000000</td>\n",
       "    </tr>\n",
       "  </tbody>\n",
       "</table>\n",
       "</div>"
      ],
      "text/plain": [
       "         courier_id     wave_index   tracking_id  courier_wave_start_lng  \\\n",
       "count  5.096040e+05  509604.000000  5.096040e+05           509604.000000   \n",
       "mean   8.151255e+07       2.400154  2.100076e+18              121.534935   \n",
       "std    4.903781e+07       2.168523  4.797124e+12                0.151081   \n",
       "min    1.000787e+07       0.000000  2.100070e+18              119.876654   \n",
       "25%    1.069734e+07       1.000000  2.100070e+18              121.444628   \n",
       "50%    1.117511e+08       2.000000  2.100080e+18              121.523819   \n",
       "75%    1.187608e+08       4.000000  2.100080e+18              121.591983   \n",
       "max    1.259969e+08      16.000000  2.100080e+18              122.256382   \n",
       "\n",
       "       courier_wave_start_lat          date         group          level  \\\n",
       "count           509604.000000  5.096040e+05  5.096040e+05  509604.000000   \n",
       "mean                39.179724  2.020022e+07  1.496302e+17       2.607338   \n",
       "std                  0.114737  7.776252e+00  1.333406e+17       0.698855   \n",
       "min                 36.064995  2.020020e+07  2.020020e+16       0.000000   \n",
       "25%                 39.116955  2.020021e+07  2.020020e+16       2.000000   \n",
       "50%                 39.162378  2.020022e+07  2.020020e+17       3.000000   \n",
       "75%                 39.218092  2.020022e+07  2.020020e+17       3.000000   \n",
       "max                 39.705013  2.020023e+07  2.020020e+18       3.000000   \n",
       "\n",
       "               speed       max_load             id  source_tracking_id  \\\n",
       "count  509604.000000  509604.000000  509604.000000        5.096040e+05   \n",
       "mean        5.348056       8.980295  254801.500000        2.100076e+18   \n",
       "std         0.626070       2.028490  147110.147627        4.797965e+12   \n",
       "min         3.008735       1.000000       0.000000        2.100070e+18   \n",
       "25%         4.868302       8.000000  127400.750000        2.100070e+18   \n",
       "50%         5.458097       9.000000  254801.500000        2.100080e+18   \n",
       "75%         5.779434      10.000000  382202.250000        2.100080e+18   \n",
       "max         6.943103      19.000000  509603.000000        2.100080e+18   \n",
       "\n",
       "          source_lng     source_lat     target_lng     target_lat  \\\n",
       "count  509604.000000  509604.000000  509604.000000  509604.000000   \n",
       "mean      121.534923      39.179897     121.534882      39.179971   \n",
       "std         0.150718       0.113594       0.150752       0.113615   \n",
       "min       119.876654      36.064995     121.059274      38.826421   \n",
       "25%       121.444174      39.117340     121.444254      39.117201   \n",
       "50%       121.523930      39.161311     121.523587      39.161241   \n",
       "75%       121.591344      39.218011     121.591347      39.218921   \n",
       "max       122.260124      39.705013     122.260124      39.695211   \n",
       "\n",
       "       grid_distance  expected_use_time        urgency           hour  \n",
       "count  509604.000000      509604.000000  509604.000000  509604.000000  \n",
       "mean     1078.274900         441.655107    1572.033695      14.482592  \n",
       "std      1124.569317         405.080785    4344.556228       3.310272  \n",
       "min         0.000000           1.000000 -340771.000000       6.000000  \n",
       "25%       330.000000         189.000000     859.000000      12.000000  \n",
       "50%       869.000000         354.000000    1752.000000      14.000000  \n",
       "75%      1572.000000         584.000000    2590.000000      17.000000  \n",
       "max    429173.000000        9246.000000   11345.000000      23.000000  "
      ]
     },
     "execution_count": 3,
     "metadata": {},
     "output_type": "execute_result"
    }
   ],
   "source": [
    "# see low variance variables and whether there exist some outliers\n",
    "df_train.describe()"
   ]
  },
  {
   "cell_type": "markdown",
   "id": "cb76a151",
   "metadata": {},
   "source": [
    "It seems that grid_distance has some outliers:\n",
    "\n",
    "grid_distance max_value is 429173 but 75% is just 1572.\n",
    "\n",
    "Next, we will remove those outliers."
   ]
  },
  {
   "cell_type": "code",
   "execution_count": 4,
   "id": "fc68182c",
   "metadata": {},
   "outputs": [],
   "source": [
    "# remove outliers\n",
    "df_train = df_train.drop(df_train[df_train.grid_distance>10000].index)"
   ]
  },
  {
   "cell_type": "code",
   "execution_count": 5,
   "id": "514e925c",
   "metadata": {},
   "outputs": [],
   "source": [
    "# down-sample randomly\n",
    "df = df_train.sample(n=10000,random_state=666,axis=0)\n",
    "\n",
    "# drop unreasonable variables and variables we can't use in test set\n",
    "df = df.drop(columns = ['courier_id', 'wave_index', 'tracking_id','date','group',\n",
    "                        'id','shop_id','aoi_id','source_tracking_id','expected_use_time'])\n",
    "\n",
    "# convert into numerical data\n",
    "df = pd.get_dummies(df, drop_first=True)\n",
    "df['action_type_DELIVERY'] = np.array(df['action_type_PICKUP']==0).astype(int)\n",
    "df = df.drop(columns=['action_type_PICKUP'])"
   ]
  },
  {
   "cell_type": "markdown",
   "id": "3b21c89b",
   "metadata": {},
   "source": [
    "# correlation visulization"
   ]
  },
  {
   "cell_type": "code",
   "execution_count": 6,
   "id": "2d5f1e4b",
   "metadata": {},
   "outputs": [
    {
     "data": {
      "text/plain": [
       "<AxesSubplot:>"
      ]
     },
     "execution_count": 6,
     "metadata": {},
     "output_type": "execute_result"
    },
    {
     "data": {
      "image/png": "[encoded data removed]",
      "text/plain": [
       "<Figure size 720x720 with 2 Axes>"
      ]
     },
     "metadata": {},
     "output_type": "display_data"
    }
   ],
   "source": [
    "# Standardize\n",
    "from sklearn.preprocessing import StandardScaler\n",
    "scaler = StandardScaler().fit(df)\n",
    "df_standard = scaler.transform(df)\n",
    "df_standard = pd.DataFrame(data=df_standard,columns=df.columns)\n",
    "\n",
    "df['grid_distance'] = df_standard['grid_distance'].values\n",
    "df['urgency'] = df_standard['urgency'].values\n",
    "\n",
    "\n",
    "fig = plt.figure(figsize=(10,10))\n",
    "sns.heatmap(df.corr())"
   ]
  },
  {
   "cell_type": "markdown",
   "id": "250b1de9",
   "metadata": {},
   "source": [
    "According to the figure above,the following sets of variables have strong correlation:\n",
    "\n",
    "    (courier_wave_start_lng,source_lng,target_lng), (courier_wave_start_lat, source_lat, target_lat)\n",
    "\n",
    "Additionally, the following variables are related to action_type_PICKUP more than 1%:\n",
    "\n",
    "    (urgency, grid_distance, source_type_PICKUP, source_type_DELIVERY, hour, level)\n",
    "   \n",
    "Therefore, we choose them as our independent variables."
   ]
  },
  {
   "cell_type": "code",
   "execution_count": 7,
   "id": "3aec942f",
   "metadata": {},
   "outputs": [],
   "source": [
    "# determine X and Y\n",
    "from sklearn.model_selection import train_test_split as tr_te_split\n",
    "X = df[['urgency','grid_distance','source_type_PICKUP','source_type_DELIVERY','hour', 'level']]\n",
    "y = df['action_type_DELIVERY']\n",
    "X_train, X_test, y_train, y_test = tr_te_split(X, y, test_size=0.3, random_state=666)"
   ]
  },
  {
   "cell_type": "markdown",
   "id": "64759522",
   "metadata": {},
   "source": [
    "# Question(b)"
   ]
  },
  {
   "cell_type": "code",
   "execution_count": 8,
   "id": "d1c9681b",
   "metadata": {},
   "outputs": [
    {
     "name": "stdout",
     "output_type": "stream",
     "text": [
      "The best alpha parameter is {'C': 0.9}\n",
      "\n",
      "\n",
      "The corresponding R-squared is 0.7281.\n"
     ]
    }
   ],
   "source": [
    "from sklearn.model_selection import GridSearchCV\n",
    "from sklearn.linear_model import LogisticRegression as LogitReg\n",
    "\n",
    "LR = LogitReg(max_iter=10000)\n",
    "param_grid = [{'C':np.arange(0.1,1,0.1)}]\n",
    "grid = GridSearchCV(LR, param_grid,cv=5)\n",
    "grid.fit(X_train,y_train)\n",
    "print(\"The best alpha parameter is\",grid.best_params_) \n",
    "print('\\n') \n",
    "print(\"The corresponding R-squared is %0.4f.\" % grid.best_score_) "
   ]
  },
  {
   "cell_type": "code",
   "execution_count": 9,
   "id": "edb56df0",
   "metadata": {},
   "outputs": [
    {
     "name": "stdout",
     "output_type": "stream",
     "text": [
      "F1 score of classification baseline model is: 0.7253989361702129 \n",
      "MAE of classification baseline model is: 0.2753333333333333\n"
     ]
    }
   ],
   "source": [
    "from sklearn.metrics import f1_score\n",
    "from sklearn.metrics import mean_absolute_error\n",
    "LR = LogitReg(max_iter=10000,C=0.9).fit(X_train, y_train)\n",
    "y_pred = LR.predict(X_test)\n",
    "print('F1 score of classification baseline model is:',f1_score(y_test, y_pred),\n",
    "      '\\nMAE of classification baseline model is:',mean_absolute_error(y_test, y_pred))"
   ]
  },
  {
   "cell_type": "markdown",
   "id": "fb2c0f62",
   "metadata": {},
   "source": [
    "# Question(c)"
   ]
  },
  {
   "cell_type": "markdown",
   "id": "df40f2d6",
   "metadata": {},
   "source": [
    "K-NN"
   ]
  },
  {
   "cell_type": "code",
   "execution_count": 10,
   "id": "f659c596",
   "metadata": {},
   "outputs": [],
   "source": [
    "from sklearn.neighbors import KNeighborsClassifier\n",
    "# We use the mean and standard deviation of the training set to standardize both the training and testing sets.\n",
    "scaler = StandardScaler().fit(X_train)\n",
    "\n",
    "X_train_st = scaler.transform(X_train)\n",
    "\n",
    "X_test_st = scaler.transform(X_test)"
   ]
  },
  {
   "cell_type": "code",
   "execution_count": 11,
   "id": "c3ab9535",
   "metadata": {},
   "outputs": [],
   "source": [
    "knn_clf = KNeighborsClassifier(n_neighbors = 5).fit(X_train_st,y_train)\n",
    "pred_ret = knn_clf.predict(X_test_st)"
   ]
  },
  {
   "cell_type": "code",
   "execution_count": 12,
   "id": "7bb6a264",
   "metadata": {},
   "outputs": [
    {
     "name": "stdout",
     "output_type": "stream",
     "text": [
      "F1 score of K-NN model is: 0.7580174927113703 \n",
      "MAE of K-NN model is: 0.249\n"
     ]
    }
   ],
   "source": [
    "print('F1 score of K-NN model is:',f1_score(y_test, pred_ret),\n",
    "      '\\nMAE of K-NN model is:',mean_absolute_error(y_test, pred_ret))"
   ]
  },
  {
   "cell_type": "markdown",
   "id": "75b7df9b",
   "metadata": {},
   "source": [
    "Random forest"
   ]
  },
  {
   "cell_type": "code",
   "execution_count": 13,
   "id": "c3d58cee",
   "metadata": {},
   "outputs": [],
   "source": [
    "from sklearn.ensemble import RandomForestClassifier\n",
    "RF = RandomForestClassifier(n_estimators=100)\n",
    "RF.fit(X_train, y_train)\n",
    "RF_pred = RF.predict(X_test)"
   ]
  },
  {
   "cell_type": "code",
   "execution_count": 14,
   "id": "e663f3b9",
   "metadata": {},
   "outputs": [
    {
     "name": "stdout",
     "output_type": "stream",
     "text": [
      "F1 score of Random Forest model is: 0.763825634352635 \n",
      "MAE of Random Forest model is: 0.242\n"
     ]
    }
   ],
   "source": [
    "print('F1 score of Random Forest model is:',f1_score(y_test, RF_pred ),\n",
    "      '\\nMAE of Random Forest model is:',mean_absolute_error(y_test, RF_pred ))"
   ]
  },
  {
   "cell_type": "markdown",
   "id": "426e7f83",
   "metadata": {},
   "source": [
    "XGBT"
   ]
  },
  {
   "cell_type": "code",
   "execution_count": 15,
   "id": "a0eebf41",
   "metadata": {},
   "outputs": [],
   "source": [
    "import xgboost as xgb\n",
    "xgb_reg = xgb.XGBClassifier(objective ='binary:logistic', eval_metric='logloss', colsample_bynode=0.8,use_label_encoder=False,\n",
    "                          learning_rate = 0.1, gamma = 0.001,max_depth = 5,  n_estimators = 50)\n",
    "\n",
    "xgb_reg.fit(X_train,y_train)\n",
    "preds = xgb_reg.predict(X_test)"
   ]
  },
  {
   "cell_type": "code",
   "execution_count": 16,
   "id": "7f6c0b14",
   "metadata": {},
   "outputs": [
    {
     "name": "stdout",
     "output_type": "stream",
     "text": [
      "F1 score of XGBT model is: 0.7988826815642459 \n",
      "MAE of XGBT model is: 0.216\n"
     ]
    }
   ],
   "source": [
    "print('F1 score of XGBT model is:',f1_score(y_test, preds),\n",
    "      '\\nMAE of XGBT model is:',mean_absolute_error(y_test, preds))"
   ]
  },
  {
   "cell_type": "markdown",
   "id": "d84fd76d",
   "metadata": {},
   "source": [
    "# Question(d)"
   ]
  },
  {
   "cell_type": "markdown",
   "id": "eff3bdf3",
   "metadata": {},
   "source": [
    "Polynomial Features"
   ]
  },
  {
   "cell_type": "code",
   "execution_count": 17,
   "id": "c10d147a",
   "metadata": {},
   "outputs": [
    {
     "name": "stdout",
     "output_type": "stream",
     "text": [
      "The out-of-sample R-squared with polynomial features and ridge regression is 0.7823.\n"
     ]
    }
   ],
   "source": [
    "from sklearn.pipeline import make_pipeline\n",
    "from sklearn.preprocessing import PolynomialFeatures\n",
    "from sklearn.linear_model import Ridge\n",
    "\n",
    "poly_pipe = make_pipeline(PolynomialFeatures(degree=1), xgb.XGBClassifier(objective ='binary:logistic', eval_metric='logloss', colsample_bynode=0.8,use_label_encoder=False,\n",
    "                          learning_rate = 0.1, gamma = 0.001,max_depth = 5,  n_estimators = 50))\n",
    "poly_pipe.fit(X_train, y_train)\n",
    "\n",
    "print(\"The out-of-sample R-squared with polynomial features and ridge regression is %0.4f.\"%poly_pipe.score(X_test, y_test))"
   ]
  },
  {
   "cell_type": "markdown",
   "id": "cd3ace8e",
   "metadata": {},
   "source": [
    "degree = 1,2,3 have very close R-squared, and degree = 1 is the highest, so we choose degree=1."
   ]
  },
  {
   "cell_type": "markdown",
   "id": "fda035af",
   "metadata": {},
   "source": [
    "Clustering"
   ]
  },
  {
   "cell_type": "code",
   "execution_count": 18,
   "id": "3d158706",
   "metadata": {},
   "outputs": [],
   "source": [
    "# obtain the geographic information\n",
    "courier_lat = df_standard['courier_wave_start_lat']\n",
    "courier_lng = df_standard['courier_wave_start_lng']\n",
    "target_lat = df_standard['target_lat']\n",
    "target_lng = df_standard['target_lng']\n",
    "source_lat = df_standard['source_lat']\n",
    "source_lng = df_standard['source_lng']"
   ]
  },
  {
   "cell_type": "code",
   "execution_count": 19,
   "id": "280a4cdb",
   "metadata": {},
   "outputs": [],
   "source": [
    "# combine lat and lng into location\n",
    "courier_location = list(map(lambda x,y: [x,y], courier_lng, courier_lat))\n",
    "target_location = list(map(lambda x,y: [x,y], target_lng, target_lat))\n",
    "source_location = list(map(lambda x,y: [x,y], source_lng, source_lat))"
   ]
  },
  {
   "cell_type": "code",
   "execution_count": 20,
   "id": "faef8a47",
   "metadata": {},
   "outputs": [],
   "source": [
    "# clustering locations\n",
    "from sklearn.cluster import AgglomerativeClustering as HieClustering\n",
    "\n",
    "clustering1 = HieClustering(n_clusters=3,linkage='ward').fit(courier_location)\n",
    "courier_cluster = clustering1.labels_\n",
    "\n",
    "clustering2 = HieClustering(n_clusters=3,linkage='ward').fit(target_location)\n",
    "target_cluster = clustering2.labels_\n",
    "\n",
    "clustering3 = HieClustering(n_clusters=3,linkage='ward').fit(source_location)\n",
    "source_cluster = clustering3.labels_\n",
    "\n",
    "# add and refit the RandomForest model\n",
    "df['courier_geo'] = courier_cluster\n",
    "df['target_geo'] = target_cluster\n",
    "df['source_geo'] = source_cluster"
   ]
  },
  {
   "cell_type": "markdown",
   "id": "70ddc0a3",
   "metadata": {},
   "source": [
    "Feature Selection"
   ]
  },
  {
   "cell_type": "code",
   "execution_count": 21,
   "id": "731097f1",
   "metadata": {},
   "outputs": [
    {
     "name": "stdout",
     "output_type": "stream",
     "text": [
      "The the support of the selected features are:  [False False False False False False False  True  True  True  True False\n",
      " False  True  True  True  True False False False False False False False\n",
      " False False]\n",
      "\n",
      "\n",
      "The selected features are:  Index(['target_lng', 'target_lat', 'grid_distance', 'urgency',\n",
      "       'weather_grade_Slightly Bad Weather', 'weather_grade_Very Bad Weather',\n",
      "       'source_type_DELIVERY', 'source_type_PICKUP'],\n",
      "      dtype='object')\n"
     ]
    }
   ],
   "source": [
    "from sklearn.feature_selection import RFECV\n",
    "\n",
    "# add geographic info\n",
    "geo = df[['courier_geo','target_geo','source_geo']]\n",
    "scaler.fit(geo)\n",
    "geo = scaler.transform(geo)\n",
    "geo = pd.DataFrame(data=geo,columns=['courier_geo','target_geo','source_geo'])\n",
    "df_standard['courier_geo'] = geo.courier_geo.values\n",
    "df_standard['target_geo'] = geo.target_geo.values\n",
    "df_standard['source_geo'] = geo.source_geo.values\n",
    "df_standard = pd.get_dummies(df_standard,columns=['courier_geo','target_geo','source_geo'])\n",
    "X_train_scaled = df_standard.drop(columns=['action_type_DELIVERY'])\n",
    "\n",
    "# Use xgbc as the model for RFE and CV.\n",
    "\n",
    "rfe = RFECV(xgb.XGBClassifier(objective ='binary:logistic', eval_metric='logloss', colsample_bynode=0.8,use_label_encoder=False,\n",
    "                          learning_rate = 0.1, gamma = 0.001,max_depth = 15,  n_estimators = 100), cv=10)\n",
    "\n",
    "rfe.fit(X_train_scaled, y)\n",
    "\n",
    "print(\"The the support of the selected features are: \",rfe.support_)\n",
    "\n",
    "print('\\n')\n",
    "\n",
    "print(\"The selected features are: \",df_standard.drop(columns=['action_type_DELIVERY']).columns[rfe.support_])"
   ]
  },
  {
   "cell_type": "code",
   "execution_count": 22,
   "id": "190fe1c4",
   "metadata": {},
   "outputs": [],
   "source": [
    "# fix the test data error\n",
    "df_test.loc[df_test[df_test['source_type']=='2.10E+18'].index,'source_type'] = df_test.loc[df_test[df_test['source_type']=='2.10E+18'].index,\n",
    "                                                                                           'source_tracking_id']\n",
    "\n",
    "# drop unreasonable variables and variables we can't use in test set\n",
    "df_train = df_train.drop(columns = ['courier_id', 'wave_index', 'tracking_id','date','group',\n",
    "                        'id','shop_id','aoi_id','source_tracking_id','expected_use_time'])\n",
    "df_test = df_test.drop(columns = ['courier_id', 'wave_index', 'tracking_id','date','group',\n",
    "                        'id','shop_id','aoi_id','source_tracking_id'])\n",
    "\n",
    "# convert into numerical data\n",
    "df_train = pd.get_dummies(df_train, drop_first=True)\n",
    "df_train['action_type_DELIVERY'] = np.array(df_train['action_type_PICKUP']==0).astype(int)\n",
    "df_train = df_train.drop(columns=['action_type_PICKUP'])\n",
    "\n",
    "df_test = pd.get_dummies(df_test, drop_first=True)"
   ]
  },
  {
   "cell_type": "code",
   "execution_count": 28,
   "id": "13084e1b",
   "metadata": {},
   "outputs": [],
   "source": [
    "X = df_train[['target_lng', 'target_lat', 'grid_distance', 'urgency',\n",
    "       'weather_grade_Slightly Bad Weather', 'weather_grade_Very Bad Weather',\n",
    "       'source_type_DELIVERY', 'source_type_PICKUP']]\n",
    "y = df_train['action_type_DELIVERY'].ravel()\n",
    "X_train, X_test, y_train, y_test = tr_te_split(X, y, test_size=0.3, random_state=666)"
   ]
  },
  {
   "cell_type": "code",
   "execution_count": 29,
   "id": "bfc8b5c0",
   "metadata": {},
   "outputs": [
    {
     "name": "stdout",
     "output_type": "stream",
     "text": [
      "F1 score of XGBT model is: 0.9627017372950155 \n",
      "MAE of XGBT model is: 0.037565410779696495\n"
     ]
    }
   ],
   "source": [
    "xgb_reg = xgb.XGBClassifier(objective ='binary:logistic', eval_metric='logloss', colsample_bynode=0.8,use_label_encoder=False,\n",
    "                          learning_rate = 0.1, gamma = 0.001,max_depth = 15,  n_estimators = 500)\n",
    "\n",
    "xgb_reg.fit(X_train,y_train)\n",
    "preds = xgb_reg.predict(X_test)\n",
    "\n",
    "print('F1 score of XGBT model is:',f1_score(y_test, preds),\n",
    "      '\\nMAE of XGBT model is:',mean_absolute_error(y_test, preds))"
   ]
  },
  {
   "cell_type": "markdown",
   "id": "37ba7930",
   "metadata": {},
   "source": [
    "# Question(e)"
   ]
  },
  {
   "cell_type": "code",
   "execution_count": 30,
   "id": "b3bf8a3f",
   "metadata": {},
   "outputs": [],
   "source": [
    "X_train = df_train[['target_lng', 'target_lat', 'grid_distance', 'urgency',\n",
    "       'weather_grade_Slightly Bad Weather', 'weather_grade_Very Bad Weather',\n",
    "       'source_type_DELIVERY', 'source_type_PICKUP']]\n",
    "y_train = df_train['action_type_DELIVERY'].ravel()\n",
    "X_test = df_test[['target_lng', 'target_lat', 'grid_distance', 'urgency',\n",
    "       'weather_grade_Slightly Bad Weather', 'weather_grade_Very Bad Weather',\n",
    "       'source_type_DELIVERY', 'source_type_PICKUP']]"
   ]
  },
  {
   "cell_type": "code",
   "execution_count": 31,
   "id": "7baa74b1",
   "metadata": {},
   "outputs": [],
   "source": [
    "xgb_reg = xgb.XGBClassifier(objective ='binary:logistic', eval_metric='logloss', colsample_bynode=0.8,use_label_encoder=False,\n",
    "                          learning_rate = 0.1, gamma = 0.001,max_depth = 15,  n_estimators = 500)\n",
    "xgb_reg.fit(X_train,y_train)\n",
    "preds = xgb_reg.predict(X_test)"
   ]
  },
  {
   "cell_type": "code",
   "execution_count": 32,
   "id": "60d4bade",
   "metadata": {},
   "outputs": [],
   "source": [
    "submis = pd.DataFrame({'action_type_DELIVERY': preds})\n",
    "submis['order'] = submis.index.values\n",
    "submis = pd.DataFrame(submis,columns=['order','action_type_DELIVERY'])\n",
    "submis.to_csv('classification.csv',index=0)"
   ]
  },
  {
   "cell_type": "code",
   "execution_count": null,
   "id": "088eb26e",
   "metadata": {},
   "outputs": [],
   "source": []
  }
 ],
 "metadata": {
  "kernelspec": {
   "display_name": "Python 3 (ipykernel)",
   "language": "python",
   "name": "python3"
  },
  "language_info": {
   "codemirror_mode": {
    "name": "ipython",
    "version": 3
   },
   "file_extension": ".py",
   "mimetype": "text/x-python",
   "name": "python",
   "nbconvert_exporter": "python",
   "pygments_lexer": "ipython3",
   "version": "3.9.7"
  }
 },
 "nbformat": 4,
 "nbformat_minor": 5
}
